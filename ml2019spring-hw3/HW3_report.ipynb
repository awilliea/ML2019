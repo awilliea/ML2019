{
 "cells": [
  {
   "cell_type": "code",
   "execution_count": 1,
   "metadata": {},
   "outputs": [
    {
     "name": "stderr",
     "output_type": "stream",
     "text": [
      "Using TensorFlow backend.\n"
     ]
    }
   ],
   "source": [
    "import tensorflow as tf\n",
    "import keras.backend.tensorflow_backend as KTF\n",
    "import pandas as pd\n",
    "import numpy as np\n",
    "from keras.utils import to_categorical\n",
    "config = tf.ConfigProto()  \n",
    "config.gpu_options.allow_growth=True   #不全部占满显存, 按需分配\n",
    "session = tf.Session(config=config)\n",
    "\n",
    "# 设置session\n",
    "KTF.set_session(session)"
   ]
  },
  {
   "cell_type": "code",
   "execution_count": 2,
   "metadata": {},
   "outputs": [],
   "source": [
    "from keras import initializers, regularizers\n",
    "from keras.models import Sequential\n",
    "from keras.layers import Dense, Activation, Convolution2D, MaxPooling2D, Dropout, Flatten\n",
    "from keras.optimizers import Adam\n",
    "from keras.layers.normalization import BatchNormalization\n",
    "from keras.callbacks import CSVLogger\n",
    "from keras.preprocessing.image import ImageDataGenerator"
   ]
  },
  {
   "cell_type": "code",
   "execution_count": 16,
   "metadata": {
    "collapsed": true
   },
   "outputs": [],
   "source": [
    "import matplotlib.pyplot as plt"
   ]
  },
  {
   "cell_type": "markdown",
   "metadata": {},
   "source": [
    "### Load data "
   ]
  },
  {
   "cell_type": "code",
   "execution_count": 3,
   "metadata": {
    "collapsed": true
   },
   "outputs": [],
   "source": [
    "train = pd.read_csv('train.csv',engine='python')\n",
    "test = pd.read_csv('test.csv',engine='python')"
   ]
  },
  {
   "cell_type": "code",
   "execution_count": 4,
   "metadata": {
    "collapsed": true
   },
   "outputs": [],
   "source": [
    "def preprocess_y(train):\n",
    "    train_y = pd.to_numeric(train['label'])\n",
    "    train_y = to_categorical(train_y)\n",
    "    return train_y\n",
    "\n",
    "def preprocess_x(train):\n",
    "    train_x = []\n",
    "    for f in train['feature']:\n",
    "        temp = np.array(f.split(' ')).astype(int)\n",
    "        train_x.append(temp)\n",
    "\n",
    "    train_x = np.array(train_x)\n",
    "    train_x = train_x.reshape((train_x.shape[0],48,48,1))\n",
    "    return train_x"
   ]
  },
  {
   "cell_type": "code",
   "execution_count": 5,
   "metadata": {
    "collapsed": true
   },
   "outputs": [],
   "source": [
    "train_x = preprocess_x(train)\n",
    "test_x = preprocess_x(test)\n",
    "train_y = preprocess_y(train)"
   ]
  },
  {
   "cell_type": "code",
   "execution_count": 6,
   "metadata": {
    "collapsed": true
   },
   "outputs": [],
   "source": [
    "floatZoomRange = 0.2\n",
    "genTrain = ImageDataGenerator(rotation_range=25,\n",
    "                                       width_shift_range=0.1,\n",
    "                                       height_shift_range=0.1,\n",
    "                                       shear_range=0.1, # 水平或垂直投影變換\n",
    "                                       zoom_range=[1-floatZoomRange, 1+floatZoomRange], # 按比例隨機縮放圖像尺寸\n",
    "                                       horizontal_flip=True)\n",
    "genTrain.fit(train_x)"
   ]
  },
  {
   "cell_type": "code",
   "execution_count": 14,
   "metadata": {
    "collapsed": true
   },
   "outputs": [],
   "source": [
    "def output_result(filename,predict_value):\n",
    "    id_ = []\n",
    "    for i in range(predict_value.shape[0]):\n",
    "        id_.append(i)\n",
    "    output = pd.DataFrame(columns=['id','label'])\n",
    "    output['id'] = id_\n",
    "    output['label'] = predict_value\n",
    "    output.to_csv(filename,index = False)\n",
    "    \n",
    "    print(output.head())"
   ]
  },
  {
   "cell_type": "code",
   "execution_count": 7,
   "metadata": {
    "collapsed": true
   },
   "outputs": [],
   "source": [
    "def get_new_CNN_model():\n",
    "    model = Sequential() # initializing CNN\n",
    "    model.add(Convolution2D(64, kernel_size=3, strides=1, padding=\"same\", input_shape=(48, 48, 1), kernel_initializer=initializers.he_normal(seed=None)))\n",
    "    model.add(BatchNormalization(axis=-1))\n",
    "    model.add(Activation(\"relu\"))\n",
    "    model.add(MaxPooling2D(pool_size=(2, 2), strides=2))\n",
    "    model.add(Dropout(0.3))\n",
    "\n",
    "    model.add(Convolution2D(128, kernel_size=3, strides=1, padding=\"same\", kernel_initializer=initializers.he_normal(seed=None)))\n",
    "    model.add(BatchNormalization(axis=-1))\n",
    "    model.add(Activation(\"relu\"))\n",
    "    model.add(MaxPooling2D(pool_size=(2, 2), strides=2))\n",
    "    model.add(Dropout(0.3))\n",
    "\n",
    "    model.add(Convolution2D(256, kernel_size=3, strides=1, padding=\"same\", kernel_initializer=initializers.he_normal(seed=None)))\n",
    "    model.add(BatchNormalization(axis=-1))\n",
    "    model.add(Activation(\"relu\"))\n",
    "    model.add(MaxPooling2D(pool_size=(2, 2), strides=2))\n",
    "    model.add(Dropout(0.3))\n",
    "\n",
    "    model.add(Convolution2D(512, kernel_size=3, strides=1, padding=\"same\", kernel_initializer=initializers.he_normal(seed=None)))\n",
    "    model.add(BatchNormalization(axis=-1))\n",
    "    model.add(Activation(\"relu\"))\n",
    "    model.add(MaxPooling2D(pool_size=(2, 2), strides=2))\n",
    "    model.add(Dropout(0.4))\n",
    "\n",
    "    model.add(Flatten())\n",
    "\n",
    "    model.add(Dense(512, kernel_initializer=initializers.he_normal(seed=None)))\n",
    "    model.add(BatchNormalization(axis=-1))\n",
    "    model.add(Activation(\"relu\"))\n",
    "    model.add(Dropout(0.5))\n",
    "\n",
    "    model.add(Dense(512, kernel_initializer=initializers.he_normal(seed=None)))\n",
    "    model.add(BatchNormalization(axis=-1))\n",
    "    model.add(Activation(\"relu\"))\n",
    "    model.add(Dropout(0.5))\n",
    "\n",
    "    model.add(Dense(7))\n",
    "    model.add(Activation(\"softmax\"))\n",
    "    optim = Adam()\n",
    "\n",
    "    model.compile(optimizer=optim, loss=\"categorical_crossentropy\", metrics=[\"accuracy\"])\n",
    "    return model"
   ]
  },
  {
   "cell_type": "code",
   "execution_count": 8,
   "metadata": {
    "collapsed": true
   },
   "outputs": [],
   "source": [
    "def get_new_DNN_model():\n",
    "    model = Sequential() # initializing CNN\n",
    "    model.add(Flatten(input_shape=(48, 48, 1)))\n",
    "\n",
    "    model.add(Dense(1024))\n",
    "    model.add(BatchNormalization(axis=-1))\n",
    "    model.add(Activation(\"relu\"))\n",
    "    model.add(Dropout(0.5))\n",
    "\n",
    "    model.add(Dense(1024))\n",
    "    model.add(BatchNormalization(axis=-1))\n",
    "    model.add(Activation(\"relu\"))\n",
    "    model.add(Dropout(0.5))\n",
    "\n",
    "    model.add(Dense(1024))\n",
    "    model.add(BatchNormalization(axis=-1))\n",
    "    model.add(Activation(\"relu\"))\n",
    "    model.add(Dropout(0.5))\n",
    "\n",
    "    model.add(Dense(7))\n",
    "    model.add(Activation(\"softmax\"))\n",
    "    optim = Adam()\n",
    "    model.compile(optimizer=optim, loss=\"categorical_crossentropy\", metrics=[\"accuracy\"])\n",
    "    \n",
    "    return model"
   ]
  },
  {
   "cell_type": "code",
   "execution_count": 12,
   "metadata": {
    "collapsed": true
   },
   "outputs": [],
   "source": [
    "model_dnn = get_new_DNN_model()\n",
    "model_cnn = get_new_CNN_model()"
   ]
  },
  {
   "cell_type": "code",
   "execution_count": 13,
   "metadata": {
    "scrolled": true
   },
   "outputs": [
    {
     "name": "stdout",
     "output_type": "stream",
     "text": [
      "Train on 22967 samples, validate on 5742 samples\n",
      "Epoch 1/100\n",
      "22967/22967 [==============================] - 8s 330us/step - loss: 2.0615 - acc: 0.2351 - val_loss: 1.7835 - val_acc: 0.3069\n",
      "Epoch 2/100\n",
      "22967/22967 [==============================] - 6s 256us/step - loss: 1.7439 - acc: 0.3240 - val_loss: 1.6908 - val_acc: 0.3649\n",
      "Epoch 3/100\n",
      "22967/22967 [==============================] - 6s 255us/step - loss: 1.5847 - acc: 0.3822 - val_loss: 1.8482 - val_acc: 0.3558\n",
      "Epoch 4/100\n",
      "22967/22967 [==============================] - 6s 256us/step - loss: 1.4811 - acc: 0.4261 - val_loss: 1.6079 - val_acc: 0.4110\n",
      "Epoch 5/100\n",
      "22967/22967 [==============================] - 6s 256us/step - loss: 1.3999 - acc: 0.4603 - val_loss: 1.4910 - val_acc: 0.4411\n",
      "Epoch 6/100\n",
      "22967/22967 [==============================] - 6s 255us/step - loss: 1.3433 - acc: 0.4870 - val_loss: 1.3507 - val_acc: 0.4887\n",
      "Epoch 7/100\n",
      "22967/22967 [==============================] - 6s 258us/step - loss: 1.3027 - acc: 0.5000 - val_loss: 1.1932 - val_acc: 0.5486\n",
      "Epoch 8/100\n",
      "22967/22967 [==============================] - 6s 257us/step - loss: 1.2579 - acc: 0.5199 - val_loss: 1.2038 - val_acc: 0.5395\n",
      "Epoch 9/100\n",
      "22967/22967 [==============================] - 6s 255us/step - loss: 1.2326 - acc: 0.5298 - val_loss: 1.2085 - val_acc: 0.5427\n",
      "Epoch 10/100\n",
      "22967/22967 [==============================] - 6s 257us/step - loss: 1.1982 - acc: 0.5427 - val_loss: 1.1554 - val_acc: 0.5653\n",
      "Epoch 11/100\n",
      "22967/22967 [==============================] - 6s 257us/step - loss: 1.1790 - acc: 0.5478 - val_loss: 1.1280 - val_acc: 0.5738\n",
      "Epoch 12/100\n",
      "22967/22967 [==============================] - 6s 256us/step - loss: 1.1448 - acc: 0.5638 - val_loss: 1.1226 - val_acc: 0.5705\n",
      "Epoch 13/100\n",
      "22967/22967 [==============================] - 6s 256us/step - loss: 1.1212 - acc: 0.5729 - val_loss: 1.1185 - val_acc: 0.5782\n",
      "Epoch 14/100\n",
      "22967/22967 [==============================] - 6s 253us/step - loss: 1.0962 - acc: 0.5851 - val_loss: 1.0720 - val_acc: 0.5996\n",
      "Epoch 15/100\n",
      "22967/22967 [==============================] - 6s 256us/step - loss: 1.0739 - acc: 0.5889 - val_loss: 1.0682 - val_acc: 0.5937\n",
      "Epoch 16/100\n",
      "22967/22967 [==============================] - 6s 257us/step - loss: 1.0571 - acc: 0.5973 - val_loss: 1.0439 - val_acc: 0.6116\n",
      "Epoch 17/100\n",
      "22967/22967 [==============================] - 6s 256us/step - loss: 1.0324 - acc: 0.6105 - val_loss: 1.0549 - val_acc: 0.6078\n",
      "Epoch 18/100\n",
      "22967/22967 [==============================] - 6s 255us/step - loss: 1.0081 - acc: 0.6185 - val_loss: 1.0474 - val_acc: 0.6036\n",
      "Epoch 19/100\n",
      "22967/22967 [==============================] - 6s 256us/step - loss: 0.9833 - acc: 0.6271 - val_loss: 1.0564 - val_acc: 0.6036\n",
      "Epoch 20/100\n",
      "22967/22967 [==============================] - 6s 257us/step - loss: 0.9707 - acc: 0.6320 - val_loss: 1.1526 - val_acc: 0.5855\n",
      "Epoch 21/100\n",
      "22967/22967 [==============================] - 6s 255us/step - loss: 0.9452 - acc: 0.6426 - val_loss: 1.0463 - val_acc: 0.6054\n",
      "Epoch 22/100\n",
      "22967/22967 [==============================] - 6s 257us/step - loss: 0.9180 - acc: 0.6532 - val_loss: 1.0554 - val_acc: 0.5982\n",
      "Epoch 23/100\n",
      "22967/22967 [==============================] - 6s 256us/step - loss: 0.9013 - acc: 0.6610 - val_loss: 1.0509 - val_acc: 0.6135\n",
      "Epoch 24/100\n",
      "22967/22967 [==============================] - 6s 255us/step - loss: 0.8770 - acc: 0.6701 - val_loss: 1.0579 - val_acc: 0.6252\n",
      "Epoch 25/100\n",
      "22967/22967 [==============================] - 6s 257us/step - loss: 0.8533 - acc: 0.6796 - val_loss: 1.0144 - val_acc: 0.6245\n",
      "Epoch 26/100\n",
      "22967/22967 [==============================] - 6s 255us/step - loss: 0.8371 - acc: 0.6849 - val_loss: 1.0504 - val_acc: 0.6284\n",
      "Epoch 27/100\n",
      "22967/22967 [==============================] - 6s 256us/step - loss: 0.8217 - acc: 0.6922 - val_loss: 1.0206 - val_acc: 0.6256\n",
      "Epoch 28/100\n",
      "22967/22967 [==============================] - 6s 257us/step - loss: 0.7896 - acc: 0.7036 - val_loss: 1.0339 - val_acc: 0.6249\n",
      "Epoch 29/100\n",
      "22967/22967 [==============================] - 6s 256us/step - loss: 0.7626 - acc: 0.7147 - val_loss: 1.0441 - val_acc: 0.6273\n",
      "Epoch 30/100\n",
      "22967/22967 [==============================] - 6s 258us/step - loss: 0.7497 - acc: 0.7209 - val_loss: 1.0338 - val_acc: 0.6346\n",
      "Epoch 31/100\n",
      "22967/22967 [==============================] - 6s 256us/step - loss: 0.7265 - acc: 0.7268 - val_loss: 1.0673 - val_acc: 0.6313\n",
      "Epoch 32/100\n",
      "22967/22967 [==============================] - 6s 256us/step - loss: 0.6995 - acc: 0.7390 - val_loss: 1.0223 - val_acc: 0.6259\n",
      "Epoch 33/100\n",
      "22967/22967 [==============================] - 6s 257us/step - loss: 0.6844 - acc: 0.7455 - val_loss: 1.0362 - val_acc: 0.6480\n",
      "Epoch 34/100\n",
      "22967/22967 [==============================] - 6s 256us/step - loss: 0.6698 - acc: 0.7513 - val_loss: 1.0909 - val_acc: 0.6360\n",
      "Epoch 35/100\n",
      "22967/22967 [==============================] - 6s 255us/step - loss: 0.6289 - acc: 0.7685 - val_loss: 1.0507 - val_acc: 0.6320\n",
      "Epoch 36/100\n",
      "22967/22967 [==============================] - 6s 254us/step - loss: 0.6230 - acc: 0.7711 - val_loss: 1.0886 - val_acc: 0.6385\n",
      "Epoch 37/100\n",
      "22967/22967 [==============================] - 6s 257us/step - loss: 0.6060 - acc: 0.7716 - val_loss: 1.0984 - val_acc: 0.6256\n",
      "Epoch 38/100\n",
      "22967/22967 [==============================] - 6s 256us/step - loss: 0.5805 - acc: 0.7864 - val_loss: 1.1255 - val_acc: 0.6275\n",
      "Epoch 39/100\n",
      "22967/22967 [==============================] - 6s 258us/step - loss: 0.5716 - acc: 0.7886 - val_loss: 1.1189 - val_acc: 0.6237\n",
      "Epoch 40/100\n",
      "22967/22967 [==============================] - 6s 257us/step - loss: 0.5513 - acc: 0.7954 - val_loss: 1.1465 - val_acc: 0.6343\n",
      "Epoch 41/100\n",
      "22967/22967 [==============================] - 6s 259us/step - loss: 0.5355 - acc: 0.8008 - val_loss: 1.1594 - val_acc: 0.6372\n",
      "Epoch 42/100\n",
      "22967/22967 [==============================] - 6s 256us/step - loss: 0.5083 - acc: 0.8148 - val_loss: 1.2048 - val_acc: 0.6219\n",
      "Epoch 43/100\n",
      "22967/22967 [==============================] - 6s 255us/step - loss: 0.5076 - acc: 0.8146 - val_loss: 1.2132 - val_acc: 0.6327\n",
      "Epoch 44/100\n",
      "22967/22967 [==============================] - 6s 257us/step - loss: 0.4895 - acc: 0.8193 - val_loss: 1.1845 - val_acc: 0.6414\n",
      "Epoch 45/100\n",
      "22967/22967 [==============================] - 6s 255us/step - loss: 0.4817 - acc: 0.8217 - val_loss: 1.1866 - val_acc: 0.6365\n",
      "Epoch 46/100\n",
      "22967/22967 [==============================] - 6s 256us/step - loss: 0.4586 - acc: 0.8346 - val_loss: 1.2145 - val_acc: 0.6256\n",
      "Epoch 47/100\n",
      "22967/22967 [==============================] - 6s 256us/step - loss: 0.4506 - acc: 0.8354 - val_loss: 1.2343 - val_acc: 0.6320\n",
      "Epoch 48/100\n",
      "22967/22967 [==============================] - 6s 256us/step - loss: 0.4491 - acc: 0.8334 - val_loss: 1.2088 - val_acc: 0.6320\n",
      "Epoch 49/100\n",
      "22967/22967 [==============================] - 6s 257us/step - loss: 0.4324 - acc: 0.8402 - val_loss: 1.2279 - val_acc: 0.6381\n",
      "Epoch 50/100\n",
      "22967/22967 [==============================] - 6s 257us/step - loss: 0.4123 - acc: 0.8512 - val_loss: 1.2629 - val_acc: 0.6381\n",
      "Epoch 51/100\n",
      "22967/22967 [==============================] - 6s 258us/step - loss: 0.4134 - acc: 0.8527 - val_loss: 1.2814 - val_acc: 0.6256\n",
      "Epoch 52/100\n",
      "22967/22967 [==============================] - 6s 256us/step - loss: 0.3997 - acc: 0.8544 - val_loss: 1.2122 - val_acc: 0.6392\n",
      "Epoch 53/100\n",
      "22967/22967 [==============================] - 6s 256us/step - loss: 0.3962 - acc: 0.8568 - val_loss: 1.2065 - val_acc: 0.6372\n",
      "Epoch 54/100\n",
      "22967/22967 [==============================] - 6s 255us/step - loss: 0.3753 - acc: 0.8637 - val_loss: 1.2944 - val_acc: 0.6332\n",
      "Epoch 55/100\n",
      "22967/22967 [==============================] - 6s 256us/step - loss: 0.3696 - acc: 0.8669 - val_loss: 1.2756 - val_acc: 0.6418\n",
      "Epoch 56/100\n",
      "22967/22967 [==============================] - 6s 258us/step - loss: 0.3562 - acc: 0.8730 - val_loss: 1.3315 - val_acc: 0.6425\n",
      "Epoch 57/100\n",
      "22967/22967 [==============================] - 6s 255us/step - loss: 0.3600 - acc: 0.8706 - val_loss: 1.2886 - val_acc: 0.6360\n",
      "Epoch 58/100\n",
      "22967/22967 [==============================] - 6s 257us/step - loss: 0.3409 - acc: 0.8773 - val_loss: 1.2686 - val_acc: 0.6385\n",
      "Epoch 59/100\n"
     ]
    },
    {
     "name": "stdout",
     "output_type": "stream",
     "text": [
      "22967/22967 [==============================] - 6s 254us/step - loss: 0.3434 - acc: 0.8760 - val_loss: 1.2692 - val_acc: 0.6372\n",
      "Epoch 60/100\n",
      "22967/22967 [==============================] - 6s 257us/step - loss: 0.3376 - acc: 0.8753 - val_loss: 1.2917 - val_acc: 0.6367\n",
      "Epoch 61/100\n",
      "22967/22967 [==============================] - 6s 255us/step - loss: 0.3338 - acc: 0.8783 - val_loss: 1.3046 - val_acc: 0.6428\n",
      "Epoch 62/100\n",
      "22967/22967 [==============================] - 6s 257us/step - loss: 0.3223 - acc: 0.8841 - val_loss: 1.3821 - val_acc: 0.6325\n",
      "Epoch 63/100\n",
      "22967/22967 [==============================] - 6s 257us/step - loss: 0.3163 - acc: 0.8850 - val_loss: 1.2974 - val_acc: 0.6461\n",
      "Epoch 64/100\n",
      "22967/22967 [==============================] - 6s 255us/step - loss: 0.3073 - acc: 0.8901 - val_loss: 1.3185 - val_acc: 0.6388\n",
      "Epoch 65/100\n",
      "22967/22967 [==============================] - 6s 255us/step - loss: 0.3035 - acc: 0.8906 - val_loss: 1.4061 - val_acc: 0.6285\n",
      "Epoch 66/100\n",
      "22967/22967 [==============================] - 6s 256us/step - loss: 0.2972 - acc: 0.8945 - val_loss: 1.4087 - val_acc: 0.6282\n",
      "Epoch 67/100\n",
      "22967/22967 [==============================] - 6s 257us/step - loss: 0.3002 - acc: 0.8945 - val_loss: 1.3435 - val_acc: 0.6421\n",
      "Epoch 68/100\n",
      "22967/22967 [==============================] - 6s 256us/step - loss: 0.2929 - acc: 0.8955 - val_loss: 1.4236 - val_acc: 0.6392\n",
      "Epoch 69/100\n",
      "22967/22967 [==============================] - 6s 255us/step - loss: 0.2960 - acc: 0.8927 - val_loss: 1.4372 - val_acc: 0.6357\n",
      "Epoch 70/100\n",
      "22967/22967 [==============================] - 6s 254us/step - loss: 0.2813 - acc: 0.9003 - val_loss: 1.3663 - val_acc: 0.6398\n",
      "Epoch 71/100\n",
      "22967/22967 [==============================] - 6s 255us/step - loss: 0.2746 - acc: 0.9021 - val_loss: 1.4324 - val_acc: 0.6324\n",
      "Epoch 72/100\n",
      "22967/22967 [==============================] - 6s 258us/step - loss: 0.2759 - acc: 0.8986 - val_loss: 1.4405 - val_acc: 0.6362\n",
      "Epoch 73/100\n",
      "22967/22967 [==============================] - 6s 256us/step - loss: 0.2631 - acc: 0.9050 - val_loss: 1.4017 - val_acc: 0.6433\n",
      "Epoch 74/100\n",
      "22967/22967 [==============================] - 6s 254us/step - loss: 0.2680 - acc: 0.9039 - val_loss: 1.4227 - val_acc: 0.6419\n",
      "Epoch 75/100\n",
      "22967/22967 [==============================] - 6s 256us/step - loss: 0.2640 - acc: 0.9047 - val_loss: 1.4150 - val_acc: 0.6423\n",
      "Epoch 76/100\n",
      "22967/22967 [==============================] - 6s 254us/step - loss: 0.2566 - acc: 0.9077 - val_loss: 1.4388 - val_acc: 0.6348\n",
      "Epoch 77/100\n",
      "22967/22967 [==============================] - 6s 259us/step - loss: 0.2529 - acc: 0.9112 - val_loss: 1.4933 - val_acc: 0.6331\n",
      "Epoch 78/100\n",
      "22967/22967 [==============================] - 6s 257us/step - loss: 0.2567 - acc: 0.9095 - val_loss: 1.4454 - val_acc: 0.6266\n",
      "Epoch 79/100\n",
      "22967/22967 [==============================] - 6s 256us/step - loss: 0.2604 - acc: 0.9073 - val_loss: 1.4284 - val_acc: 0.6322\n",
      "Epoch 80/100\n",
      "22967/22967 [==============================] - 6s 256us/step - loss: 0.2468 - acc: 0.9133 - val_loss: 1.4567 - val_acc: 0.6392\n",
      "Epoch 81/100\n",
      "22967/22967 [==============================] - 6s 256us/step - loss: 0.2462 - acc: 0.9120 - val_loss: 1.4652 - val_acc: 0.6407\n",
      "Epoch 82/100\n",
      "22967/22967 [==============================] - 6s 256us/step - loss: 0.2361 - acc: 0.9171 - val_loss: 1.4456 - val_acc: 0.6334\n",
      "Epoch 83/100\n",
      "22967/22967 [==============================] - 6s 255us/step - loss: 0.2347 - acc: 0.9169 - val_loss: 1.4842 - val_acc: 0.6402\n",
      "Epoch 84/100\n",
      "22967/22967 [==============================] - 6s 258us/step - loss: 0.2366 - acc: 0.9138 - val_loss: 1.5027 - val_acc: 0.6418\n",
      "Epoch 85/100\n",
      "22967/22967 [==============================] - 6s 256us/step - loss: 0.2280 - acc: 0.9194 - val_loss: 1.5009 - val_acc: 0.6412\n",
      "Epoch 86/100\n",
      "22967/22967 [==============================] - 6s 255us/step - loss: 0.2344 - acc: 0.9184 - val_loss: 1.4506 - val_acc: 0.6437\n",
      "Epoch 87/100\n",
      "22967/22967 [==============================] - 6s 260us/step - loss: 0.2257 - acc: 0.9211 - val_loss: 1.5093 - val_acc: 0.6433\n",
      "Epoch 88/100\n",
      "22967/22967 [==============================] - 6s 255us/step - loss: 0.2268 - acc: 0.9190 - val_loss: 1.4904 - val_acc: 0.6324\n",
      "Epoch 89/100\n",
      "22967/22967 [==============================] - 6s 255us/step - loss: 0.2375 - acc: 0.9144 - val_loss: 1.4811 - val_acc: 0.6454\n",
      "Epoch 90/100\n",
      "22967/22967 [==============================] - 6s 256us/step - loss: 0.2243 - acc: 0.9202 - val_loss: 1.5115 - val_acc: 0.6383\n",
      "Epoch 91/100\n",
      "22967/22967 [==============================] - 6s 258us/step - loss: 0.2171 - acc: 0.9223 - val_loss: 1.5445 - val_acc: 0.6310\n",
      "Epoch 92/100\n",
      "22967/22967 [==============================] - 6s 255us/step - loss: 0.2140 - acc: 0.9262 - val_loss: 1.5755 - val_acc: 0.6369\n",
      "Epoch 93/100\n",
      "22967/22967 [==============================] - 6s 256us/step - loss: 0.2077 - acc: 0.9270 - val_loss: 1.5745 - val_acc: 0.6324\n",
      "Epoch 94/100\n",
      "22967/22967 [==============================] - 6s 257us/step - loss: 0.2077 - acc: 0.9264 - val_loss: 1.4988 - val_acc: 0.6395\n",
      "Epoch 95/100\n",
      "22967/22967 [==============================] - 6s 256us/step - loss: 0.2106 - acc: 0.9253 - val_loss: 1.4905 - val_acc: 0.6378\n",
      "Epoch 96/100\n",
      "22967/22967 [==============================] - 6s 255us/step - loss: 0.2045 - acc: 0.9287 - val_loss: 1.5081 - val_acc: 0.6405\n",
      "Epoch 97/100\n",
      "22967/22967 [==============================] - 6s 254us/step - loss: 0.2038 - acc: 0.9287 - val_loss: 1.5528 - val_acc: 0.6416\n",
      "Epoch 98/100\n",
      "22967/22967 [==============================] - 6s 256us/step - loss: 0.2011 - acc: 0.9289 - val_loss: 1.5505 - val_acc: 0.6463\n",
      "Epoch 99/100\n",
      "22967/22967 [==============================] - 6s 257us/step - loss: 0.2025 - acc: 0.9288 - val_loss: 1.4967 - val_acc: 0.6351\n",
      "Epoch 100/100\n",
      "22967/22967 [==============================] - 6s 255us/step - loss: 0.1929 - acc: 0.9322 - val_loss: 1.6283 - val_acc: 0.6355\n"
     ]
    }
   ],
   "source": [
    "history_cnn = model_cnn.fit(train_x/255,train_y,batch_size=128,epochs=100,validation_split=0.2)"
   ]
  },
  {
   "cell_type": "code",
   "execution_count": 22,
   "metadata": {},
   "outputs": [
    {
     "data": {
      "image/png": "[encoded data removed]",
      "text/plain": [
       "<Figure size 432x288 with 1 Axes>"
      ]
     },
     "metadata": {},
     "output_type": "display_data"
    },
    {
     "data": {
      "image/png": "[encoded data removed]",
      "text/plain": [
       "<Figure size 432x288 with 1 Axes>"
      ]
     },
     "metadata": {},
     "output_type": "display_data"
    }
   ],
   "source": [
    "plt.plot(history_cnn.history['acc'])\n",
    "plt.plot(history_cnn.history['val_acc'])\n",
    "plt.title('model accuracy')\n",
    "plt.ylabel('accuracy')\n",
    "plt.xlabel('epoch')\n",
    "plt.legend(['train', 'val'], loc='upper left')\n",
    "plt.show()\n",
    "# summarize history for loss\n",
    "plt.plot(history_cnn.history['loss'])\n",
    "plt.plot(history_cnn.history['val_loss'])\n",
    "plt.title('model loss')\n",
    "plt.ylabel('loss')\n",
    "plt.xlabel('epoch')\n",
    "plt.legend(['train', 'val'], loc='upper left')\n",
    "plt.show()"
   ]
  },
  {
   "cell_type": "code",
   "execution_count": 19,
   "metadata": {
    "collapsed": true
   },
   "outputs": [],
   "source": [
    "pre_test_cnn = model_cnn.predict_classes(test_x/255,batch_size=128)"
   ]
  },
  {
   "cell_type": "code",
   "execution_count": 20,
   "metadata": {},
   "outputs": [
    {
     "name": "stdout",
     "output_type": "stream",
     "text": [
      "   id  label\n",
      "0   0      3\n",
      "1   1      4\n",
      "2   2      3\n",
      "3   3      5\n",
      "4   4      6\n"
     ]
    }
   ],
   "source": [
    "output_result('Report_q1_cnn.csv',pre_test_cnn)"
   ]
  },
  {
   "cell_type": "code",
   "execution_count": 21,
   "metadata": {},
   "outputs": [
    {
     "name": "stdout",
     "output_type": "stream",
     "text": [
      "Train on 22967 samples, validate on 5742 samples\n",
      "Epoch 1/100\n",
      "22967/22967 [==============================] - 2s 100us/step - loss: 2.0855 - acc: 0.2524 - val_loss: 1.8009 - val_acc: 0.2793\n",
      "Epoch 2/100\n",
      "22967/22967 [==============================] - 1s 48us/step - loss: 1.7814 - acc: 0.3093 - val_loss: 1.6766 - val_acc: 0.3548\n",
      "Epoch 3/100\n",
      "22967/22967 [==============================] - 1s 48us/step - loss: 1.6819 - acc: 0.3362 - val_loss: 1.6777 - val_acc: 0.3628\n",
      "Epoch 4/100\n",
      "22967/22967 [==============================] - 1s 48us/step - loss: 1.6359 - acc: 0.3621 - val_loss: 1.6447 - val_acc: 0.3607\n",
      "Epoch 5/100\n",
      "22967/22967 [==============================] - 1s 48us/step - loss: 1.5976 - acc: 0.3748 - val_loss: 1.6996 - val_acc: 0.2948\n",
      "Epoch 6/100\n",
      "22967/22967 [==============================] - 1s 48us/step - loss: 1.5702 - acc: 0.3873 - val_loss: 1.7071 - val_acc: 0.3103\n",
      "Epoch 7/100\n",
      "22967/22967 [==============================] - 1s 48us/step - loss: 1.5441 - acc: 0.3991 - val_loss: 1.6791 - val_acc: 0.3318\n",
      "Epoch 8/100\n",
      "22967/22967 [==============================] - 1s 48us/step - loss: 1.5298 - acc: 0.4047 - val_loss: 1.6312 - val_acc: 0.3361\n",
      "Epoch 9/100\n",
      "22967/22967 [==============================] - 1s 48us/step - loss: 1.5010 - acc: 0.4162 - val_loss: 1.7321 - val_acc: 0.2820\n",
      "Epoch 10/100\n",
      "22967/22967 [==============================] - 1s 49us/step - loss: 1.4860 - acc: 0.4236 - val_loss: 1.7234 - val_acc: 0.2588\n",
      "Epoch 11/100\n",
      "22967/22967 [==============================] - 1s 48us/step - loss: 1.4632 - acc: 0.4349 - val_loss: 1.6549 - val_acc: 0.3238\n",
      "Epoch 12/100\n",
      "22967/22967 [==============================] - 1s 48us/step - loss: 1.4468 - acc: 0.4407 - val_loss: 1.6730 - val_acc: 0.3042\n",
      "Epoch 13/100\n",
      "22967/22967 [==============================] - 1s 48us/step - loss: 1.4263 - acc: 0.4473 - val_loss: 1.7885 - val_acc: 0.2640\n",
      "Epoch 14/100\n",
      "22967/22967 [==============================] - 1s 48us/step - loss: 1.4067 - acc: 0.4582 - val_loss: 1.6783 - val_acc: 0.3185\n",
      "Epoch 15/100\n",
      "22967/22967 [==============================] - 1s 48us/step - loss: 1.3896 - acc: 0.4668 - val_loss: 1.6062 - val_acc: 0.3603\n",
      "Epoch 16/100\n",
      "22967/22967 [==============================] - 1s 48us/step - loss: 1.3731 - acc: 0.4708 - val_loss: 1.6583 - val_acc: 0.3177\n",
      "Epoch 17/100\n",
      "22967/22967 [==============================] - 1s 48us/step - loss: 1.3550 - acc: 0.4768 - val_loss: 1.8207 - val_acc: 0.2508\n",
      "Epoch 18/100\n",
      "22967/22967 [==============================] - 1s 48us/step - loss: 1.3421 - acc: 0.4838 - val_loss: 1.8107 - val_acc: 0.2470\n",
      "Epoch 19/100\n",
      "22967/22967 [==============================] - 1s 48us/step - loss: 1.3121 - acc: 0.4960 - val_loss: 1.7640 - val_acc: 0.2712\n",
      "Epoch 20/100\n",
      "22967/22967 [==============================] - 1s 48us/step - loss: 1.3038 - acc: 0.5014 - val_loss: 1.5853 - val_acc: 0.3748\n",
      "Epoch 21/100\n",
      "22967/22967 [==============================] - 1s 48us/step - loss: 1.2815 - acc: 0.5059 - val_loss: 1.6647 - val_acc: 0.3184\n",
      "Epoch 22/100\n",
      "22967/22967 [==============================] - 1s 48us/step - loss: 1.2608 - acc: 0.5144 - val_loss: 1.7282 - val_acc: 0.3058\n",
      "Epoch 23/100\n",
      "22967/22967 [==============================] - 1s 48us/step - loss: 1.2424 - acc: 0.5225 - val_loss: 1.6457 - val_acc: 0.3119\n",
      "Epoch 24/100\n",
      "22967/22967 [==============================] - 1s 48us/step - loss: 1.2191 - acc: 0.5349 - val_loss: 1.7025 - val_acc: 0.2933\n",
      "Epoch 25/100\n",
      "22967/22967 [==============================] - 1s 48us/step - loss: 1.2096 - acc: 0.5394 - val_loss: 1.6363 - val_acc: 0.3344\n",
      "Epoch 26/100\n",
      "22967/22967 [==============================] - 1s 48us/step - loss: 1.1863 - acc: 0.5486 - val_loss: 1.6409 - val_acc: 0.3497\n",
      "Epoch 27/100\n",
      "22967/22967 [==============================] - 1s 48us/step - loss: 1.1671 - acc: 0.5548 - val_loss: 1.7183 - val_acc: 0.3023\n",
      "Epoch 28/100\n",
      "22967/22967 [==============================] - 1s 48us/step - loss: 1.1486 - acc: 0.5618 - val_loss: 1.6354 - val_acc: 0.3488\n",
      "Epoch 29/100\n",
      "22967/22967 [==============================] - 1s 48us/step - loss: 1.1440 - acc: 0.5690 - val_loss: 1.7179 - val_acc: 0.2947\n",
      "Epoch 30/100\n",
      "22967/22967 [==============================] - 1s 48us/step - loss: 1.1157 - acc: 0.5763 - val_loss: 1.5414 - val_acc: 0.4086\n",
      "Epoch 31/100\n",
      "22967/22967 [==============================] - 1s 48us/step - loss: 1.0983 - acc: 0.5867 - val_loss: 1.6279 - val_acc: 0.3523\n",
      "Epoch 32/100\n",
      "22967/22967 [==============================] - 1s 48us/step - loss: 1.0749 - acc: 0.5932 - val_loss: 1.7615 - val_acc: 0.3126\n",
      "Epoch 33/100\n",
      "22967/22967 [==============================] - 1s 48us/step - loss: 1.0586 - acc: 0.6002 - val_loss: 1.6482 - val_acc: 0.3555\n",
      "Epoch 34/100\n",
      "22967/22967 [==============================] - 1s 48us/step - loss: 1.0411 - acc: 0.6060 - val_loss: 1.6951 - val_acc: 0.3250\n",
      "Epoch 35/100\n",
      "22967/22967 [==============================] - 1s 48us/step - loss: 1.0241 - acc: 0.6122 - val_loss: 1.6881 - val_acc: 0.3671\n",
      "Epoch 36/100\n",
      "22967/22967 [==============================] - 1s 48us/step - loss: 1.0076 - acc: 0.6205 - val_loss: 1.6551 - val_acc: 0.3584\n",
      "Epoch 37/100\n",
      "22967/22967 [==============================] - 1s 48us/step - loss: 0.9966 - acc: 0.6225 - val_loss: 1.6952 - val_acc: 0.3356\n",
      "Epoch 38/100\n",
      "22967/22967 [==============================] - 1s 48us/step - loss: 0.9746 - acc: 0.6317 - val_loss: 1.6802 - val_acc: 0.3534\n",
      "Epoch 39/100\n",
      "22967/22967 [==============================] - 1s 48us/step - loss: 0.9493 - acc: 0.6409 - val_loss: 1.7878 - val_acc: 0.3685\n",
      "Epoch 40/100\n",
      "22967/22967 [==============================] - 1s 48us/step - loss: 0.9441 - acc: 0.6472 - val_loss: 1.7684 - val_acc: 0.3339\n",
      "Epoch 41/100\n",
      "22967/22967 [==============================] - 1s 49us/step - loss: 0.9190 - acc: 0.6564 - val_loss: 1.8289 - val_acc: 0.2867\n",
      "Epoch 42/100\n",
      "22967/22967 [==============================] - 1s 48us/step - loss: 0.9217 - acc: 0.6553 - val_loss: 1.9291 - val_acc: 0.3382\n",
      "Epoch 43/100\n",
      "22967/22967 [==============================] - 1s 48us/step - loss: 0.8923 - acc: 0.6676 - val_loss: 1.7975 - val_acc: 0.3516\n",
      "Epoch 44/100\n",
      "22967/22967 [==============================] - 1s 48us/step - loss: 0.8838 - acc: 0.6687 - val_loss: 2.1112 - val_acc: 0.2478\n",
      "Epoch 45/100\n",
      "22967/22967 [==============================] - 1s 48us/step - loss: 0.8572 - acc: 0.6768 - val_loss: 1.7359 - val_acc: 0.3553\n",
      "Epoch 46/100\n",
      "22967/22967 [==============================] - 1s 48us/step - loss: 0.8521 - acc: 0.6806 - val_loss: 2.0035 - val_acc: 0.2820\n",
      "Epoch 47/100\n",
      "22967/22967 [==============================] - 1s 48us/step - loss: 0.8364 - acc: 0.6846 - val_loss: 1.6880 - val_acc: 0.3716\n",
      "Epoch 48/100\n",
      "22967/22967 [==============================] - 1s 48us/step - loss: 0.8197 - acc: 0.6898 - val_loss: 1.9552 - val_acc: 0.3638\n",
      "Epoch 49/100\n",
      "22967/22967 [==============================] - 1s 48us/step - loss: 0.8095 - acc: 0.6979 - val_loss: 1.9506 - val_acc: 0.3668\n",
      "Epoch 50/100\n",
      "22967/22967 [==============================] - 1s 48us/step - loss: 0.7939 - acc: 0.7037 - val_loss: 1.7458 - val_acc: 0.3605\n",
      "Epoch 51/100\n",
      "22967/22967 [==============================] - 1s 48us/step - loss: 0.7835 - acc: 0.7043 - val_loss: 1.7165 - val_acc: 0.3649\n",
      "Epoch 52/100\n",
      "22967/22967 [==============================] - 1s 48us/step - loss: 0.7719 - acc: 0.7103 - val_loss: 1.9353 - val_acc: 0.3511\n",
      "Epoch 53/100\n",
      "22967/22967 [==============================] - 1s 48us/step - loss: 0.7564 - acc: 0.7158 - val_loss: 1.7467 - val_acc: 0.3741\n",
      "Epoch 54/100\n",
      "22967/22967 [==============================] - 1s 48us/step - loss: 0.7489 - acc: 0.7226 - val_loss: 1.7756 - val_acc: 0.3635\n",
      "Epoch 55/100\n",
      "22967/22967 [==============================] - 1s 48us/step - loss: 0.7474 - acc: 0.7247 - val_loss: 2.1958 - val_acc: 0.3144\n",
      "Epoch 56/100\n",
      "22967/22967 [==============================] - 1s 48us/step - loss: 0.7180 - acc: 0.7351 - val_loss: 1.7464 - val_acc: 0.3654\n",
      "Epoch 57/100\n",
      "22967/22967 [==============================] - 1s 48us/step - loss: 0.7104 - acc: 0.7320 - val_loss: 2.0831 - val_acc: 0.3368\n",
      "Epoch 58/100\n",
      "22967/22967 [==============================] - 1s 48us/step - loss: 0.6978 - acc: 0.7434 - val_loss: 2.1455 - val_acc: 0.3046\n",
      "Epoch 59/100\n"
     ]
    },
    {
     "name": "stdout",
     "output_type": "stream",
     "text": [
      "22967/22967 [==============================] - 1s 49us/step - loss: 0.6985 - acc: 0.7424 - val_loss: 2.0547 - val_acc: 0.3398\n",
      "Epoch 60/100\n",
      "22967/22967 [==============================] - 1s 48us/step - loss: 0.6777 - acc: 0.7503 - val_loss: 2.0224 - val_acc: 0.3380\n",
      "Epoch 61/100\n",
      "22967/22967 [==============================] - 1s 48us/step - loss: 0.6857 - acc: 0.7471 - val_loss: 1.8391 - val_acc: 0.4046\n",
      "Epoch 62/100\n",
      "22967/22967 [==============================] - 1s 48us/step - loss: 0.6517 - acc: 0.7600 - val_loss: 1.8657 - val_acc: 0.3520\n",
      "Epoch 63/100\n",
      "22967/22967 [==============================] - 1s 48us/step - loss: 0.6551 - acc: 0.7576 - val_loss: 2.0479 - val_acc: 0.3372\n",
      "Epoch 64/100\n",
      "22967/22967 [==============================] - 1s 49us/step - loss: 0.6413 - acc: 0.7623 - val_loss: 2.0200 - val_acc: 0.3703\n",
      "Epoch 65/100\n",
      "22967/22967 [==============================] - 1s 48us/step - loss: 0.6316 - acc: 0.7670 - val_loss: 1.9318 - val_acc: 0.3765\n",
      "Epoch 66/100\n",
      "22967/22967 [==============================] - 1s 48us/step - loss: 0.6289 - acc: 0.7673 - val_loss: 2.1943 - val_acc: 0.3495\n",
      "Epoch 67/100\n",
      "22967/22967 [==============================] - 1s 48us/step - loss: 0.6136 - acc: 0.7741 - val_loss: 1.9584 - val_acc: 0.3842\n",
      "Epoch 68/100\n",
      "22967/22967 [==============================] - 1s 48us/step - loss: 0.6091 - acc: 0.7748 - val_loss: 1.8649 - val_acc: 0.3753\n",
      "Epoch 69/100\n",
      "22967/22967 [==============================] - 1s 48us/step - loss: 0.5948 - acc: 0.7819 - val_loss: 2.2521 - val_acc: 0.3676\n",
      "Epoch 70/100\n",
      "22967/22967 [==============================] - 1s 48us/step - loss: 0.5967 - acc: 0.7834 - val_loss: 1.9611 - val_acc: 0.3706\n",
      "Epoch 71/100\n",
      "22967/22967 [==============================] - 1s 48us/step - loss: 0.5952 - acc: 0.7836 - val_loss: 2.2299 - val_acc: 0.3539\n",
      "Epoch 72/100\n",
      "22967/22967 [==============================] - 1s 48us/step - loss: 0.5800 - acc: 0.7844 - val_loss: 1.9130 - val_acc: 0.3725\n",
      "Epoch 73/100\n",
      "22967/22967 [==============================] - 1s 48us/step - loss: 0.5682 - acc: 0.7941 - val_loss: 2.0143 - val_acc: 0.3851\n",
      "Epoch 74/100\n",
      "22967/22967 [==============================] - 1s 48us/step - loss: 0.5568 - acc: 0.7932 - val_loss: 2.1830 - val_acc: 0.3568\n",
      "Epoch 75/100\n",
      "22967/22967 [==============================] - 1s 48us/step - loss: 0.5590 - acc: 0.7937 - val_loss: 2.0434 - val_acc: 0.3577\n",
      "Epoch 76/100\n",
      "22967/22967 [==============================] - 1s 48us/step - loss: 0.5432 - acc: 0.8005 - val_loss: 2.2974 - val_acc: 0.3600\n",
      "Epoch 77/100\n",
      "22967/22967 [==============================] - 1s 48us/step - loss: 0.5357 - acc: 0.8021 - val_loss: 2.4126 - val_acc: 0.3316\n",
      "Epoch 78/100\n",
      "22967/22967 [==============================] - 1s 48us/step - loss: 0.5368 - acc: 0.8052 - val_loss: 2.0250 - val_acc: 0.3661\n",
      "Epoch 79/100\n",
      "22967/22967 [==============================] - 1s 48us/step - loss: 0.5277 - acc: 0.8055 - val_loss: 2.0023 - val_acc: 0.3953\n",
      "Epoch 80/100\n",
      "22967/22967 [==============================] - 1s 48us/step - loss: 0.5263 - acc: 0.8082 - val_loss: 2.0701 - val_acc: 0.3744\n",
      "Epoch 81/100\n",
      "22967/22967 [==============================] - 1s 48us/step - loss: 0.5249 - acc: 0.8080 - val_loss: 2.1947 - val_acc: 0.3676\n",
      "Epoch 82/100\n",
      "22967/22967 [==============================] - 1s 48us/step - loss: 0.5035 - acc: 0.8166 - val_loss: 2.9619 - val_acc: 0.2896\n",
      "Epoch 83/100\n",
      "22967/22967 [==============================] - 1s 48us/step - loss: 0.5078 - acc: 0.8168 - val_loss: 2.0128 - val_acc: 0.3817\n",
      "Epoch 84/100\n",
      "22967/22967 [==============================] - 1s 48us/step - loss: 0.5021 - acc: 0.8175 - val_loss: 2.2149 - val_acc: 0.3499\n",
      "Epoch 85/100\n",
      "22967/22967 [==============================] - 1s 48us/step - loss: 0.4900 - acc: 0.8224 - val_loss: 2.3217 - val_acc: 0.3746\n",
      "Epoch 86/100\n",
      "22967/22967 [==============================] - 1s 48us/step - loss: 0.5004 - acc: 0.8218 - val_loss: 2.1236 - val_acc: 0.3962\n",
      "Epoch 87/100\n",
      "22967/22967 [==============================] - 1s 48us/step - loss: 0.4811 - acc: 0.8254 - val_loss: 2.0455 - val_acc: 0.3908\n",
      "Epoch 88/100\n",
      "22967/22967 [==============================] - 1s 48us/step - loss: 0.4797 - acc: 0.8269 - val_loss: 2.0688 - val_acc: 0.3978\n",
      "Epoch 89/100\n",
      "22967/22967 [==============================] - 1s 48us/step - loss: 0.4761 - acc: 0.8263 - val_loss: 2.0735 - val_acc: 0.3723\n",
      "Epoch 90/100\n",
      "22967/22967 [==============================] - 1s 48us/step - loss: 0.4684 - acc: 0.8310 - val_loss: 2.0734 - val_acc: 0.3882\n",
      "Epoch 91/100\n",
      "22967/22967 [==============================] - 1s 48us/step - loss: 0.4760 - acc: 0.8288 - val_loss: 2.0531 - val_acc: 0.3776\n",
      "Epoch 92/100\n",
      "22967/22967 [==============================] - 1s 48us/step - loss: 0.4493 - acc: 0.8364 - val_loss: 2.3605 - val_acc: 0.3581\n",
      "Epoch 93/100\n",
      "22967/22967 [==============================] - 1s 48us/step - loss: 0.4566 - acc: 0.8365 - val_loss: 2.0985 - val_acc: 0.4201\n",
      "Epoch 94/100\n",
      "22967/22967 [==============================] - 1s 48us/step - loss: 0.4541 - acc: 0.8378 - val_loss: 2.1957 - val_acc: 0.3697\n",
      "Epoch 95/100\n",
      "22967/22967 [==============================] - 1s 48us/step - loss: 0.4471 - acc: 0.8411 - val_loss: 2.0055 - val_acc: 0.4046\n",
      "Epoch 96/100\n",
      "22967/22967 [==============================] - 1s 48us/step - loss: 0.4356 - acc: 0.8413 - val_loss: 2.2826 - val_acc: 0.3753\n",
      "Epoch 97/100\n",
      "22967/22967 [==============================] - 1s 48us/step - loss: 0.4266 - acc: 0.8470 - val_loss: 2.2756 - val_acc: 0.3863\n",
      "Epoch 98/100\n",
      "22967/22967 [==============================] - 1s 48us/step - loss: 0.4379 - acc: 0.8419 - val_loss: 2.2679 - val_acc: 0.3805\n",
      "Epoch 99/100\n",
      "22967/22967 [==============================] - 1s 48us/step - loss: 0.4356 - acc: 0.8439 - val_loss: 2.8688 - val_acc: 0.3189\n",
      "Epoch 100/100\n",
      "22967/22967 [==============================] - 1s 48us/step - loss: 0.4232 - acc: 0.8470 - val_loss: 2.5905 - val_acc: 0.3894\n"
     ]
    }
   ],
   "source": [
    "history_dnn = model_dnn.fit(train_x/255,train_y,batch_size=128,epochs=100,validation_split=0.2)"
   ]
  },
  {
   "cell_type": "code",
   "execution_count": 23,
   "metadata": {},
   "outputs": [
    {
     "data": {
      "image/png": "[encoded data removed]",
      "text/plain": [
       "<Figure size 432x288 with 1 Axes>"
      ]
     },
     "metadata": {},
     "output_type": "display_data"
    },
    {
     "data": {
      "image/png": "[encoded data removed]",
      "text/plain": [
       "<Figure size 432x288 with 1 Axes>"
      ]
     },
     "metadata": {},
     "output_type": "display_data"
    }
   ],
   "source": [
    "plt.plot(history_dnn.history['acc'])\n",
    "plt.plot(history_dnn.history['val_acc'])\n",
    "plt.title('model accuracy')\n",
    "plt.ylabel('accuracy')\n",
    "plt.xlabel('epoch')\n",
    "plt.legend(['train', 'val'], loc='upper left')\n",
    "plt.show()\n",
    "# summarize history for loss\n",
    "plt.plot(history_dnn.history['loss'])\n",
    "plt.plot(history_dnn.history['val_loss'])\n",
    "plt.title('model loss')\n",
    "plt.ylabel('loss')\n",
    "plt.xlabel('epoch')\n",
    "plt.legend(['train', 'val'], loc='upper left')\n",
    "plt.show()"
   ]
  },
  {
   "cell_type": "code",
   "execution_count": 24,
   "metadata": {
    "collapsed": true
   },
   "outputs": [],
   "source": [
    "pre_test_dnn = model_dnn.predict_classes(test_x/255,batch_size=128)"
   ]
  },
  {
   "cell_type": "code",
   "execution_count": 25,
   "metadata": {},
   "outputs": [
    {
     "name": "stdout",
     "output_type": "stream",
     "text": [
      "   id  label\n",
      "0   0      3\n",
      "1   1      3\n",
      "2   2      3\n",
      "3   3      3\n",
      "4   4      2\n"
     ]
    }
   ],
   "source": [
    "output_result('Report_q1_dnn.csv',pre_test_dnn)"
   ]
  },
  {
   "cell_type": "markdown",
   "metadata": {},
   "source": [
    "# Data normalization "
   ]
  },
  {
   "cell_type": "code",
   "execution_count": 26,
   "metadata": {
    "collapsed": true
   },
   "outputs": [],
   "source": [
    "model_cnn = get_new_CNN_model()"
   ]
  },
  {
   "cell_type": "code",
   "execution_count": 27,
   "metadata": {
    "scrolled": true
   },
   "outputs": [
    {
     "name": "stdout",
     "output_type": "stream",
     "text": [
      "Train on 22967 samples, validate on 5742 samples\n",
      "Epoch 1/100\n",
      "22967/22967 [==============================] - 8s 344us/step - loss: 2.0688 - acc: 0.2309 - val_loss: 1.7500 - val_acc: 0.2677\n",
      "Epoch 2/100\n",
      "22967/22967 [==============================] - 6s 261us/step - loss: 1.7506 - acc: 0.3195 - val_loss: 1.7856 - val_acc: 0.3462\n",
      "Epoch 3/100\n",
      "22967/22967 [==============================] - 6s 260us/step - loss: 1.5810 - acc: 0.3817 - val_loss: 1.7624 - val_acc: 0.3676\n",
      "Epoch 4/100\n",
      "22967/22967 [==============================] - 6s 259us/step - loss: 1.4799 - acc: 0.4301 - val_loss: 1.4798 - val_acc: 0.4399\n",
      "Epoch 5/100\n",
      "22967/22967 [==============================] - 6s 260us/step - loss: 1.3973 - acc: 0.4623 - val_loss: 1.3972 - val_acc: 0.4680\n",
      "Epoch 6/100\n",
      "22967/22967 [==============================] - 6s 260us/step - loss: 1.3437 - acc: 0.4854 - val_loss: 1.3691 - val_acc: 0.4728\n",
      "Epoch 7/100\n",
      "22967/22967 [==============================] - 6s 260us/step - loss: 1.2900 - acc: 0.5041 - val_loss: 1.3321 - val_acc: 0.4979\n",
      "Epoch 8/100\n",
      "22967/22967 [==============================] - 6s 258us/step - loss: 1.2549 - acc: 0.5180 - val_loss: 1.1815 - val_acc: 0.5571\n",
      "Epoch 9/100\n",
      "22967/22967 [==============================] - 6s 260us/step - loss: 1.2235 - acc: 0.5318 - val_loss: 1.1525 - val_acc: 0.5608\n",
      "Epoch 10/100\n",
      "22967/22967 [==============================] - 6s 261us/step - loss: 1.1974 - acc: 0.5445 - val_loss: 1.1642 - val_acc: 0.5601\n",
      "Epoch 11/100\n",
      "22967/22967 [==============================] - 6s 260us/step - loss: 1.1714 - acc: 0.5569 - val_loss: 1.1080 - val_acc: 0.5819\n",
      "Epoch 12/100\n",
      "22967/22967 [==============================] - 6s 258us/step - loss: 1.1394 - acc: 0.5665 - val_loss: 1.1108 - val_acc: 0.5782\n",
      "Epoch 13/100\n",
      "22967/22967 [==============================] - 6s 257us/step - loss: 1.1213 - acc: 0.5733 - val_loss: 1.0850 - val_acc: 0.5871\n",
      "Epoch 14/100\n",
      "22967/22967 [==============================] - 6s 261us/step - loss: 1.0981 - acc: 0.5828 - val_loss: 1.0897 - val_acc: 0.5862\n",
      "Epoch 15/100\n",
      "22967/22967 [==============================] - 6s 259us/step - loss: 1.0683 - acc: 0.5938 - val_loss: 1.0457 - val_acc: 0.6014\n",
      "Epoch 16/100\n",
      "22967/22967 [==============================] - 6s 259us/step - loss: 1.0554 - acc: 0.5991 - val_loss: 1.1506 - val_acc: 0.5639\n",
      "Epoch 17/100\n",
      "22967/22967 [==============================] - 6s 262us/step - loss: 1.0274 - acc: 0.6124 - val_loss: 1.1194 - val_acc: 0.5852\n",
      "Epoch 18/100\n",
      "22967/22967 [==============================] - 6s 260us/step - loss: 1.0036 - acc: 0.6186 - val_loss: 1.0650 - val_acc: 0.6007\n",
      "Epoch 19/100\n",
      "22967/22967 [==============================] - 6s 259us/step - loss: 0.9914 - acc: 0.6240 - val_loss: 1.0489 - val_acc: 0.6040\n",
      "Epoch 20/100\n",
      "22967/22967 [==============================] - 6s 261us/step - loss: 0.9622 - acc: 0.6371 - val_loss: 1.1057 - val_acc: 0.5909\n",
      "Epoch 21/100\n",
      "22967/22967 [==============================] - 6s 264us/step - loss: 0.9396 - acc: 0.6471 - val_loss: 1.0216 - val_acc: 0.6235\n",
      "Epoch 22/100\n",
      "22967/22967 [==============================] - 6s 259us/step - loss: 0.9176 - acc: 0.6552 - val_loss: 1.0740 - val_acc: 0.6130\n",
      "Epoch 23/100\n",
      "22967/22967 [==============================] - 6s 260us/step - loss: 0.8954 - acc: 0.6634 - val_loss: 1.1954 - val_acc: 0.5852\n",
      "Epoch 24/100\n",
      "22967/22967 [==============================] - 6s 258us/step - loss: 0.8761 - acc: 0.6720 - val_loss: 1.0662 - val_acc: 0.6129\n",
      "Epoch 25/100\n",
      "22967/22967 [==============================] - 6s 259us/step - loss: 0.8539 - acc: 0.6751 - val_loss: 1.0140 - val_acc: 0.6214\n",
      "Epoch 26/100\n",
      "22967/22967 [==============================] - 6s 259us/step - loss: 0.8294 - acc: 0.6886 - val_loss: 1.0055 - val_acc: 0.6343\n",
      "Epoch 27/100\n",
      "22967/22967 [==============================] - 6s 259us/step - loss: 0.8094 - acc: 0.6996 - val_loss: 0.9965 - val_acc: 0.6310\n",
      "Epoch 28/100\n",
      "22967/22967 [==============================] - 6s 260us/step - loss: 0.7794 - acc: 0.7054 - val_loss: 1.0667 - val_acc: 0.6214\n",
      "Epoch 29/100\n",
      "22967/22967 [==============================] - 6s 259us/step - loss: 0.7596 - acc: 0.7136 - val_loss: 1.0409 - val_acc: 0.6334\n",
      "Epoch 30/100\n",
      "22967/22967 [==============================] - 6s 259us/step - loss: 0.7461 - acc: 0.7192 - val_loss: 1.0313 - val_acc: 0.6285\n",
      "Epoch 31/100\n",
      "22967/22967 [==============================] - 6s 263us/step - loss: 0.7147 - acc: 0.7348 - val_loss: 1.0667 - val_acc: 0.6223\n",
      "Epoch 32/100\n",
      "22967/22967 [==============================] - 6s 260us/step - loss: 0.7016 - acc: 0.7372 - val_loss: 1.0280 - val_acc: 0.6405\n",
      "Epoch 33/100\n",
      "22967/22967 [==============================] - 6s 259us/step - loss: 0.6760 - acc: 0.7493 - val_loss: 1.0735 - val_acc: 0.6284\n",
      "Epoch 34/100\n",
      "22967/22967 [==============================] - 6s 261us/step - loss: 0.6621 - acc: 0.7541 - val_loss: 1.0316 - val_acc: 0.6360\n",
      "Epoch 35/100\n",
      "22967/22967 [==============================] - 6s 260us/step - loss: 0.6332 - acc: 0.7658 - val_loss: 1.0808 - val_acc: 0.6353\n",
      "Epoch 36/100\n",
      "22967/22967 [==============================] - 6s 259us/step - loss: 0.6118 - acc: 0.7738 - val_loss: 1.0735 - val_acc: 0.6480\n",
      "Epoch 37/100\n",
      "22967/22967 [==============================] - 6s 258us/step - loss: 0.6017 - acc: 0.7748 - val_loss: 1.0962 - val_acc: 0.6383\n",
      "Epoch 38/100\n",
      "22967/22967 [==============================] - 6s 259us/step - loss: 0.5857 - acc: 0.7816 - val_loss: 1.1150 - val_acc: 0.6388\n",
      "Epoch 39/100\n",
      "22967/22967 [==============================] - 6s 262us/step - loss: 0.5567 - acc: 0.7945 - val_loss: 1.1113 - val_acc: 0.6365\n",
      "Epoch 40/100\n",
      "22967/22967 [==============================] - 6s 260us/step - loss: 0.5399 - acc: 0.8002 - val_loss: 1.1520 - val_acc: 0.6268\n",
      "Epoch 41/100\n",
      "22967/22967 [==============================] - 6s 259us/step - loss: 0.5329 - acc: 0.8035 - val_loss: 1.1602 - val_acc: 0.6383\n",
      "Epoch 42/100\n",
      "22967/22967 [==============================] - 6s 262us/step - loss: 0.5181 - acc: 0.8072 - val_loss: 1.1519 - val_acc: 0.6341\n",
      "Epoch 43/100\n",
      "22967/22967 [==============================] - 6s 259us/step - loss: 0.4991 - acc: 0.8140 - val_loss: 1.2624 - val_acc: 0.6282\n",
      "Epoch 44/100\n",
      "22967/22967 [==============================] - 6s 258us/step - loss: 0.4853 - acc: 0.8200 - val_loss: 1.1770 - val_acc: 0.6405\n",
      "Epoch 45/100\n",
      "22967/22967 [==============================] - 6s 258us/step - loss: 0.4787 - acc: 0.8263 - val_loss: 1.1521 - val_acc: 0.6339\n",
      "Epoch 46/100\n",
      "22967/22967 [==============================] - 6s 259us/step - loss: 0.4673 - acc: 0.8268 - val_loss: 1.1814 - val_acc: 0.6393\n",
      "Epoch 47/100\n",
      "22967/22967 [==============================] - 6s 261us/step - loss: 0.4508 - acc: 0.8360 - val_loss: 1.1834 - val_acc: 0.6416\n",
      "Epoch 48/100\n",
      "22967/22967 [==============================] - 6s 260us/step - loss: 0.4328 - acc: 0.8425 - val_loss: 1.2079 - val_acc: 0.6355\n",
      "Epoch 49/100\n",
      "22967/22967 [==============================] - 6s 259us/step - loss: 0.4223 - acc: 0.8484 - val_loss: 1.3573 - val_acc: 0.6233\n",
      "Epoch 50/100\n",
      "22967/22967 [==============================] - 6s 261us/step - loss: 0.4212 - acc: 0.8460 - val_loss: 1.2834 - val_acc: 0.6346\n",
      "Epoch 51/100\n",
      "22967/22967 [==============================] - 6s 260us/step - loss: 0.4065 - acc: 0.8519 - val_loss: 1.2268 - val_acc: 0.6409\n",
      "Epoch 52/100\n",
      "22967/22967 [==============================] - 6s 259us/step - loss: 0.3886 - acc: 0.8617 - val_loss: 1.2171 - val_acc: 0.6445\n",
      "Epoch 53/100\n",
      "22967/22967 [==============================] - 6s 259us/step - loss: 0.3882 - acc: 0.8617 - val_loss: 1.2766 - val_acc: 0.6329\n",
      "Epoch 54/100\n",
      "22967/22967 [==============================] - 6s 260us/step - loss: 0.3815 - acc: 0.8591 - val_loss: 1.3832 - val_acc: 0.6336\n",
      "Epoch 55/100\n",
      "22967/22967 [==============================] - 6s 259us/step - loss: 0.3677 - acc: 0.8685 - val_loss: 1.3214 - val_acc: 0.6414\n",
      "Epoch 56/100\n",
      "22967/22967 [==============================] - 6s 260us/step - loss: 0.3552 - acc: 0.8706 - val_loss: 1.2764 - val_acc: 0.6393\n",
      "Epoch 57/100\n",
      "22967/22967 [==============================] - 6s 261us/step - loss: 0.3634 - acc: 0.8685 - val_loss: 1.3260 - val_acc: 0.6421\n",
      "Epoch 58/100\n",
      "22967/22967 [==============================] - 6s 260us/step - loss: 0.3453 - acc: 0.8748 - val_loss: 1.3239 - val_acc: 0.6367\n",
      "Epoch 59/100\n"
     ]
    },
    {
     "name": "stdout",
     "output_type": "stream",
     "text": [
      "22967/22967 [==============================] - 6s 260us/step - loss: 0.3411 - acc: 0.8800 - val_loss: 1.3350 - val_acc: 0.6405\n",
      "Epoch 60/100\n",
      "22967/22967 [==============================] - 6s 261us/step - loss: 0.3407 - acc: 0.8735 - val_loss: 1.3396 - val_acc: 0.6426\n",
      "Epoch 61/100\n",
      "22967/22967 [==============================] - 6s 263us/step - loss: 0.3262 - acc: 0.8819 - val_loss: 1.3460 - val_acc: 0.6428\n",
      "Epoch 62/100\n",
      "22967/22967 [==============================] - 6s 259us/step - loss: 0.3333 - acc: 0.8772 - val_loss: 1.3248 - val_acc: 0.6437\n",
      "Epoch 63/100\n",
      "22967/22967 [==============================] - 6s 260us/step - loss: 0.3102 - acc: 0.8898 - val_loss: 1.3783 - val_acc: 0.6454\n",
      "Epoch 64/100\n",
      "22967/22967 [==============================] - 6s 258us/step - loss: 0.3038 - acc: 0.8896 - val_loss: 1.3332 - val_acc: 0.6397\n",
      "Epoch 65/100\n",
      "22967/22967 [==============================] - 6s 258us/step - loss: 0.2974 - acc: 0.8935 - val_loss: 1.3647 - val_acc: 0.6409\n",
      "Epoch 66/100\n",
      "22967/22967 [==============================] - 6s 259us/step - loss: 0.3017 - acc: 0.8907 - val_loss: 1.3450 - val_acc: 0.6397\n",
      "Epoch 67/100\n",
      "22967/22967 [==============================] - 6s 259us/step - loss: 0.2903 - acc: 0.8958 - val_loss: 1.3684 - val_acc: 0.6407\n",
      "Epoch 68/100\n",
      "22967/22967 [==============================] - 6s 261us/step - loss: 0.2922 - acc: 0.8939 - val_loss: 1.4452 - val_acc: 0.6264\n",
      "Epoch 69/100\n",
      "22967/22967 [==============================] - 6s 258us/step - loss: 0.2852 - acc: 0.8973 - val_loss: 1.3958 - val_acc: 0.6472\n",
      "Epoch 70/100\n",
      "22967/22967 [==============================] - 6s 260us/step - loss: 0.2806 - acc: 0.8993 - val_loss: 1.4065 - val_acc: 0.6418\n",
      "Epoch 71/100\n",
      "22967/22967 [==============================] - 6s 261us/step - loss: 0.2772 - acc: 0.9009 - val_loss: 1.4119 - val_acc: 0.6395\n",
      "Epoch 72/100\n",
      "22967/22967 [==============================] - 6s 261us/step - loss: 0.2657 - acc: 0.9046 - val_loss: 1.4813 - val_acc: 0.6294\n",
      "Epoch 73/100\n",
      "22967/22967 [==============================] - 6s 257us/step - loss: 0.2754 - acc: 0.9028 - val_loss: 1.4384 - val_acc: 0.6329\n",
      "Epoch 74/100\n",
      "22967/22967 [==============================] - 6s 259us/step - loss: 0.2654 - acc: 0.9036 - val_loss: 1.4278 - val_acc: 0.6385\n",
      "Epoch 75/100\n",
      "22967/22967 [==============================] - 6s 259us/step - loss: 0.2690 - acc: 0.9032 - val_loss: 1.4347 - val_acc: 0.6358\n",
      "Epoch 76/100\n",
      "22967/22967 [==============================] - 6s 260us/step - loss: 0.2531 - acc: 0.9086 - val_loss: 1.4279 - val_acc: 0.6378\n",
      "Epoch 77/100\n",
      "22967/22967 [==============================] - 6s 261us/step - loss: 0.2475 - acc: 0.9117 - val_loss: 1.4915 - val_acc: 0.6445\n",
      "Epoch 78/100\n",
      "22967/22967 [==============================] - 6s 260us/step - loss: 0.2563 - acc: 0.9088 - val_loss: 1.4252 - val_acc: 0.6404\n",
      "Epoch 79/100\n",
      "22967/22967 [==============================] - 6s 262us/step - loss: 0.2469 - acc: 0.9114 - val_loss: 1.4764 - val_acc: 0.6318\n",
      "Epoch 80/100\n",
      "22967/22967 [==============================] - 6s 261us/step - loss: 0.2510 - acc: 0.9094 - val_loss: 1.4819 - val_acc: 0.6447\n",
      "Epoch 81/100\n",
      "22967/22967 [==============================] - 6s 260us/step - loss: 0.2370 - acc: 0.9162 - val_loss: 1.5592 - val_acc: 0.6320\n",
      "Epoch 82/100\n",
      "22967/22967 [==============================] - 6s 259us/step - loss: 0.2380 - acc: 0.9143 - val_loss: 1.5830 - val_acc: 0.6336\n",
      "Epoch 83/100\n",
      "22967/22967 [==============================] - 6s 259us/step - loss: 0.2369 - acc: 0.9168 - val_loss: 1.5291 - val_acc: 0.6426\n",
      "Epoch 84/100\n",
      "22967/22967 [==============================] - 6s 260us/step - loss: 0.2345 - acc: 0.9175 - val_loss: 1.6551 - val_acc: 0.6266\n",
      "Epoch 85/100\n",
      "22967/22967 [==============================] - 6s 258us/step - loss: 0.2335 - acc: 0.9163 - val_loss: 1.4631 - val_acc: 0.6336\n",
      "Epoch 86/100\n",
      "22967/22967 [==============================] - 6s 260us/step - loss: 0.2212 - acc: 0.9216 - val_loss: 1.4939 - val_acc: 0.6445\n",
      "Epoch 87/100\n",
      "22967/22967 [==============================] - 6s 261us/step - loss: 0.2271 - acc: 0.9195 - val_loss: 1.5538 - val_acc: 0.6414\n",
      "Epoch 88/100\n",
      "22967/22967 [==============================] - 6s 260us/step - loss: 0.2175 - acc: 0.9216 - val_loss: 1.5394 - val_acc: 0.6369\n",
      "Epoch 89/100\n",
      "22967/22967 [==============================] - 6s 259us/step - loss: 0.2213 - acc: 0.9228 - val_loss: 1.5320 - val_acc: 0.6404\n",
      "Epoch 90/100\n",
      "22967/22967 [==============================] - 6s 260us/step - loss: 0.2229 - acc: 0.9211 - val_loss: 1.5553 - val_acc: 0.6324\n",
      "Epoch 91/100\n",
      "22967/22967 [==============================] - 6s 261us/step - loss: 0.2207 - acc: 0.9232 - val_loss: 1.5388 - val_acc: 0.6371\n",
      "Epoch 92/100\n",
      "22967/22967 [==============================] - 6s 260us/step - loss: 0.2068 - acc: 0.9267 - val_loss: 1.5846 - val_acc: 0.6442\n",
      "Epoch 93/100\n",
      "22967/22967 [==============================] - 6s 261us/step - loss: 0.2143 - acc: 0.9248 - val_loss: 1.5632 - val_acc: 0.6296\n",
      "Epoch 94/100\n",
      "22967/22967 [==============================] - 6s 259us/step - loss: 0.2082 - acc: 0.9251 - val_loss: 1.5760 - val_acc: 0.6379\n",
      "Epoch 95/100\n",
      "22967/22967 [==============================] - 6s 259us/step - loss: 0.2102 - acc: 0.9271 - val_loss: 1.5365 - val_acc: 0.6390\n",
      "Epoch 96/100\n",
      "22967/22967 [==============================] - 6s 258us/step - loss: 0.2060 - acc: 0.9261 - val_loss: 1.5815 - val_acc: 0.6324\n",
      "Epoch 97/100\n",
      "22967/22967 [==============================] - 6s 259us/step - loss: 0.2065 - acc: 0.9258 - val_loss: 1.5646 - val_acc: 0.6350\n",
      "Epoch 98/100\n",
      "22967/22967 [==============================] - 6s 258us/step - loss: 0.1997 - acc: 0.9285 - val_loss: 1.5569 - val_acc: 0.6445\n",
      "Epoch 99/100\n",
      "22967/22967 [==============================] - 6s 259us/step - loss: 0.1990 - acc: 0.9289 - val_loss: 1.5657 - val_acc: 0.6400\n",
      "Epoch 100/100\n",
      "22967/22967 [==============================] - 6s 259us/step - loss: 0.1959 - acc: 0.9296 - val_loss: 1.6054 - val_acc: 0.6386\n"
     ]
    }
   ],
   "source": [
    "history_cnn_non = model_cnn.fit(train_x,train_y,batch_size=128,epochs=100,validation_split=0.2)"
   ]
  },
  {
   "cell_type": "code",
   "execution_count": 30,
   "metadata": {
    "collapsed": true
   },
   "outputs": [],
   "source": [
    "pre_test_cnn = model_cnn.predict_classes(test_x,batch_size=128)"
   ]
  },
  {
   "cell_type": "code",
   "execution_count": 31,
   "metadata": {},
   "outputs": [
    {
     "name": "stdout",
     "output_type": "stream",
     "text": [
      "   id  label\n",
      "0   0      3\n",
      "1   1      4\n",
      "2   2      3\n",
      "3   3      4\n",
      "4   4      0\n"
     ]
    }
   ],
   "source": [
    "output_result('Report_q3_cnn_non.csv',pre_test_cnn)"
   ]
  },
  {
   "cell_type": "code",
   "execution_count": null,
   "metadata": {
    "collapsed": true
   },
   "outputs": [],
   "source": []
  },
  {
   "cell_type": "markdown",
   "metadata": {},
   "source": [
    "# Data augmentation"
   ]
  },
  {
   "cell_type": "code",
   "execution_count": 39,
   "metadata": {
    "collapsed": true
   },
   "outputs": [],
   "source": [
    "model_cnn = get_new_CNN_model()"
   ]
  },
  {
   "cell_type": "code",
   "execution_count": null,
   "metadata": {
    "scrolled": true
   },
   "outputs": [
    {
     "name": "stdout",
     "output_type": "stream",
     "text": [
      "Epoch 1/100\n",
      "1121/1121 [==============================] - 34s 30ms/step - loss: 1.7594 - acc: 0.2953\n",
      "Epoch 2/100\n",
      "1121/1121 [==============================] - 34s 30ms/step - loss: 1.4483 - acc: 0.4394\n",
      "Epoch 3/100\n",
      "1121/1121 [==============================] - 34s 30ms/step - loss: 1.3132 - acc: 0.4971\n",
      "Epoch 4/100\n",
      "1121/1121 [==============================] - 34s 30ms/step - loss: 1.2391 - acc: 0.5284\n",
      "Epoch 5/100\n",
      "1121/1121 [==============================] - 34s 30ms/step - loss: 1.1923 - acc: 0.5458\n",
      "Epoch 6/100\n",
      "1121/1121 [==============================] - 34s 30ms/step - loss: 1.1487 - acc: 0.5630\n",
      "Epoch 7/100\n",
      "1121/1121 [==============================] - 34s 30ms/step - loss: 1.1199 - acc: 0.5744\n",
      "Epoch 8/100\n",
      "1121/1121 [==============================] - 34s 30ms/step - loss: 1.0979 - acc: 0.5844\n",
      "Epoch 9/100\n",
      "1121/1121 [==============================] - 34s 30ms/step - loss: 1.0750 - acc: 0.5916\n",
      "Epoch 10/100\n",
      "1121/1121 [==============================] - 49s 44ms/step - loss: 1.0585 - acc: 0.6013 0s - loss: 1.0582 - acc: 0.\n",
      "Epoch 11/100\n",
      "1121/1121 [==============================] - 49s 44ms/step - loss: 1.0437 - acc: 0.6057\n",
      "Epoch 12/100\n",
      "1121/1121 [==============================] - 49s 44ms/step - loss: 1.0307 - acc: 0.6116\n",
      "Epoch 13/100\n",
      "1121/1121 [==============================] - 49s 44ms/step - loss: 1.0165 - acc: 0.6159\n",
      "Epoch 14/100\n",
      "1121/1121 [==============================] - 49s 44ms/step - loss: 1.0065 - acc: 0.6220\n",
      "Epoch 15/100\n",
      "1121/1121 [==============================] - 50s 45ms/step - loss: 0.9950 - acc: 0.6243\n",
      "Epoch 16/100\n",
      "1121/1121 [==============================] - 51s 45ms/step - loss: 0.9880 - acc: 0.6270\n",
      "Epoch 17/100\n",
      "1121/1121 [==============================] - 50s 45ms/step - loss: 0.9801 - acc: 0.6326\n",
      "Epoch 18/100\n",
      "1121/1121 [==============================] - 51s 45ms/step - loss: 0.9683 - acc: 0.6360\n",
      "Epoch 19/100\n",
      "1121/1121 [==============================] - 50s 45ms/step - loss: 0.9587 - acc: 0.6396\n",
      "Epoch 20/100\n",
      "1121/1121 [==============================] - 50s 45ms/step - loss: 0.9566 - acc: 0.6404\n",
      "Epoch 21/100\n",
      "1121/1121 [==============================] - 51s 45ms/step - loss: 0.9498 - acc: 0.6431\n",
      "Epoch 22/100\n",
      "1121/1121 [==============================] - 49s 43ms/step - loss: 0.9428 - acc: 0.6447\n",
      "Epoch 23/100\n",
      "1121/1121 [==============================] - 50s 45ms/step - loss: 0.9366 - acc: 0.6480\n",
      "Epoch 24/100\n",
      "1121/1121 [==============================] - 49s 44ms/step - loss: 0.9313 - acc: 0.6492\n",
      "Epoch 25/100\n",
      "1121/1121 [==============================] - 50s 45ms/step - loss: 0.9243 - acc: 0.6536\n",
      "Epoch 26/100\n",
      "1121/1121 [==============================] - 51s 45ms/step - loss: 0.9170 - acc: 0.6551\n",
      "Epoch 27/100\n",
      "1121/1121 [==============================] - 51s 45ms/step - loss: 0.9116 - acc: 0.6572\n",
      "Epoch 28/100\n",
      "1121/1121 [==============================] - 50s 45ms/step - loss: 0.9082 - acc: 0.6595\n",
      "Epoch 29/100\n",
      "1121/1121 [==============================] - 51s 45ms/step - loss: 0.9035 - acc: 0.6587\n",
      "Epoch 30/100\n",
      "1121/1121 [==============================] - 51s 45ms/step - loss: 0.8981 - acc: 0.6623\n",
      "Epoch 31/100\n",
      "1121/1121 [==============================] - 51s 46ms/step - loss: 0.8954 - acc: 0.6639\n",
      "Epoch 32/100\n",
      "1121/1121 [==============================] - 50s 45ms/step - loss: 0.8890 - acc: 0.6669\n",
      "Epoch 33/100\n",
      "1121/1121 [==============================] - 50s 45ms/step - loss: 0.8871 - acc: 0.6676\n",
      "Epoch 34/100\n",
      "1121/1121 [==============================] - 51s 45ms/step - loss: 0.8793 - acc: 0.6687\n",
      "Epoch 35/100\n",
      "1121/1121 [==============================] - 50s 44ms/step - loss: 0.8785 - acc: 0.6692\n",
      "Epoch 36/100\n",
      "1121/1121 [==============================] - 51s 45ms/step - loss: 0.8717 - acc: 0.6722\n",
      "Epoch 37/100\n",
      "1121/1121 [==============================] - 50s 45ms/step - loss: 0.8685 - acc: 0.6732\n",
      "Epoch 38/100\n",
      "1121/1121 [==============================] - 49s 44ms/step - loss: 0.8684 - acc: 0.6742\n",
      "Epoch 39/100\n",
      "1121/1121 [==============================] - 52s 46ms/step - loss: 0.8582 - acc: 0.6780\n",
      "Epoch 40/100\n",
      "1121/1121 [==============================] - 50s 44ms/step - loss: 0.8595 - acc: 0.6755\n",
      "Epoch 41/100\n",
      "1121/1121 [==============================] - 50s 44ms/step - loss: 0.8585 - acc: 0.6784\n",
      "Epoch 42/100\n",
      "1121/1121 [==============================] - 49s 44ms/step - loss: 0.8466 - acc: 0.6825\n",
      "Epoch 43/100\n",
      "1121/1121 [==============================] - 50s 44ms/step - loss: 0.8484 - acc: 0.6816\n",
      "Epoch 44/100\n",
      "1085/1121 [============================>.] - ETA: 1s - loss: 0.8445 - acc: 0.6827"
     ]
    }
   ],
   "source": [
    "history_cnn_aug = model_cnn.fit_generator(genTrain.flow(train_x, train_y, batch_size=128),\n",
    "                            steps_per_epoch=5*train_x.shape[0]//128, # 每次 batch 所要提取的sample數目為多少\n",
    "                            verbose=1,\n",
    "                            epochs=100, shuffle=True)"
   ]
  },
  {
   "cell_type": "code",
   "execution_count": null,
   "metadata": {
    "collapsed": true
   },
   "outputs": [],
   "source": [
    "pre_test_cnn = model_cnn.predict_classes(test_x,batch_size=128)"
   ]
  },
  {
   "cell_type": "code",
   "execution_count": null,
   "metadata": {
    "collapsed": true
   },
   "outputs": [],
   "source": [
    "output_result('Report_q3_cnn_aug.csv',pre_test_cnn)"
   ]
  },
  {
   "cell_type": "markdown",
   "metadata": {},
   "source": [
    "# Both "
   ]
  },
  {
   "cell_type": "code",
   "execution_count": null,
   "metadata": {
    "collapsed": true
   },
   "outputs": [],
   "source": [
    "bag_train = train.groupby('label').apply(lambda s: s.sample(frac=0.7))\n",
    "bag_val = train.groupby('label').apply(lambda s: s.sample(frac=0.2))\n",
    "train_x_ = preprocess_x(bag_train)\n",
    "train_y_ = preprocess_y(bag_train)\n",
    "val_x_ = preprocess_x(bag_val)\n",
    "val_y_ = preprocess_y(bag_val)"
   ]
  },
  {
   "cell_type": "code",
   "execution_count": null,
   "metadata": {
    "collapsed": true
   },
   "outputs": [],
   "source": [
    "model_cnn = get_new_CNN_model()\n",
    "history_cnn_aug = model_cnn.fit_generator(genTrain.flow(train_x_/255, train_y_, batch_size=128),\n",
    "                            steps_per_epoch=5*train_x.shape[0]//128, # 每次 batch 所要提取的sample數目為多少\n",
    "                            verbose=1,\n",
    "                            epochs=100, shuffle=True)"
   ]
  },
  {
   "cell_type": "code",
   "execution_count": null,
   "metadata": {
    "collapsed": true
   },
   "outputs": [],
   "source": []
  },
  {
   "cell_type": "markdown",
   "metadata": {},
   "source": [
    "## Confusion matrix "
   ]
  },
  {
   "cell_type": "code",
   "execution_count": 32,
   "metadata": {
    "collapsed": true
   },
   "outputs": [],
   "source": [
    "import matplotlib.pyplot as plt\n",
    "from sklearn.metrics import confusion_matrix\n",
    "import seaborn as sns\n"
   ]
  },
  {
   "cell_type": "code",
   "execution_count": null,
   "metadata": {
    "collapsed": true
   },
   "outputs": [],
   "source": [
    "def plot_confusion_matrix(df_confusion, title='Confusion matrix', cmap=plt.cm.gray_r):\n",
    "    plt.matshow(df_confusion, cmap=cmap) # imshow\n",
    "    #plt.title(title)\n",
    "    plt.colorbar()\n",
    "    tick_marks = np.arange(len(df_confusion.columns))\n",
    "    plt.xticks(tick_marks, df_confusion.columns, rotation=45)\n",
    "    plt.yticks(tick_marks, df_confusion.index)\n",
    "    #plt.tight_layout()\n",
    "    plt.ylabel(df_confusion.index.name)\n",
    "    plt.xlabel(df_confusion.columns.name)\n",
    "\n",
    "plot_confusion_matrix(df_confusion)"
   ]
  },
  {
   "cell_type": "code",
   "execution_count": 33,
   "metadata": {
    "collapsed": true
   },
   "outputs": [],
   "source": [
    "from keras.models import load_model"
   ]
  },
  {
   "cell_type": "code",
   "execution_count": 35,
   "metadata": {},
   "outputs": [],
   "source": [
    "model_final = load_model('model_data_gen_5.h5')\n",
    "aa = train['label'].values # true\n",
    "bb = model_final.predict_classes(train_x/255,batch_size = 128) # predict"
   ]
  },
  {
   "cell_type": "code",
   "execution_count": null,
   "metadata": {
    "collapsed": true
   },
   "outputs": [],
   "source": []
  },
  {
   "cell_type": "code",
   "execution_count": 36,
   "metadata": {
    "collapsed": true
   },
   "outputs": [],
   "source": [
    "cm = confusion_matrix(aa,bb)+1e-9"
   ]
  },
  {
   "cell_type": "code",
   "execution_count": 37,
   "metadata": {
    "collapsed": true
   },
   "outputs": [],
   "source": [
    "def print_confusion_matrix(confusion_matrix, class_names, figsize = (10,7), fontsize=14):\n",
    "    df_cm = pd.DataFrame(\n",
    "        confusion_matrix, index=class_names, columns=class_names, \n",
    "    )\n",
    "    fig = plt.figure(figsize=figsize)\n",
    "    try:\n",
    "        heatmap = sns.heatmap(df_cm, annot=True)\n",
    "    except ValueError:\n",
    "        raise ValueError(\"Confusion matrix values must be integers.\")\n",
    "    heatmap.yaxis.set_ticklabels(heatmap.yaxis.get_ticklabels(), rotation=0, ha='right', fontsize=fontsize)\n",
    "    heatmap.xaxis.set_ticklabels(heatmap.xaxis.get_ticklabels(), rotation=45, ha='right', fontsize=fontsize)\n",
    "    plt.ylabel('True label')\n",
    "    plt.xlabel('Predicted label')\n",
    "    return fig"
   ]
  },
  {
   "cell_type": "code",
   "execution_count": 38,
   "metadata": {},
   "outputs": [
    {
     "data": {
      "image/png": "[encoded data removed]",
      "text/plain": [
       "<Figure size 720x504 with 2 Axes>"
      ]
     },
     "execution_count": 38,
     "metadata": {},
     "output_type": "execute_result"
    }
   ],
   "source": [
    "print_confusion_matrix(np.round(cm/cm.sum(axis=1)[:, np.newaxis],2),['Angry','Dsigust','Fear','Happy','Sad','Surprise','Neutral'])"
   ]
  },
  {
   "cell_type": "code",
   "execution_count": null,
   "metadata": {
    "collapsed": true
   },
   "outputs": [],
   "source": []
  }
 ],
 "metadata": {
  "kernelspec": {
   "display_name": "Python 3",
   "language": "python",
   "name": "python3"
  },
  "language_info": {
   "codemirror_mode": {
    "name": "ipython",
    "version": 3
   },
   "file_extension": ".py",
   "mimetype": "text/x-python",
   "name": "python",
   "nbconvert_exporter": "python",
   "pygments_lexer": "ipython3",
   "version": "3.6.8"
  }
 },
 "nbformat": 4,
 "nbformat_minor": 2
}
