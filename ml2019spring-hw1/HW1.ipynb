{
 "cells": [
  {
   "cell_type": "code",
   "execution_count": 1,
   "metadata": {
    "collapsed": true
   },
   "outputs": [],
   "source": [
    "import pandas as pd\n",
    "import numpy as np\n",
    "import matplotlib.pyplot as plt\n",
    "\n",
    "def load_train_data(filename):\n",
    "    train = pd.read_csv(filename,encoding='big5')\n",
    "    \n",
    "    ### seperate data \n",
    "    data = [[] for i in range(18)]\n",
    "    for r,d in enumerate(train.iloc[:,3:].values):\n",
    "        data[r%18].append(d)\n",
    "    data = np.array(data).reshape((18,-1))\n",
    "    \n",
    "    return data\n",
    "\n",
    "def load_test_data(filename):\n",
    "    test = pd.read_csv(filename,encoding='big5',header = None)\n",
    "    test_data = [[] for i in range(18)]\n",
    "    for r,d in enumerate(test.iloc[:,2:].values):\n",
    "        test_data[r%18].append(d)\n",
    "    test_data = np.array(test_data).reshape((18,-1))\n",
    "    \n",
    "    return test_data"
   ]
  },
  {
   "cell_type": "code",
   "execution_count": 2,
   "metadata": {},
   "outputs": [
    {
     "name": "stdout",
     "output_type": "stream",
     "text": [
      "(18, 5760)\n",
      "(18, 2160)\n"
     ]
    }
   ],
   "source": [
    "train_data = load_train_data('./data/train.csv')\n",
    "test_data = load_test_data('./data/test.csv')\n",
    "\n",
    "print(train_data.shape)\n",
    "print(test_data.shape)"
   ]
  },
  {
   "cell_type": "code",
   "execution_count": 3,
   "metadata": {
    "collapsed": true
   },
   "outputs": [],
   "source": [
    "def get_train_data(data,hours):\n",
    "    train_x_18 = []\n",
    "    train_x_1 = []\n",
    "    train_y = []\n",
    "\n",
    "    for i in range(0,data.shape[1]-hours):\n",
    "        train_x_18.append(data[:,i:i+hours].reshape((-1)))\n",
    "        train_x_1.append(data[9,i:i+hours].reshape((-1)))\n",
    "        train_y.append(data[9][i+hours])\n",
    "        \n",
    "    train_x_18 = np.array(train_x_18)\n",
    "    train_x_1 = np.array(train_x_1)\n",
    "    train_y = np.array(train_y).astype(np.float64)\n",
    "\n",
    "    # replace NR to 0\n",
    "    train_x_18[train_x_18 == 'NR'] = 0\n",
    "    train_x_18 = train_x_18.astype(np.float64)\n",
    "    train_x_1 = train_x_1.astype(np.float64)\n",
    "    \n",
    "    return train_x_18, train_x_1, train_y\n",
    "\n",
    "def get_test_data(data,hours):\n",
    "    test_x_18 = []\n",
    "    test_x_1 = []\n",
    "    \n",
    "    for i in range(0,data.shape[1],hours):\n",
    "        test_x_18.append(data[:,i:i+hours].reshape(-1))\n",
    "        test_x_1.append(data[9,i:i+hours].reshape(-1))\n",
    "        \n",
    "    test_x_18 = np.array(test_x_18)\n",
    "    test_x_1 = np.array(test_x_1)\n",
    "    \n",
    "    test_x_18[test_x_18 == 'NR'] = 0\n",
    "    test_x_18 = test_x_18.astype(np.float64)\n",
    "    test_x_1 = test_x_1.astype(np.float64)\n",
    "    return test_x_18, test_x_1"
   ]
  },
  {
   "cell_type": "code",
   "execution_count": 4,
   "metadata": {},
   "outputs": [
    {
     "name": "stdout",
     "output_type": "stream",
     "text": [
      "(5751, 162)\n",
      "(5751, 9)\n",
      "(5751,)\n",
      "(5755, 90)\n",
      "(5755, 5)\n",
      "(5755,)\n",
      "(240, 162)\n",
      "(240, 9)\n",
      "(432, 90)\n",
      "(432, 5)\n"
     ]
    }
   ],
   "source": [
    "train_x_18_9, train_x_1_9, train_y_9 = get_train_data(train_data,9)\n",
    "print(train_x_18_9.shape)\n",
    "print(train_x_1_9.shape)\n",
    "print(train_y_9.shape)\n",
    "\n",
    "train_x_18_5, train_x_1_5, train_y_5 = get_train_data(train_data,5)\n",
    "print(train_x_18_5.shape)\n",
    "print(train_x_1_5.shape)\n",
    "print(train_y_5.shape)\n",
    "\n",
    "test_x_18_9, test_x_1_9 = get_test_data(test_data,9)\n",
    "print(test_x_18_9.shape)\n",
    "print(test_x_1_9.shape)\n",
    "\n",
    "test_x_18_5, test_x_1_5 = get_test_data(test_data,5)\n",
    "print(test_x_18_5.shape)\n",
    "print(test_x_1_5.shape)"
   ]
  },
  {
   "cell_type": "code",
   "execution_count": 5,
   "metadata": {
    "collapsed": true
   },
   "outputs": [],
   "source": [
    "def feature_scaling(train_x,test_x):\n",
    "    data = np.vstack([train_x,test_x])\n",
    "    feature_mean = np.mean(data,axis = 0) \n",
    "    feature_var = np.var(data,axis = 0)\n",
    "    data = (data - feature_mean)/feature_var \n",
    "    \n",
    "    return data[:-240,:],data[-240:,:]"
   ]
  },
  {
   "cell_type": "code",
   "execution_count": 229,
   "metadata": {},
   "outputs": [
    {
     "name": "stdout",
     "output_type": "stream",
     "text": [
      "(5751, 162)\n",
      "(5751,)\n"
     ]
    }
   ],
   "source": [
    "train_x,test_x = feature_scaling(train_x,test_x)\n",
    "print(train_x.shape)\n",
    "print(train_y.shape)"
   ]
  },
  {
   "cell_type": "code",
   "execution_count": 6,
   "metadata": {
    "collapsed": true
   },
   "outputs": [],
   "source": [
    "# add bias term\n",
    "train_x_18_9 = np.hstack([train_x_18_9,np.ones((train_x_18_9.shape[0],1))])\n",
    "train_x_1_9 = np.hstack([train_x_1_9,np.ones((train_x_1_9.shape[0],1))])\n",
    "test_x_18_9 = np.hstack([test_x_18_9,np.ones((test_x_18_9.shape[0],1))])\n",
    "test_x_1_9 = np.hstack([test_x_1_9,np.ones((test_x_1_9.shape[0],1))])\n",
    "\n",
    "train_x_18_5 = np.hstack([train_x_18_5,np.ones((train_x_18_5.shape[0],1))])\n",
    "train_x_1_5 = np.hstack([train_x_1_5,np.ones((train_x_1_5.shape[0],1))])\n",
    "test_x_18_5 = np.hstack([test_x_18_5,np.ones((test_x_18_5.shape[0],1))])\n",
    "test_x_1_5 = np.hstack([test_x_1_5,np.ones((test_x_1_5.shape[0],1))])"
   ]
  },
  {
   "cell_type": "code",
   "execution_count": 7,
   "metadata": {
    "collapsed": true
   },
   "outputs": [],
   "source": [
    "def GD(train_x,train_y,lr,iterations,lamda = 0):\n",
    "    w = np.zeros((train_x.shape[1]))\n",
    "    cost = []\n",
    "\n",
    "    for i in range(iterations):\n",
    "        pre = train_x.dot(w)\n",
    "        loss = pre - train_y\n",
    "        gradient = 2*np.dot(train_x.T,loss)/train_x.shape[0] + lamda*w\n",
    "        w -= lr*gradient\n",
    "        cost.append((np.sum(loss**2)/train_x.shape[0]))\n",
    "    return w,cost"
   ]
  },
  {
   "cell_type": "code",
   "execution_count": 15,
   "metadata": {
    "collapsed": true
   },
   "outputs": [],
   "source": [
    "def Adagrad(train_x,train_y,lr,iterations,lamda = 0):\n",
    "    w = np.zeros((train_x.shape[1]))\n",
    "    cost = []\n",
    "    prev_gra = 0\n",
    "\n",
    "    for i in range(iterations):\n",
    "        pre = train_x.dot(w)\n",
    "        loss = pre - train_y\n",
    "        gradient = 2*np.dot(train_x.T,loss)/train_x.shape[0] + lamda*w\n",
    "        prev_gra += gradient**2\n",
    "        ada = np.sqrt(prev_gra)\n",
    "        w -= lr*gradient/ada\n",
    "        cost.append((np.sum(loss**2)/train_x.shape[0]))\n",
    "    return w,cost"
   ]
  },
  {
   "cell_type": "code",
   "execution_count": 9,
   "metadata": {
    "collapsed": true
   },
   "outputs": [],
   "source": [
    "def RMSprop(train_x,train_y,lr,iterations,lamda = 0):\n",
    "    w = np.zeros((train_x.shape[1]))\n",
    "    cost = []\n",
    "    prev_gra = 0\n",
    "\n",
    "    for i in range(iterations):\n",
    "        pre = train_x.dot(w)\n",
    "        loss = pre - train_y\n",
    "        gradient = 2*np.dot(train_x.T,loss)/train_x.shape[0] + lamda*w\n",
    "        prev_gra += gradient**2\n",
    "        ada = np.sqrt(prev_gra)\n",
    "        w -= lr*gradient/ada\n",
    "        cost.append((np.sum(loss**2)/train_x.shape[0]))\n",
    "    return w,cost"
   ]
  },
  {
   "cell_type": "code",
   "execution_count": 10,
   "metadata": {
    "collapsed": true
   },
   "outputs": [],
   "source": [
    "def Adam(train_x,train_y,lr,iterations,lamda = 0):\n",
    "    w = np.zeros((train_x.shape[1]))\n",
    "    cost = []\n",
    "    prev_gra = 0\n",
    "\n",
    "    for i in range(iterations):\n",
    "        pre = train_x.dot(w)\n",
    "        loss = pre - train_y\n",
    "        gradient = 2*np.dot(train_x.T,loss)/train_x.shape[0] + lamda*w\n",
    "        prev_gra += gradient**2\n",
    "        ada = np.sqrt(prev_gra)\n",
    "        w -= lr*gradient/ada\n",
    "        cost.append((np.sum(loss**2)/train_x.shape[0]))\n",
    "    return w,cost"
   ]
  },
  {
   "cell_type": "code",
   "execution_count": 11,
   "metadata": {},
   "outputs": [
    {
     "ename": "NameError",
     "evalue": "name 'train_x' is not defined",
     "output_type": "error",
     "traceback": [
      "\u001b[0;31m---------------------------------------------------------------------------\u001b[0m",
      "\u001b[0;31mNameError\u001b[0m                                 Traceback (most recent call last)",
      "\u001b[0;32m<ipython-input-11-94839f25db0f>\u001b[0m in \u001b[0;36m<module>\u001b[0;34m()\u001b[0m\n\u001b[0;32m----> 1\u001b[0;31m \u001b[0mw\u001b[0m\u001b[0;34m,\u001b[0m\u001b[0mcost\u001b[0m \u001b[0;34m=\u001b[0m \u001b[0mGD\u001b[0m\u001b[0;34m(\u001b[0m\u001b[0mtrain_x\u001b[0m\u001b[0;34m,\u001b[0m\u001b[0mtrain_y\u001b[0m\u001b[0;34m,\u001b[0m\u001b[0;36m1e-3\u001b[0m\u001b[0;34m,\u001b[0m\u001b[0;36m50000\u001b[0m\u001b[0;34m)\u001b[0m\u001b[0;34m\u001b[0m\u001b[0m\n\u001b[0m\u001b[1;32m      2\u001b[0m \u001b[0mcost\u001b[0m\u001b[0;34m[\u001b[0m\u001b[0;34m-\u001b[0m\u001b[0;36m1\u001b[0m\u001b[0;34m]\u001b[0m\u001b[0;34m\u001b[0m\u001b[0m\n",
      "\u001b[0;31mNameError\u001b[0m: name 'train_x' is not defined"
     ]
    }
   ],
   "source": [
    "w,cost = GD(train_x,train_y,1e-3,50000)\n",
    "cost[-1]"
   ]
  },
  {
   "cell_type": "code",
   "execution_count": 248,
   "metadata": {},
   "outputs": [
    {
     "data": {
      "text/plain": [
       "[<matplotlib.lines.Line2D at 0x11b8a41d0>]"
      ]
     },
     "execution_count": 248,
     "metadata": {},
     "output_type": "execute_result"
    },
    {
     "data": {
      "image/png": "[encoded data removed]",
      "text/plain": [
       "<Figure size 432x288 with 1 Axes>"
      ]
     },
     "metadata": {},
     "output_type": "display_data"
    }
   ],
   "source": [
    "plt.plot([i for i in range(50000-3)],cost[3:])"
   ]
  },
  {
   "cell_type": "code",
   "execution_count": 36,
   "metadata": {},
   "outputs": [
    {
     "name": "stdout",
     "output_type": "stream",
     "text": [
      "39.71027211417666\n"
     ]
    }
   ],
   "source": [
    "# 1 feature 5 hour\n",
    "opt_cost = 100\n",
    "opt_w = np.ones((train_x_1_5.shape[1]))\n",
    "for i in [0.02]:\n",
    "    w,cost = Adagrad(train_x_1_5,train_y_5,i,20000)\n",
    "    if(cost[-1] < opt_cost):\n",
    "        opt_cost = cost[-1]\n",
    "        opt_w = w\n",
    "    print(cost[-1])"
   ]
  },
  {
   "cell_type": "code",
   "execution_count": 35,
   "metadata": {},
   "outputs": [
    {
     "name": "stdout",
     "output_type": "stream",
     "text": [
      "35.113078979170396\n"
     ]
    }
   ],
   "source": [
    "# 18 feature 5 hour\n",
    "opt_cost = 100\n",
    "opt_w = np.ones((train_x_18_5.shape[1]))\n",
    "for i in [0.02]:\n",
    "    w,cost = Adagrad(train_x_18_5,train_y_5,i,20000)\n",
    "    if(cost[-1] < opt_cost):\n",
    "        opt_cost = cost[-1]\n",
    "        opt_w = w\n",
    "    print(cost[-1])"
   ]
  },
  {
   "cell_type": "code",
   "execution_count": 27,
   "metadata": {},
   "outputs": [
    {
     "name": "stdout",
     "output_type": "stream",
     "text": [
      "38.60665677196431\n"
     ]
    }
   ],
   "source": [
    "# 1 feature 9 hour\n",
    "opt_cost = 100\n",
    "opt_w = np.ones((train_x_1_9.shape[1]))\n",
    "for i in [0.02]:\n",
    "    w,cost = Adagrad(train_x_1_9,train_y_9,i,20000)\n",
    "    if(cost[-1] < opt_cost):\n",
    "        opt_cost = cost[-1]\n",
    "        opt_w = w\n",
    "    print(cost[-1])"
   ]
  },
  {
   "cell_type": "code",
   "execution_count": 16,
   "metadata": {},
   "outputs": [
    {
     "name": "stdout",
     "output_type": "stream",
     "text": [
      "5.84459969193\n"
     ]
    }
   ],
   "source": [
    "# 18 feature 9 hour\n",
    "opt_cost = 100\n",
    "opt_w = np.ones((train_x_18_9.shape[1]))\n",
    "for i in [0.02]:\n",
    "    w,cost = Adagrad(train_x_18_9,train_y_9,i,20000)\n",
    "    if(cost[-1] < opt_cost):\n",
    "        opt_cost = cost[-1]\n",
    "        opt_w = w\n",
    "    print(cost[-1]**0.5)"
   ]
  },
  {
   "cell_type": "code",
   "execution_count": 17,
   "metadata": {},
   "outputs": [
    {
     "data": {
      "text/plain": [
       "(5751, 163)"
      ]
     },
     "execution_count": 17,
     "metadata": {},
     "output_type": "execute_result"
    }
   ],
   "source": [
    "train_x_18_9.shape"
   ]
  },
  {
   "cell_type": "code",
   "execution_count": 18,
   "metadata": {
    "collapsed": true
   },
   "outputs": [],
   "source": [
    "def rmse(pre,test):\n",
    "    tmp = 0\n",
    "    for i,p in enumerate(pre):\n",
    "        tmp += (p-test[i])**2\n",
    "    return (tmp/pre.shape[0])**0.5"
   ]
  },
  {
   "cell_type": "code",
   "execution_count": 23,
   "metadata": {},
   "outputs": [
    {
     "name": "stdout",
     "output_type": "stream",
     "text": [
      "(0.02, 0) 5.62427040966\n",
      "(0.02, 0.01) 5.62438194306\n",
      "(0.02, 0.1) 5.62500593498\n",
      "(0.02, 0.5) 5.6254612807\n",
      "(0.02, 1) 5.62662661802\n",
      "(0.02, 2) 5.63359032765\n",
      "(0.1, 0) 5.62308280752\n",
      "(0.1, 0.01) 5.62324928166\n",
      "(0.1, 0.1) 5.62436366324\n",
      "(0.1, 0.5) 5.62641772342\n",
      "(0.1, 1) 5.62859507574\n",
      "(0.1, 2) 5.63623438941\n",
      "(0.2, 0) 5.62452620675\n",
      "(0.2, 0.01) 5.62469746336\n",
      "(0.2, 0.1) 5.62586047914\n",
      "(0.2, 0.5) 5.62810313678\n",
      "(0.2, 1) 5.630406238\n",
      "(0.2, 2) 5.63811592628\n",
      "(0.3, 0) 5.62509580209\n",
      "(0.3, 0.01) 5.6252685366\n",
      "(0.3, 0.1) 5.62644695687\n",
      "(0.3, 0.5) 5.62875103892\n",
      "(0.3, 1) 5.63109526264\n",
      "(0.3, 2) 5.6388267512\n",
      "(0.4, 0) 5.62539772747\n",
      "(0.4, 0.01) 5.62557117887\n",
      "(0.4, 0.1) 5.62675714536\n",
      "(0.4, 0.5) 5.62909164199\n",
      "(0.4, 1) 5.63145625287\n",
      "(0.4, 2) 5.63919829655\n",
      "(0.5, 0) 5.62558443657\n",
      "(0.5, 0.01) 5.62575831102\n",
      "(0.5, 0.1) 5.62694875475\n",
      "(0.5, 0.5) 5.62930140153\n",
      "(0.5, 1) 5.63167818584\n",
      "(0.5, 2) 5.6394264479\n",
      "(1, 0) 5.62597048176\n",
      "(1, 0.01) 5.62614518632\n",
      "(1, 0.1) 5.62734446998\n",
      "(1, 0.5) 5.62973318938\n",
      "(1, 1) 5.63213418272\n",
      "(1, 2) 5.63989461612\n"
     ]
    }
   ],
   "source": [
    "# split data to train and validation \n",
    "length = int(train_x_18_9.shape[0]/3)\n",
    "split_train_x_18_9 = train_x_18_9[:length*2,:]\n",
    "split_train_y_9 = train_y_9[:length*2]\n",
    "\n",
    "split_val_x_18_9 = train_x_18_9[length*2:,:]\n",
    "split_val_y_9 = train_y_9[length*2:]\n",
    "\n",
    "lr = [0.02,0.1,0.2,0.3,0.4,0.5,1]\n",
    "lamda = [0,0.01,0.1,0.5,1,2]\n",
    "\n",
    "opt_cost = 100\n",
    "opt_w = np.ones((train_x_18_9.shape[1]))\n",
    "\n",
    "for l in lr:\n",
    "    for lam in lamda:\n",
    "        w,cost = Adagrad(split_train_x_18_9,split_train_y_9,l,20000,lam)\n",
    "        pre = np.dot(split_val_x_18_9,w)\n",
    "        cost = rmse(pre,split_val_y_9)\n",
    "        \n",
    "        if(cost < opt_cost):\n",
    "            opt_cost = cost\n",
    "            opt_w = w\n",
    "            opt_coef = (l,lam)\n",
    "        print((l,lam),cost)"
   ]
  },
  {
   "cell_type": "code",
   "execution_count": 25,
   "metadata": {},
   "outputs": [
    {
     "data": {
      "text/plain": [
       "(0.1, 0)"
      ]
     },
     "execution_count": 25,
     "metadata": {},
     "output_type": "execute_result"
    }
   ],
   "source": [
    "opt_coef"
   ]
  },
  {
   "cell_type": "code",
   "execution_count": 19,
   "metadata": {},
   "outputs": [
    {
     "data": {
      "text/plain": [
       "array([-5.46227603e-03, -1.38475160e-02, -2.69443961e-03, -1.72178991e-02,\n",
       "       -1.37267864e-03,  1.26807630e-03,  3.49498739e-03, -3.82558612e-03,\n",
       "        2.45317602e-02,  2.22352553e-02,  3.05717890e-02,  3.89331859e-02,\n",
       "        2.92968741e-02,  4.59270116e-02,  7.11612298e-02,  6.44754913e-02,\n",
       "        7.56308685e-02,  1.29809349e-01,  4.78095689e-03, -2.29097397e-02,\n",
       "        5.51486985e-02, -9.68806233e-02,  1.93669012e-01, -7.50386999e-02,\n",
       "       -1.57227624e-01,  2.79772280e-01,  7.72973264e-01, -1.51172932e-01,\n",
       "       -3.14471859e-02, -5.06214364e-03,  7.00874400e-02,  1.73947880e-01,\n",
       "       -3.70711697e-02, -5.27167268e-02,  1.51031468e-02,  3.08366728e-01,\n",
       "        3.33776252e-02,  3.02304357e-04,  1.09991200e-01, -2.50667028e-02,\n",
       "       -4.60466911e-03, -6.41362713e-02,  7.12192054e-02,  7.81103034e-02,\n",
       "       -1.33377173e-01,  7.95896436e-03, -2.23917625e-02, -2.71589196e-02,\n",
       "       -2.87100474e-02,  2.64741878e-04, -1.39653775e-03, -6.29413514e-02,\n",
       "       -4.74672427e-02,  1.62219215e-01,  6.01475146e-03, -1.69156876e-02,\n",
       "        4.26116769e-03, -2.99950532e-03,  1.43802553e-02, -6.30012851e-03,\n",
       "       -3.49964929e-02, -2.87755862e-03,  1.16361086e-01,  7.22006764e-03,\n",
       "        8.43067425e-03, -5.34733925e-03, -2.03541299e-02, -1.50046593e-04,\n",
       "       -2.41009567e-02, -3.23791607e-02, -6.84718130e-03,  1.01285842e-01,\n",
       "        1.52591810e-03,  3.25899052e-03, -5.39693281e-03,  1.97644000e-02,\n",
       "       -1.95997693e-02, -5.14089285e-03,  1.99058472e-02, -1.30003139e-02,\n",
       "        5.12598068e-02, -2.38137421e-02,  2.27893305e-02,  1.04070443e-01,\n",
       "       -1.46889478e-01,  2.19447838e-02,  3.44459852e-01, -4.60644331e-01,\n",
       "        5.66446095e-02,  8.98371339e-01,  2.82931625e-02,  2.38683684e-04,\n",
       "       -5.57858406e-02, -2.16405533e-03, -4.20852466e-02,  5.39366572e-02,\n",
       "        6.35790727e-03, -3.32275682e-02, -8.19343521e-02,  3.19074011e-03,\n",
       "        1.19100933e-02, -2.11667332e-03, -1.39639265e-02, -1.36723707e-02,\n",
       "       -1.51948713e-03, -1.87024951e-02,  3.78699583e-03,  1.05035778e-02,\n",
       "       -1.24652316e-01,  2.04311435e-01, -3.24351594e-02, -6.86549358e-02,\n",
       "       -1.44354563e-02,  3.73961493e-02, -7.32034739e-02,  6.71472526e-02,\n",
       "        2.09991361e-01,  1.75074253e-02,  1.97364295e-02,  2.76141374e-02,\n",
       "        1.48967792e-02,  5.91216316e-02,  6.99263143e-02,  5.25539811e-02,\n",
       "        5.98937370e-02,  1.35010885e-01, -6.48920313e-04,  2.51752532e-03,\n",
       "       -1.23939758e-03,  1.98101096e-03,  2.33214069e-04,  1.70537463e-03,\n",
       "       -2.42805120e-03,  1.06900683e-03,  1.75945719e-04, -1.61092202e-03,\n",
       "       -3.05891324e-04,  1.02912566e-03, -2.17626511e-03,  8.02235798e-04,\n",
       "        1.68405301e-04, -2.67361169e-04, -2.59778351e-03,  3.97561399e-04,\n",
       "       -7.17681675e-02, -2.14412479e-02,  2.92491725e-02, -2.24209669e-03,\n",
       "       -2.06683078e-02, -3.63726895e-02, -7.43710117e-02, -7.83101251e-02,\n",
       "       -2.94613631e-02, -4.44077036e-02,  5.14938409e-02, -5.47785050e-02,\n",
       "       -3.81267595e-02,  2.04913613e-02,  1.18038393e-01, -1.98068697e-02,\n",
       "       -8.89588839e-02,  2.64856900e-02,  3.74417766e-02])"
      ]
     },
     "execution_count": 19,
     "metadata": {},
     "output_type": "execute_result"
    }
   ],
   "source": [
    "opt_w"
   ]
  },
  {
   "cell_type": "code",
   "execution_count": 294,
   "metadata": {},
   "outputs": [
    {
     "data": {
      "text/plain": [
       "[<matplotlib.lines.Line2D at 0x11a69ba58>]"
      ]
     },
     "execution_count": 294,
     "metadata": {},
     "output_type": "execute_result"
    },
    {
     "data": {
      "image/png": "[encoded data removed]",
      "text/plain": [
       "<Figure size 432x288 with 1 Axes>"
      ]
     },
     "metadata": {},
     "output_type": "display_data"
    }
   ],
   "source": [
    "plt.plot([i for i in range(20000-3)],cost[3:])"
   ]
  },
  {
   "cell_type": "code",
   "execution_count": 295,
   "metadata": {
    "collapsed": true
   },
   "outputs": [],
   "source": [
    "predict_value = np.dot(test_x,w)"
   ]
  },
  {
   "cell_type": "code",
   "execution_count": 296,
   "metadata": {
    "collapsed": true
   },
   "outputs": [],
   "source": [
    "def output_result(filename,predict_value):\n",
    "    id_ = []\n",
    "    for i in range(predict_value.shape[0]):\n",
    "        temp = 'id_'+str(i)\n",
    "        id_.append(temp)\n",
    "    output = pd.DataFrame(columns=['id','value'])\n",
    "    output['id'] = id_\n",
    "    output['value'] = predict_value\n",
    "    output.to_csv(filename,index = False)\n",
    "    \n",
    "    print(output.head())"
   ]
  },
  {
   "cell_type": "code",
   "execution_count": 297,
   "metadata": {},
   "outputs": [
    {
     "name": "stdout",
     "output_type": "stream",
     "text": [
      "     id      value\n",
      "0  id_0   5.246913\n",
      "1  id_1  17.055572\n",
      "2  id_2  24.077396\n",
      "3  id_3   7.815355\n",
      "4  id_4  26.901141\n"
     ]
    }
   ],
   "source": [
    "output_result('output.csv',predict_value)"
   ]
  },
  {
   "cell_type": "code",
   "execution_count": null,
   "metadata": {
    "collapsed": true
   },
   "outputs": [],
   "source": []
  }
 ],
 "metadata": {
  "kernelspec": {
   "display_name": "Python 3",
   "language": "python",
   "name": "python3"
  },
  "language_info": {
   "codemirror_mode": {
    "name": "ipython",
    "version": 3
   },
   "file_extension": ".py",
   "mimetype": "text/x-python",
   "name": "python",
   "nbconvert_exporter": "python",
   "pygments_lexer": "ipython3",
   "version": "3.6.3"
  }
 },
 "nbformat": 4,
 "nbformat_minor": 2
}
