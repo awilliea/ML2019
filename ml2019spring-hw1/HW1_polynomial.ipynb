{
 "cells": [
  {
   "cell_type": "code",
   "execution_count": 44,
   "metadata": {
    "collapsed": true
   },
   "outputs": [],
   "source": [
    "import pandas as pd\n",
    "import numpy as np\n",
    "import matplotlib.pyplot as plt\n",
    "\n",
    "def load_train_data(filename):\n",
    "    train = pd.read_csv(filename,encoding='big5')\n",
    "    \n",
    "    ### seperate data \n",
    "    data = [[] for i in range(18)]\n",
    "    for r,d in enumerate(train.iloc[:,3:].values):\n",
    "        data[r%18].append(d)\n",
    "    data = np.array(data).reshape((18,-1))\n",
    "    \n",
    "    return data\n",
    "\n",
    "def load_test_data(filename):\n",
    "    test = pd.read_csv(filename,encoding='big5',header = None)\n",
    "    test_data = [[] for i in range(18)]\n",
    "    for r,d in enumerate(test.iloc[:,2:].values):\n",
    "        test_data[r%18].append(d)\n",
    "    test_data = np.array(test_data).reshape((18,-1))\n",
    "    \n",
    "    return test_data"
   ]
  },
  {
   "cell_type": "code",
   "execution_count": 45,
   "metadata": {},
   "outputs": [
    {
     "name": "stdout",
     "output_type": "stream",
     "text": [
      "(18, 5760)\n",
      "(18, 2160)\n"
     ]
    }
   ],
   "source": [
    "train_data = load_train_data('./data/train.csv')\n",
    "test_data = load_test_data('./data/test.csv')\n",
    "\n",
    "print(train_data.shape)\n",
    "print(test_data.shape)"
   ]
  },
  {
   "cell_type": "code",
   "execution_count": 46,
   "metadata": {},
   "outputs": [],
   "source": [
    "train_data[train_data==['NR']]=0\n",
    "train_data = train_data.astype(np.float64)\n",
    "test_data[test_data==['NR']]=0\n",
    "test_data = test_data.astype(np.float64)"
   ]
  },
  {
   "cell_type": "code",
   "execution_count": 47,
   "metadata": {
    "collapsed": true
   },
   "outputs": [],
   "source": [
    "from sklearn.preprocessing import PolynomialFeatures"
   ]
  },
  {
   "cell_type": "code",
   "execution_count": 48,
   "metadata": {},
   "outputs": [
    {
     "name": "stdout",
     "output_type": "stream",
     "text": [
      "(189, 5760)\n",
      "(189, 2160)\n"
     ]
    }
   ],
   "source": [
    "qua_poly = PolynomialFeatures(degree=2,include_bias=False)\n",
    "train_data_qu = qua_poly.fit_transform(train_data.reshape((train_data.shape[1],-1)))\n",
    "test_data_qu = qua_poly.fit_transform(test_data.reshape((test_data.shape[1],-1)))\n",
    "train_data_qu = train_data_qu.reshape((train_data_qu.shape[1],-1))\n",
    "test_data_qu = test_data_qu.reshape((test_data_qu.shape[1],-1))\n",
    "print(train_data_qu.shape)\n",
    "print(test_data_qu.shape)"
   ]
  },
  {
   "cell_type": "code",
   "execution_count": 49,
   "metadata": {
    "collapsed": true
   },
   "outputs": [],
   "source": [
    "def get_train_data(ori_data,qua_data,hours):\n",
    "    train_x_18 = []\n",
    "    train_x_1 = []\n",
    "    train_y = []\n",
    "\n",
    "    for i in range(0,qua_data.shape[1]-hours):\n",
    "        train_x_18.append(qua_data[:,i:i+hours].reshape((-1)))\n",
    "        \n",
    "    for i in range(0,ori_data.shape[1]-hours):\n",
    "        train_x_1.append(ori_data[9,i:i+hours].reshape((-1)))\n",
    "        train_y.append(ori_data[9][i+hours])\n",
    "        \n",
    "    train_x_18 = np.array(train_x_18)\n",
    "    train_x_1 = np.array(train_x_1)\n",
    "    train_y = np.array(train_y).astype(np.float64)\n",
    "\n",
    "    # replace NR to 0\n",
    "    train_x_18[train_x_18 == 'NR'] = 0\n",
    "    train_x_18 = train_x_18.astype(np.float64)\n",
    "    train_x_1 = train_x_1.astype(np.float64)\n",
    "    \n",
    "    return train_x_18, train_x_1, train_y\n",
    "\n",
    "def get_test_data(ori_data,qua_data,hours):\n",
    "    test_x_18 = []\n",
    "    test_x_1 = []\n",
    "    \n",
    "    for i in range(0,qua_data.shape[1],hours):\n",
    "        test_x_18.append(qua_data[:,i:i+hours].reshape(-1))\n",
    "\n",
    "    for i in range(0,ori_data.shape[1],hours):\n",
    "        test_x_1.append(ori_data[9,i:i+hours].reshape(-1))\n",
    "        \n",
    "    test_x_18 = np.array(test_x_18)\n",
    "    test_x_1 = np.array(test_x_1)\n",
    "    \n",
    "    test_x_18[test_x_18 == 'NR'] = 0\n",
    "    test_x_18 = test_x_18.astype(np.float64)\n",
    "    test_x_1 = test_x_1.astype(np.float64)\n",
    "    return test_x_18, test_x_1"
   ]
  },
  {
   "cell_type": "code",
   "execution_count": 50,
   "metadata": {},
   "outputs": [
    {
     "name": "stdout",
     "output_type": "stream",
     "text": [
      "(5751, 1701)\n",
      "(5751, 9)\n",
      "(5751,)\n",
      "(5755, 945)\n",
      "(5755, 5)\n",
      "(5755,)\n",
      "(240, 1701)\n",
      "(240, 9)\n",
      "(432, 945)\n",
      "(432, 5)\n"
     ]
    },
    {
     "name": "stderr",
     "output_type": "stream",
     "text": [
      "/shared_home/willie/anaconda3/lib/python3.6/site-packages/ipykernel_launcher.py:18: FutureWarning: elementwise comparison failed; returning scalar instead, but in the future will perform elementwise comparison\n",
      "/shared_home/willie/anaconda3/lib/python3.6/site-packages/ipykernel_launcher.py:37: FutureWarning: elementwise comparison failed; returning scalar instead, but in the future will perform elementwise comparison\n"
     ]
    }
   ],
   "source": [
    "train_x_18_9, train_x_1_9, train_y_9 = get_train_data(train_data,train_data_qu,9)\n",
    "print(train_x_18_9.shape)\n",
    "print(train_x_1_9.shape)\n",
    "print(train_y_9.shape)\n",
    "\n",
    "train_x_18_5, train_x_1_5, train_y_5 = get_train_data(train_data,train_data_qu,5)\n",
    "print(train_x_18_5.shape)\n",
    "print(train_x_1_5.shape)\n",
    "print(train_y_5.shape)\n",
    "\n",
    "test_x_18_9, test_x_1_9 = get_test_data(test_data,test_data_qu,9)\n",
    "print(test_x_18_9.shape)\n",
    "print(test_x_1_9.shape)\n",
    "\n",
    "test_x_18_5, test_x_1_5 = get_test_data(test_data,test_data_qu,5)\n",
    "print(test_x_18_5.shape)\n",
    "print(test_x_1_5.shape)"
   ]
  },
  {
   "cell_type": "code",
   "execution_count": 51,
   "metadata": {
    "collapsed": true
   },
   "outputs": [],
   "source": [
    "# add bias term\n",
    "train_x_18_9 = np.hstack([train_x_18_9,np.ones((train_x_18_9.shape[0],1))])\n",
    "train_x_1_9 = np.hstack([train_x_1_9,np.ones((train_x_1_9.shape[0],1))])\n",
    "test_x_18_9 = np.hstack([test_x_18_9,np.ones((test_x_18_9.shape[0],1))])\n",
    "test_x_1_9 = np.hstack([test_x_1_9,np.ones((test_x_1_9.shape[0],1))])\n",
    "\n",
    "train_x_18_5 = np.hstack([train_x_18_5,np.ones((train_x_18_5.shape[0],1))])\n",
    "train_x_1_5 = np.hstack([train_x_1_5,np.ones((train_x_1_5.shape[0],1))])\n",
    "test_x_18_5 = np.hstack([test_x_18_5,np.ones((test_x_18_5.shape[0],1))])\n",
    "test_x_1_5 = np.hstack([test_x_1_5,np.ones((test_x_1_5.shape[0],1))])"
   ]
  },
  {
   "cell_type": "code",
   "execution_count": 52,
   "metadata": {},
   "outputs": [],
   "source": [
    "from sklearn.linear_model import Ridge\n",
    "from sklearn.ensemble import RandomForestRegressor,GradientBoostingRegressor\n",
    "from sklearn import metrics\n",
    "from sklearn.grid_search import GridSearchCV\n",
    "from sklearn.linear_model import LinearRegression\n",
    "def rmse(pre,test):\n",
    "    tmp = 0\n",
    "    for i,p in enumerate(pre):\n",
    "        tmp += (p-test[i])**2\n",
    "    return (tmp/pre.shape[0])**0.5"
   ]
  },
  {
   "cell_type": "code",
   "execution_count": 53,
   "metadata": {},
   "outputs": [
    {
     "data": {
      "text/plain": [
       "([mean: -41756.48823, std: 76084.96460, params: {'alpha': 0.0},\n",
       "  mean: -41733.15858, std: 76043.44042, params: {'alpha': 0.0001},\n",
       "  mean: -41709.10300, std: 76000.38363, params: {'alpha': 0.0002},\n",
       "  mean: -41684.37224, std: 75955.89954, params: {'alpha': 0.00030000000000000003},\n",
       "  mean: -41659.01463, std: 75910.08828, params: {'alpha': 0.0004},\n",
       "  mean: -41633.07590, std: 75863.04462, params: {'alpha': 0.0005},\n",
       "  mean: -41606.59923, std: 75814.85795, params: {'alpha': 0.0006000000000000001},\n",
       "  mean: -41579.62528, std: 75765.61238, params: {'alpha': 0.0007},\n",
       "  mean: -41552.19223, std: 75715.38691, params: {'alpha': 0.0008},\n",
       "  mean: -41524.33590, std: 75664.25565, params: {'alpha': 0.0009000000000000001}],\n",
       " {'alpha': 0.0009000000000000001},\n",
       " 203.77520924584934)"
      ]
     },
     "execution_count": 53,
     "metadata": {},
     "output_type": "execute_result"
    }
   ],
   "source": [
    "param_test1 = {'alpha':[i*0.0001 for i in range(0,10)]}\n",
    "gsearch1 = GridSearchCV(Ridge(normalize=True),\n",
    "                       param_grid =param_test1, scoring='neg_mean_squared_error',cv=5,n_jobs = 12)\n",
    "gsearch1.fit(train_x_18_9,train_y_9)\n",
    "gsearch1.grid_scores_,gsearch1.best_params_, (gsearch1.best_score_*-1)**0.5"
   ]
  },
  {
   "cell_type": "code",
   "execution_count": 55,
   "metadata": {},
   "outputs": [
    {
     "name": "stdout",
     "output_type": "stream",
     "text": [
      "11.838562998\n"
     ]
    }
   ],
   "source": [
    "reg = Ridge(alpha=0.0)\n",
    "reg.fit(train_x_18_9,train_y_9)\n",
    "pre = reg.predict(train_x_18_9)\n",
    "print(rmse(pre,train_y_9))"
   ]
  },
  {
   "cell_type": "code",
   "execution_count": 56,
   "metadata": {},
   "outputs": [
    {
     "data": {
      "text/plain": [
       "array([[  14.  ,   14.  ,   14.  , ...,    3.8 ,    4.4 ,    1.  ],\n",
       "       [  14.  ,   14.  ,   13.  , ...,    4.4 ,    4.4 ,    1.  ],\n",
       "       [  14.  ,   13.  ,   12.  , ...,    4.4 ,    3.  ,    1.  ],\n",
       "       ..., \n",
       "       [ 450.  ,  450.  ,  425.  , ...,    2.88,    3.2 ,    1.  ],\n",
       "       [ 450.  ,  425.  ,  425.  , ...,    3.2 ,    3.24,    1.  ],\n",
       "       [ 425.  ,  425.  ,  425.  , ...,    3.24,    3.6 ,    1.  ]])"
      ]
     },
     "execution_count": 56,
     "metadata": {},
     "output_type": "execute_result"
    }
   ],
   "source": [
    "train_x_18_9"
   ]
  },
  {
   "cell_type": "code",
   "execution_count": null,
   "metadata": {
    "collapsed": true
   },
   "outputs": [],
   "source": []
  }
 ],
 "metadata": {
  "kernelspec": {
   "display_name": "Python 3",
   "language": "python",
   "name": "python3"
  },
  "language_info": {
   "codemirror_mode": {
    "name": "ipython",
    "version": 3
   },
   "file_extension": ".py",
   "mimetype": "text/x-python",
   "name": "python",
   "nbconvert_exporter": "python",
   "pygments_lexer": "ipython3",
   "version": "3.6.3"
  }
 },
 "nbformat": 4,
 "nbformat_minor": 2
}
