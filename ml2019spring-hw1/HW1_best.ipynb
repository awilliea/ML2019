{
 "cells": [
  {
   "cell_type": "code",
   "execution_count": 1,
   "metadata": {},
   "outputs": [],
   "source": [
    "import pandas as pd\n",
    "import numpy as np\n",
    "import matplotlib.pyplot as plt\n",
    "\n",
    "def load_train_data(filename):\n",
    "    train = pd.read_csv(filename,encoding='big5')\n",
    "    \n",
    "    ### seperate data \n",
    "    data = [[] for i in range(18)]\n",
    "    for r,d in enumerate(train.iloc[:,3:].values):\n",
    "        data[r%18].append(d)\n",
    "    data = np.array(data).reshape((18,-1))\n",
    "    \n",
    "    return data\n",
    "\n",
    "def load_test_data(filename):\n",
    "    test = pd.read_csv(filename,encoding='big5',header = None)\n",
    "    test_data = [[] for i in range(18)]\n",
    "    for r,d in enumerate(test.iloc[:,2:].values):\n",
    "        test_data[r%18].append(d)\n",
    "    test_data = np.array(test_data).reshape((18,-1))\n",
    "    \n",
    "    return test_data"
   ]
  },
  {
   "cell_type": "code",
   "execution_count": 2,
   "metadata": {},
   "outputs": [
    {
     "name": "stdout",
     "output_type": "stream",
     "text": [
      "(18, 5760)\n",
      "(18, 2160)\n"
     ]
    }
   ],
   "source": [
    "train_data = load_train_data('./data/train.csv')\n",
    "test_data = load_test_data('./data/test.csv')\n",
    "\n",
    "print(train_data.shape)\n",
    "print(test_data.shape)"
   ]
  },
  {
   "cell_type": "code",
   "execution_count": 3,
   "metadata": {},
   "outputs": [],
   "source": [
    "def get_train_data(data,hours):\n",
    "    train_x_18 = []\n",
    "    train_x_1 = []\n",
    "    train_y = []\n",
    "\n",
    "    for i in range(0,data.shape[1]-hours):\n",
    "        train_x_18.append(data[:,i:i+hours].reshape((-1)))\n",
    "        train_x_1.append(data[9,i:i+hours].reshape((-1)))\n",
    "        train_y.append(data[9][i+hours])\n",
    "        \n",
    "    train_x_18 = np.array(train_x_18)\n",
    "    train_x_1 = np.array(train_x_1)\n",
    "    train_y = np.array(train_y).astype(np.float64)\n",
    "\n",
    "    # replace NR to 0\n",
    "    train_x_18[train_x_18 == 'NR'] = 0\n",
    "    train_x_18 = train_x_18.astype(np.float64)\n",
    "    train_x_1 = train_x_1.astype(np.float64)\n",
    "    \n",
    "    return train_x_18, train_x_1, train_y\n",
    "\n",
    "def get_test_data(data,hours):\n",
    "    test_x_18 = []\n",
    "    test_x_1 = []\n",
    "    \n",
    "    for i in range(0,data.shape[1],hours):\n",
    "        test_x_18.append(data[:,i:i+hours].reshape(-1))\n",
    "        test_x_1.append(data[9,i:i+hours].reshape(-1))\n",
    "        \n",
    "    test_x_18 = np.array(test_x_18)\n",
    "    test_x_1 = np.array(test_x_1)\n",
    "    \n",
    "    test_x_18[test_x_18 == 'NR'] = 0\n",
    "    test_x_18 = test_x_18.astype(np.float64)\n",
    "    test_x_1 = test_x_1.astype(np.float64)\n",
    "    return test_x_18, test_x_1"
   ]
  },
  {
   "cell_type": "code",
   "execution_count": 5,
   "metadata": {},
   "outputs": [
    {
     "name": "stdout",
     "output_type": "stream",
     "text": [
      "(5751, 162)\n",
      "(5751, 9)\n",
      "(5751,)\n",
      "(5755, 90)\n",
      "(5755, 5)\n",
      "(5755,)\n",
      "(240, 162)\n",
      "(240, 9)\n",
      "(432, 90)\n",
      "(432, 5)\n"
     ]
    }
   ],
   "source": [
    "train_x_18_9, train_x_1_9, train_y_9 = get_train_data(train_data,9)\n",
    "print(train_x_18_9.shape)\n",
    "print(train_x_1_9.shape)\n",
    "print(train_y_9.shape)\n",
    "\n",
    "train_x_18_5, train_x_1_5, train_y_5 = get_train_data(train_data,5)\n",
    "print(train_x_18_5.shape)\n",
    "print(train_x_1_5.shape)\n",
    "print(train_y_5.shape)\n",
    "\n",
    "test_x_18_9, test_x_1_9 = get_test_data(test_data,9)\n",
    "print(test_x_18_9.shape)\n",
    "print(test_x_1_9.shape)\n",
    "\n",
    "test_x_18_5, test_x_1_5 = get_test_data(test_data,5)\n",
    "print(test_x_18_5.shape)\n",
    "print(test_x_1_5.shape)"
   ]
  },
  {
   "cell_type": "code",
   "execution_count": 6,
   "metadata": {},
   "outputs": [],
   "source": [
    "# add bias term\n",
    "train_x_18_9 = np.hstack([train_x_18_9,np.ones((train_x_18_9.shape[0],1))])\n",
    "train_x_1_9 = np.hstack([train_x_1_9,np.ones((train_x_1_9.shape[0],1))])\n",
    "test_x_18_9 = np.hstack([test_x_18_9,np.ones((test_x_18_9.shape[0],1))])\n",
    "test_x_1_9 = np.hstack([test_x_1_9,np.ones((test_x_1_9.shape[0],1))])\n",
    "\n",
    "train_x_18_5 = np.hstack([train_x_18_5,np.ones((train_x_18_5.shape[0],1))])\n",
    "train_x_1_5 = np.hstack([train_x_1_5,np.ones((train_x_1_5.shape[0],1))])\n",
    "test_x_18_5 = np.hstack([test_x_18_5,np.ones((test_x_18_5.shape[0],1))])\n",
    "test_x_1_5 = np.hstack([test_x_1_5,np.ones((test_x_1_5.shape[0],1))])"
   ]
  },
  {
   "cell_type": "code",
   "execution_count": 15,
   "metadata": {},
   "outputs": [],
   "source": [
    "def output_result(filename,predict_value):\n",
    "    id_ = []\n",
    "    for i in range(predict_value.shape[0]):\n",
    "        temp = 'id_'+str(i)\n",
    "        id_.append(temp)\n",
    "    output = pd.DataFrame(columns=['id','value'])\n",
    "    output['id'] = id_\n",
    "    output['value'] = predict_value\n",
    "    output.to_csv(filename,index = False)\n",
    "    \n",
    "    print(output.head())"
   ]
  },
  {
   "cell_type": "code",
   "execution_count": 16,
   "metadata": {},
   "outputs": [
    {
     "name": "stdout",
     "output_type": "stream",
     "text": [
      "     id   value\n",
      "0  id_0   6.300\n",
      "1  id_1  17.895\n",
      "2  id_2  27.135\n",
      "3  id_3   6.730\n",
      "4  id_4  28.670\n"
     ]
    }
   ],
   "source": [
    "output_result('output_rf.csv',prediction_test)"
   ]
  },
  {
   "cell_type": "code",
   "execution_count": 53,
   "metadata": {},
   "outputs": [],
   "source": [
    "from sklearn.ensemble import RandomForestRegressor\n",
    "from sklearn import metrics\n",
    "from sklearn.grid_search import GridSearchCV"
   ]
  },
  {
   "cell_type": "code",
   "execution_count": 54,
   "metadata": {},
   "outputs": [
    {
     "data": {
      "text/plain": [
       "RandomForestRegressor(bootstrap=True, criterion='mse', max_depth=None,\n",
       "           max_features='auto', max_leaf_nodes=None,\n",
       "           min_impurity_decrease=0.0, min_impurity_split=None,\n",
       "           min_samples_leaf=1, min_samples_split=2,\n",
       "           min_weight_fraction_leaf=0.0, n_estimators=10, n_jobs=1,\n",
       "           oob_score=False, random_state=10, verbose=0, warm_start=False)"
      ]
     },
     "execution_count": 54,
     "metadata": {},
     "output_type": "execute_result"
    }
   ],
   "source": [
    "forest = RandomForestRegressor(random_state=10)\n",
    "forest.fit(train_x_18_9,train_y_9)"
   ]
  },
  {
   "cell_type": "code",
   "execution_count": 55,
   "metadata": {},
   "outputs": [
    {
     "name": "stdout",
     "output_type": "stream",
     "text": [
      "2.849348093723737\n"
     ]
    }
   ],
   "source": [
    "pre = forest.predict(train_x_18_9)\n",
    "print(metrics.mean_squared_error(train_y_9,pre)**0.5)"
   ]
  },
  {
   "cell_type": "code",
   "execution_count": 56,
   "metadata": {},
   "outputs": [
    {
     "data": {
      "text/plain": [
       "([mean: -49.34916, std: 8.18040, params: {'n_estimators': 10},\n",
       "  mean: -47.51384, std: 8.72862, params: {'n_estimators': 20},\n",
       "  mean: -45.63497, std: 8.51197, params: {'n_estimators': 30},\n",
       "  mean: -46.29801, std: 8.38311, params: {'n_estimators': 40},\n",
       "  mean: -45.91122, std: 8.01583, params: {'n_estimators': 50},\n",
       "  mean: -45.08428, std: 9.02259, params: {'n_estimators': 60},\n",
       "  mean: -45.21809, std: 8.76195, params: {'n_estimators': 70}],\n",
       " {'n_estimators': 60},\n",
       " -45.08427906257848)"
      ]
     },
     "execution_count": 56,
     "metadata": {},
     "output_type": "execute_result"
    }
   ],
   "source": [
    "param_test1= {'n_estimators':[i for i in range(10,71,10)]}\n",
    "\n",
    "gsearch1= GridSearchCV(estimator = RandomForestRegressor(),\n",
    "#                                  min_samples_leaf=20,max_depth=8,max_features='sqrt' ,random_state=10),\n",
    "                       param_grid =param_test1, scoring='neg_mean_squared_error',cv=5)\n",
    "gsearch1.fit(train_x_18_9,train_y_9)\n",
    "gsearch1.grid_scores_,gsearch1.best_params_, gsearch1.best_score_\n"
   ]
  },
  {
   "cell_type": "code",
   "execution_count": 57,
   "metadata": {},
   "outputs": [
    {
     "data": {
      "text/plain": [
       "6.714482784442781"
      ]
     },
     "execution_count": 57,
     "metadata": {},
     "output_type": "execute_result"
    }
   ],
   "source": [
    "(gsearch1.best_score_*-1)**0.5"
   ]
  },
  {
   "cell_type": "code",
   "execution_count": 63,
   "metadata": {},
   "outputs": [
    {
     "data": {
      "text/plain": [
       "([mean: -50.73787, std: 11.08709, params: {'max_depth': 3, 'min_samples_split': 50},\n",
       "  mean: -50.51117, std: 10.70753, params: {'max_depth': 3, 'min_samples_split': 70},\n",
       "  mean: -50.89457, std: 10.94607, params: {'max_depth': 3, 'min_samples_split': 90},\n",
       "  mean: -50.77795, std: 11.05020, params: {'max_depth': 3, 'min_samples_split': 110},\n",
       "  mean: -50.49816, std: 10.68308, params: {'max_depth': 3, 'min_samples_split': 130},\n",
       "  mean: -50.59236, std: 10.91041, params: {'max_depth': 3, 'min_samples_split': 150},\n",
       "  mean: -50.65559, std: 10.85900, params: {'max_depth': 3, 'min_samples_split': 170},\n",
       "  mean: -51.60338, std: 11.84658, params: {'max_depth': 3, 'min_samples_split': 190},\n",
       "  mean: -47.30114, std: 9.61762, params: {'max_depth': 5, 'min_samples_split': 50},\n",
       "  mean: -47.96165, std: 10.14189, params: {'max_depth': 5, 'min_samples_split': 70},\n",
       "  mean: -47.54596, std: 9.47000, params: {'max_depth': 5, 'min_samples_split': 90},\n",
       "  mean: -47.70303, std: 9.97500, params: {'max_depth': 5, 'min_samples_split': 110},\n",
       "  mean: -47.84825, std: 9.23977, params: {'max_depth': 5, 'min_samples_split': 130},\n",
       "  mean: -47.44276, std: 9.57287, params: {'max_depth': 5, 'min_samples_split': 150},\n",
       "  mean: -47.93553, std: 10.03067, params: {'max_depth': 5, 'min_samples_split': 170},\n",
       "  mean: -49.01598, std: 11.29471, params: {'max_depth': 5, 'min_samples_split': 190},\n",
       "  mean: -46.51456, std: 9.19051, params: {'max_depth': 7, 'min_samples_split': 50},\n",
       "  mean: -46.24933, std: 9.35253, params: {'max_depth': 7, 'min_samples_split': 70},\n",
       "  mean: -46.97740, std: 8.76570, params: {'max_depth': 7, 'min_samples_split': 90},\n",
       "  mean: -46.66979, std: 9.56203, params: {'max_depth': 7, 'min_samples_split': 110},\n",
       "  mean: -46.77478, std: 9.43160, params: {'max_depth': 7, 'min_samples_split': 130},\n",
       "  mean: -47.00075, std: 9.02736, params: {'max_depth': 7, 'min_samples_split': 150},\n",
       "  mean: -47.26170, std: 9.58401, params: {'max_depth': 7, 'min_samples_split': 170},\n",
       "  mean: -48.14309, std: 10.82224, params: {'max_depth': 7, 'min_samples_split': 190},\n",
       "  mean: -45.89339, std: 9.19233, params: {'max_depth': 9, 'min_samples_split': 50},\n",
       "  mean: -46.25431, std: 9.15597, params: {'max_depth': 9, 'min_samples_split': 70},\n",
       "  mean: -46.38288, std: 9.40287, params: {'max_depth': 9, 'min_samples_split': 90},\n",
       "  mean: -46.38968, std: 9.28730, params: {'max_depth': 9, 'min_samples_split': 110},\n",
       "  mean: -46.58827, std: 9.45349, params: {'max_depth': 9, 'min_samples_split': 130},\n",
       "  mean: -46.70911, std: 10.17436, params: {'max_depth': 9, 'min_samples_split': 150},\n",
       "  mean: -47.07557, std: 9.46809, params: {'max_depth': 9, 'min_samples_split': 170},\n",
       "  mean: -47.93946, std: 10.57950, params: {'max_depth': 9, 'min_samples_split': 190},\n",
       "  mean: -45.93186, std: 8.59008, params: {'max_depth': 11, 'min_samples_split': 50},\n",
       "  mean: -45.96495, std: 9.21393, params: {'max_depth': 11, 'min_samples_split': 70},\n",
       "  mean: -46.60943, std: 8.72848, params: {'max_depth': 11, 'min_samples_split': 90},\n",
       "  mean: -46.70861, std: 9.18950, params: {'max_depth': 11, 'min_samples_split': 110},\n",
       "  mean: -46.39245, std: 9.75652, params: {'max_depth': 11, 'min_samples_split': 130},\n",
       "  mean: -46.67586, std: 9.80837, params: {'max_depth': 11, 'min_samples_split': 150},\n",
       "  mean: -47.07226, std: 9.82514, params: {'max_depth': 11, 'min_samples_split': 170},\n",
       "  mean: -48.15564, std: 10.74953, params: {'max_depth': 11, 'min_samples_split': 190},\n",
       "  mean: -45.73905, std: 8.82519, params: {'max_depth': 13, 'min_samples_split': 50},\n",
       "  mean: -45.86892, std: 9.30008, params: {'max_depth': 13, 'min_samples_split': 70},\n",
       "  mean: -46.42053, std: 9.19484, params: {'max_depth': 13, 'min_samples_split': 90},\n",
       "  mean: -46.24618, std: 9.20813, params: {'max_depth': 13, 'min_samples_split': 110},\n",
       "  mean: -46.57196, std: 9.17605, params: {'max_depth': 13, 'min_samples_split': 130},\n",
       "  mean: -46.52784, std: 9.76055, params: {'max_depth': 13, 'min_samples_split': 150},\n",
       "  mean: -47.06490, std: 10.11495, params: {'max_depth': 13, 'min_samples_split': 170},\n",
       "  mean: -48.59345, std: 10.90478, params: {'max_depth': 13, 'min_samples_split': 190}],\n",
       " {'max_depth': 13, 'min_samples_split': 50},\n",
       " 6.763064881440643)"
      ]
     },
     "execution_count": 63,
     "metadata": {},
     "output_type": "execute_result"
    }
   ],
   "source": [
    "param_test2= {'max_depth':[i for i in range(10,20,2)], 'min_samples_split':[i for i in range(2,52,10)]}\n",
    "gsearch2= GridSearchCV(estimator = RandomForestRegressor(n_estimators= 60),\n",
    "#                                  min_samples_leaf=20,max_depth=8,max_features='sqrt' ,random_state=10),\n",
    "                       param_grid =param_test2, scoring='neg_mean_squared_error',cv=5)\n",
    "gsearch2.fit(train_x_18_9,train_y_9)\n",
    "gsearch2.grid_scores_,gsearch2.best_params_, (gsearch2.best_score_*-1)**0.5"
   ]
  },
  {
   "cell_type": "code",
   "execution_count": null,
   "metadata": {},
   "outputs": [],
   "source": [
    "'sha1:9e7a50cd0206:6d63824225cf72432869e379bb68181d9cd7add3'"
   ]
  }
 ],
 "metadata": {
  "kernelspec": {
   "display_name": "Python 3",
   "language": "python",
   "name": "python3"
  },
  "language_info": {
   "codemirror_mode": {
    "name": "ipython",
    "version": 3
   },
   "file_extension": ".py",
   "mimetype": "text/x-python",
   "name": "python",
   "nbconvert_exporter": "python",
   "pygments_lexer": "ipython3",
   "version": "3.6.5"
  }
 },
 "nbformat": 4,
 "nbformat_minor": 2
}
