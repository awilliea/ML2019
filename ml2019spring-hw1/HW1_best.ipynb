{
 "cells": [
  {
   "cell_type": "code",
   "execution_count": 1,
   "metadata": {},
   "outputs": [],
   "source": [
    "import pandas as pd\n",
    "import numpy as np\n",
    "import matplotlib.pyplot as plt\n",
    "\n",
    "def load_train_data(filename):\n",
    "    train = pd.read_csv(filename,encoding='big5')\n",
    "    \n",
    "    ### seperate data \n",
    "    data = [[] for i in range(18)]\n",
    "    for r,d in enumerate(train.iloc[:,3:].values):\n",
    "        data[r%18].append(d)\n",
    "    data = np.array(data).reshape((18,-1))\n",
    "    \n",
    "    return data\n",
    "\n",
    "def load_test_data(filename):\n",
    "    test = pd.read_csv(filename,encoding='big5',header = None)\n",
    "    test_data = [[] for i in range(18)]\n",
    "    for r,d in enumerate(test.iloc[:,2:].values):\n",
    "        test_data[r%18].append(d)\n",
    "    test_data = np.array(test_data).reshape((18,-1))\n",
    "    \n",
    "    return test_data"
   ]
  },
  {
   "cell_type": "code",
   "execution_count": 2,
   "metadata": {},
   "outputs": [
    {
     "name": "stdout",
     "output_type": "stream",
     "text": [
      "(18, 5760)\n",
      "(18, 2160)\n"
     ]
    }
   ],
   "source": [
    "train_data = load_train_data('./data/train.csv')\n",
    "test_data = load_test_data('./data/test.csv')\n",
    "\n",
    "print(train_data.shape)\n",
    "print(test_data.shape)"
   ]
  },
  {
   "cell_type": "code",
   "execution_count": 3,
   "metadata": {
    "collapsed": true
   },
   "outputs": [],
   "source": [
    "def get_train_data(data,hours):\n",
    "    train_x_18 = []\n",
    "    train_x_1 = []\n",
    "    train_y = []\n",
    "\n",
    "    for i in range(0,data.shape[1]-hours):\n",
    "        train_x_18.append(data[:,i:i+hours].reshape((-1)))\n",
    "        train_x_1.append(data[9,i:i+hours].reshape((-1)))\n",
    "        train_y.append(data[9][i+hours])\n",
    "        \n",
    "    train_x_18 = np.array(train_x_18)\n",
    "    train_x_1 = np.array(train_x_1)\n",
    "    train_y = np.array(train_y).astype(np.float64)\n",
    "\n",
    "    # replace NR to 0\n",
    "    train_x_18[train_x_18 == 'NR'] = 0\n",
    "    train_x_18 = train_x_18.astype(np.float64)\n",
    "    train_x_1 = train_x_1.astype(np.float64)\n",
    "    \n",
    "    return train_x_18, train_x_1, train_y\n",
    "\n",
    "def get_test_data(data,hours):\n",
    "    test_x_18 = []\n",
    "    test_x_1 = []\n",
    "    \n",
    "    for i in range(0,data.shape[1],hours):\n",
    "        test_x_18.append(data[:,i:i+hours].reshape(-1))\n",
    "        test_x_1.append(data[9,i:i+hours].reshape(-1))\n",
    "        \n",
    "    test_x_18 = np.array(test_x_18)\n",
    "    test_x_1 = np.array(test_x_1)\n",
    "    \n",
    "    test_x_18[test_x_18 == 'NR'] = 0\n",
    "    test_x_18 = test_x_18.astype(np.float64)\n",
    "    test_x_1 = test_x_1.astype(np.float64)\n",
    "    return test_x_18, test_x_1"
   ]
  },
  {
   "cell_type": "code",
   "execution_count": 4,
   "metadata": {},
   "outputs": [
    {
     "name": "stdout",
     "output_type": "stream",
     "text": [
      "(5751, 162)\n",
      "(5751, 9)\n",
      "(5751,)\n",
      "(5755, 90)\n",
      "(5755, 5)\n",
      "(5755,)\n",
      "(240, 162)\n",
      "(240, 9)\n",
      "(432, 90)\n",
      "(432, 5)\n"
     ]
    }
   ],
   "source": [
    "train_x_18_9, train_x_1_9, train_y_9 = get_train_data(train_data,9)\n",
    "print(train_x_18_9.shape)\n",
    "print(train_x_1_9.shape)\n",
    "print(train_y_9.shape)\n",
    "\n",
    "train_x_18_5, train_x_1_5, train_y_5 = get_train_data(train_data,5)\n",
    "print(train_x_18_5.shape)\n",
    "print(train_x_1_5.shape)\n",
    "print(train_y_5.shape)\n",
    "\n",
    "test_x_18_9, test_x_1_9 = get_test_data(test_data,9)\n",
    "print(test_x_18_9.shape)\n",
    "print(test_x_1_9.shape)\n",
    "\n",
    "test_x_18_5, test_x_1_5 = get_test_data(test_data,5)\n",
    "print(test_x_18_5.shape)\n",
    "print(test_x_1_5.shape)"
   ]
  },
  {
   "cell_type": "code",
   "execution_count": 5,
   "metadata": {
    "collapsed": true
   },
   "outputs": [],
   "source": [
    "# add bias term\n",
    "train_x_18_9 = np.hstack([train_x_18_9,np.ones((train_x_18_9.shape[0],1))])\n",
    "train_x_1_9 = np.hstack([train_x_1_9,np.ones((train_x_1_9.shape[0],1))])\n",
    "test_x_18_9 = np.hstack([test_x_18_9,np.ones((test_x_18_9.shape[0],1))])\n",
    "test_x_1_9 = np.hstack([test_x_1_9,np.ones((test_x_1_9.shape[0],1))])\n",
    "\n",
    "train_x_18_5 = np.hstack([train_x_18_5,np.ones((train_x_18_5.shape[0],1))])\n",
    "train_x_1_5 = np.hstack([train_x_1_5,np.ones((train_x_1_5.shape[0],1))])\n",
    "test_x_18_5 = np.hstack([test_x_18_5,np.ones((test_x_18_5.shape[0],1))])\n",
    "test_x_1_5 = np.hstack([test_x_1_5,np.ones((test_x_1_5.shape[0],1))])"
   ]
  },
  {
   "cell_type": "code",
   "execution_count": 19,
   "metadata": {
    "collapsed": true
   },
   "outputs": [],
   "source": [
    "def output_result(filename,predict_value):\n",
    "    id_ = []\n",
    "    for i in range(predict_value.shape[0]):\n",
    "        temp = 'id_'+str(i)\n",
    "        id_.append(temp)\n",
    "    output = pd.DataFrame(columns=['id','value'])\n",
    "    output['id'] = id_\n",
    "    output['value'] = predict_value\n",
    "    output.to_csv(filename,index = False)\n",
    "    \n",
    "    print(output.head())"
   ]
  },
  {
   "cell_type": "code",
   "execution_count": 39,
   "metadata": {},
   "outputs": [],
   "source": [
    "from sklearn.ensemble import RandomForestRegressor,GradientBoostingRegressor\n",
    "from sklearn import metrics\n",
    "from sklearn.grid_search import GridSearchCV"
   ]
  },
  {
   "cell_type": "code",
   "execution_count": 9,
   "metadata": {
    "collapsed": true
   },
   "outputs": [],
   "source": [
    "from sklearn.linear_model import LinearRegression"
   ]
  },
  {
   "cell_type": "code",
   "execution_count": 34,
   "metadata": {},
   "outputs": [
    {
     "data": {
      "text/plain": [
       "LinearRegression(copy_X=True, fit_intercept=True, n_jobs=1, normalize=True)"
      ]
     },
     "execution_count": 34,
     "metadata": {},
     "output_type": "execute_result"
    }
   ],
   "source": [
    "lm = LinearRegression(normalize=True)\n",
    "lm.fit(train_x_18_9,train_y_9)"
   ]
  },
  {
   "cell_type": "code",
   "execution_count": 35,
   "metadata": {},
   "outputs": [],
   "source": [
    "pre = lm.predict(train_x_18_9)"
   ]
  },
  {
   "cell_type": "code",
   "execution_count": 36,
   "metadata": {
    "collapsed": true
   },
   "outputs": [],
   "source": [
    "def rmse(pre,test):\n",
    "    tmp = 0\n",
    "    for i,p in enumerate(pre):\n",
    "        tmp += (p-test[i])**2\n",
    "    return (tmp/pre.shape[0])**0.5"
   ]
  },
  {
   "cell_type": "code",
   "execution_count": 37,
   "metadata": {},
   "outputs": [
    {
     "data": {
      "text/plain": [
       "5.7829041840324136"
      ]
     },
     "execution_count": 37,
     "metadata": {},
     "output_type": "execute_result"
    }
   ],
   "source": [
    "rmse(pre,train_y_9)"
   ]
  },
  {
   "cell_type": "code",
   "execution_count": 38,
   "metadata": {},
   "outputs": [
    {
     "name": "stdout",
     "output_type": "stream",
     "text": [
      "     id      value\n",
      "0  id_0   6.779339\n",
      "1  id_1  18.248901\n",
      "2  id_2  23.944874\n",
      "3  id_3   7.731480\n",
      "4  id_4  27.142087\n"
     ]
    }
   ],
   "source": [
    "prediction_test = lm.predict(test_x_18_9)\n",
    "output_result('output_lm.csv',prediction_test)"
   ]
  },
  {
   "cell_type": "code",
   "execution_count": 14,
   "metadata": {},
   "outputs": [
    {
     "data": {
      "text/plain": [
       "RandomForestRegressor(bootstrap=True, criterion='mse', max_depth=None,\n",
       "           max_features='auto', max_leaf_nodes=None,\n",
       "           min_impurity_decrease=0.0, min_impurity_split=None,\n",
       "           min_samples_leaf=1, min_samples_split=2,\n",
       "           min_weight_fraction_leaf=0.0, n_estimators=10, n_jobs=1,\n",
       "           oob_score=False, random_state=10, verbose=0, warm_start=False)"
      ]
     },
     "execution_count": 14,
     "metadata": {},
     "output_type": "execute_result"
    }
   ],
   "source": [
    "forest = RandomForestRegressor(random_state=10)\n",
    "forest.fit(train_x_18_9,train_y_9)"
   ]
  },
  {
   "cell_type": "code",
   "execution_count": 15,
   "metadata": {},
   "outputs": [
    {
     "name": "stdout",
     "output_type": "stream",
     "text": [
      "2.84934809372\n"
     ]
    }
   ],
   "source": [
    "pre = forest.predict(train_x_18_9)\n",
    "print(rmse(pre,train_y_9))"
   ]
  },
  {
   "cell_type": "code",
   "execution_count": 22,
   "metadata": {},
   "outputs": [
    {
     "data": {
      "text/plain": [
       "([mean: -53.62212, std: 10.37863, params: {'n_estimators': 10},\n",
       "  mean: -49.76097, std: 9.08392, params: {'n_estimators': 20},\n",
       "  mean: -49.04939, std: 9.25554, params: {'n_estimators': 30},\n",
       "  mean: -48.20502, std: 8.40299, params: {'n_estimators': 40},\n",
       "  mean: -47.89552, std: 8.37526, params: {'n_estimators': 50},\n",
       "  mean: -47.89158, std: 8.75664, params: {'n_estimators': 60},\n",
       "  mean: -47.48670, std: 8.36389, params: {'n_estimators': 70}],\n",
       " {'n_estimators': 70},\n",
       " -47.486699243077524)"
      ]
     },
     "execution_count": 22,
     "metadata": {},
     "output_type": "execute_result"
    }
   ],
   "source": [
    "param_test1= {'n_estimators':[i for i in range(10,71,10)]}\n",
    "\n",
    "gsearch1= GridSearchCV(estimator = RandomForestRegressor(),\n",
    "#                                  min_samples_leaf=20,max_depth=8,max_features='sqrt' ,random_state=10),\n",
    "                       param_grid =param_test1, scoring='neg_mean_squared_error',cv=3,n_jobs = 12)\n",
    "gsearch1.fit(train_x_18_9,train_y_9)\n",
    "gsearch1.grid_scores_,gsearch1.best_params_, gsearch1.best_score_\n"
   ]
  },
  {
   "cell_type": "code",
   "execution_count": 23,
   "metadata": {},
   "outputs": [
    {
     "data": {
      "text/plain": [
       "6.8910593701605505"
      ]
     },
     "execution_count": 23,
     "metadata": {},
     "output_type": "execute_result"
    }
   ],
   "source": [
    "(gsearch1.best_score_*-1)**0.5"
   ]
  },
  {
   "cell_type": "code",
   "execution_count": 11,
   "metadata": {},
   "outputs": [
    {
     "data": {
      "text/plain": [
       "([mean: -45.49097, std: 8.63872, params: {'max_depth': 10, 'min_samples_split': 2},\n",
       "  mean: -45.20031, std: 8.53628, params: {'max_depth': 10, 'min_samples_split': 12},\n",
       "  mean: -45.98404, std: 9.01138, params: {'max_depth': 10, 'min_samples_split': 22},\n",
       "  mean: -46.28174, std: 9.07085, params: {'max_depth': 10, 'min_samples_split': 32},\n",
       "  mean: -46.22732, std: 9.11412, params: {'max_depth': 10, 'min_samples_split': 42},\n",
       "  mean: -45.53640, std: 8.76131, params: {'max_depth': 12, 'min_samples_split': 2},\n",
       "  mean: -45.53601, std: 9.43556, params: {'max_depth': 12, 'min_samples_split': 12},\n",
       "  mean: -46.14703, std: 9.52828, params: {'max_depth': 12, 'min_samples_split': 22},\n",
       "  mean: -45.06799, std: 9.37471, params: {'max_depth': 12, 'min_samples_split': 32},\n",
       "  mean: -46.54924, std: 8.91659, params: {'max_depth': 12, 'min_samples_split': 42},\n",
       "  mean: -45.48071, std: 8.59541, params: {'max_depth': 14, 'min_samples_split': 2},\n",
       "  mean: -45.20763, std: 8.61868, params: {'max_depth': 14, 'min_samples_split': 12},\n",
       "  mean: -45.13501, std: 8.56806, params: {'max_depth': 14, 'min_samples_split': 22},\n",
       "  mean: -46.15608, std: 8.95403, params: {'max_depth': 14, 'min_samples_split': 32},\n",
       "  mean: -45.76651, std: 9.33609, params: {'max_depth': 14, 'min_samples_split': 42},\n",
       "  mean: -45.36703, std: 8.92123, params: {'max_depth': 16, 'min_samples_split': 2},\n",
       "  mean: -45.74807, std: 9.05316, params: {'max_depth': 16, 'min_samples_split': 12},\n",
       "  mean: -46.16844, std: 9.20594, params: {'max_depth': 16, 'min_samples_split': 22},\n",
       "  mean: -45.19749, std: 8.71949, params: {'max_depth': 16, 'min_samples_split': 32},\n",
       "  mean: -45.82982, std: 9.55079, params: {'max_depth': 16, 'min_samples_split': 42},\n",
       "  mean: -45.52032, std: 8.45432, params: {'max_depth': 18, 'min_samples_split': 2},\n",
       "  mean: -45.59816, std: 9.10062, params: {'max_depth': 18, 'min_samples_split': 12},\n",
       "  mean: -45.48682, std: 8.83327, params: {'max_depth': 18, 'min_samples_split': 22},\n",
       "  mean: -46.06163, std: 8.93199, params: {'max_depth': 18, 'min_samples_split': 32},\n",
       "  mean: -44.98848, std: 9.10759, params: {'max_depth': 18, 'min_samples_split': 42}],\n",
       " {'max_depth': 18, 'min_samples_split': 42},\n",
       " 6.7073454101646135)"
      ]
     },
     "execution_count": 11,
     "metadata": {},
     "output_type": "execute_result"
    }
   ],
   "source": [
    "param_test2= {'max_depth':[i for i in range(10,20,2)], 'min_samples_split':[i for i in range(2,52,10)]}\n",
    "gsearch2= GridSearchCV(estimator = RandomForestRegressor(n_estimators= 60),\n",
    "#                                  min_samples_leaf=20,max_depth=8,max_features='sqrt' ,random_state=10),\n",
    "                       param_grid =param_test2, scoring='neg_mean_squared_error',cv=5,n_jobs=3)\n",
    "gsearch2.fit(train_x_18_9,train_y_9)\n",
    "gsearch2.grid_scores_,gsearch2.best_params_, (gsearch2.best_score_*-1)**0.5"
   ]
  },
  {
   "cell_type": "code",
   "execution_count": 12,
   "metadata": {},
   "outputs": [
    {
     "data": {
      "text/plain": [
       "([mean: -45.19147, std: 8.48883, params: {'max_depth': 20, 'min_samples_split': 2},\n",
       "  mean: -45.11397, std: 8.72600, params: {'max_depth': 20, 'min_samples_split': 17},\n",
       "  mean: -45.29740, std: 8.88584, params: {'max_depth': 20, 'min_samples_split': 32},\n",
       "  mean: -45.73170, std: 9.26199, params: {'max_depth': 20, 'min_samples_split': 47},\n",
       "  mean: -46.00905, std: 9.10949, params: {'max_depth': 20, 'min_samples_split': 62},\n",
       "  mean: -45.46666, std: 8.85808, params: {'max_depth': 22, 'min_samples_split': 2},\n",
       "  mean: -45.60173, std: 8.95280, params: {'max_depth': 22, 'min_samples_split': 17},\n",
       "  mean: -46.21174, std: 9.42386, params: {'max_depth': 22, 'min_samples_split': 32},\n",
       "  mean: -46.03069, std: 9.02647, params: {'max_depth': 22, 'min_samples_split': 47},\n",
       "  mean: -45.98206, std: 9.16324, params: {'max_depth': 22, 'min_samples_split': 62},\n",
       "  mean: -46.39856, std: 9.41831, params: {'max_depth': 24, 'min_samples_split': 2},\n",
       "  mean: -46.07278, std: 9.36477, params: {'max_depth': 24, 'min_samples_split': 17},\n",
       "  mean: -46.07059, std: 9.26200, params: {'max_depth': 24, 'min_samples_split': 32},\n",
       "  mean: -45.90624, std: 8.90836, params: {'max_depth': 24, 'min_samples_split': 47},\n",
       "  mean: -45.78097, std: 8.87596, params: {'max_depth': 24, 'min_samples_split': 62},\n",
       "  mean: -45.98396, std: 8.87495, params: {'max_depth': 26, 'min_samples_split': 2},\n",
       "  mean: -45.57852, std: 8.62166, params: {'max_depth': 26, 'min_samples_split': 17},\n",
       "  mean: -45.19305, std: 8.64539, params: {'max_depth': 26, 'min_samples_split': 32},\n",
       "  mean: -45.35889, std: 8.96395, params: {'max_depth': 26, 'min_samples_split': 47},\n",
       "  mean: -45.87156, std: 8.95245, params: {'max_depth': 26, 'min_samples_split': 62},\n",
       "  mean: -45.99667, std: 9.24247, params: {'max_depth': 28, 'min_samples_split': 2},\n",
       "  mean: -45.64062, std: 8.90456, params: {'max_depth': 28, 'min_samples_split': 17},\n",
       "  mean: -46.05498, std: 9.14801, params: {'max_depth': 28, 'min_samples_split': 32},\n",
       "  mean: -46.23815, std: 9.21134, params: {'max_depth': 28, 'min_samples_split': 47},\n",
       "  mean: -45.40271, std: 8.97304, params: {'max_depth': 28, 'min_samples_split': 62},\n",
       "  mean: -45.58769, std: 9.60728, params: {'max_depth': 30, 'min_samples_split': 2},\n",
       "  mean: -46.07021, std: 9.56391, params: {'max_depth': 30, 'min_samples_split': 17},\n",
       "  mean: -45.42210, std: 9.15950, params: {'max_depth': 30, 'min_samples_split': 32},\n",
       "  mean: -45.27080, std: 9.00501, params: {'max_depth': 30, 'min_samples_split': 47},\n",
       "  mean: -45.57654, std: 9.02384, params: {'max_depth': 30, 'min_samples_split': 62},\n",
       "  mean: -45.62059, std: 9.07420, params: {'max_depth': 32, 'min_samples_split': 2},\n",
       "  mean: -45.01118, std: 8.96182, params: {'max_depth': 32, 'min_samples_split': 17},\n",
       "  mean: -45.51147, std: 9.71654, params: {'max_depth': 32, 'min_samples_split': 32},\n",
       "  mean: -45.67344, std: 8.94290, params: {'max_depth': 32, 'min_samples_split': 47},\n",
       "  mean: -46.11386, std: 8.78786, params: {'max_depth': 32, 'min_samples_split': 62},\n",
       "  mean: -45.27293, std: 8.88074, params: {'max_depth': 34, 'min_samples_split': 2},\n",
       "  mean: -45.31237, std: 7.82834, params: {'max_depth': 34, 'min_samples_split': 17},\n",
       "  mean: -45.80193, std: 8.61928, params: {'max_depth': 34, 'min_samples_split': 32},\n",
       "  mean: -45.98535, std: 8.81906, params: {'max_depth': 34, 'min_samples_split': 47},\n",
       "  mean: -46.09357, std: 8.99743, params: {'max_depth': 34, 'min_samples_split': 62},\n",
       "  mean: -45.74920, std: 8.63020, params: {'max_depth': 36, 'min_samples_split': 2},\n",
       "  mean: -45.36222, std: 8.64904, params: {'max_depth': 36, 'min_samples_split': 17},\n",
       "  mean: -46.15046, std: 9.21245, params: {'max_depth': 36, 'min_samples_split': 32},\n",
       "  mean: -45.84600, std: 9.13789, params: {'max_depth': 36, 'min_samples_split': 47},\n",
       "  mean: -45.83121, std: 8.95555, params: {'max_depth': 36, 'min_samples_split': 62},\n",
       "  mean: -45.38713, std: 8.71056, params: {'max_depth': 38, 'min_samples_split': 2},\n",
       "  mean: -45.41006, std: 8.86922, params: {'max_depth': 38, 'min_samples_split': 17},\n",
       "  mean: -45.89766, std: 9.08762, params: {'max_depth': 38, 'min_samples_split': 32},\n",
       "  mean: -45.48163, std: 8.84816, params: {'max_depth': 38, 'min_samples_split': 47},\n",
       "  mean: -45.94963, std: 8.86359, params: {'max_depth': 38, 'min_samples_split': 62}],\n",
       " {'max_depth': 32, 'min_samples_split': 17},\n",
       " 6.709037098051274)"
      ]
     },
     "execution_count": 12,
     "metadata": {},
     "output_type": "execute_result"
    }
   ],
   "source": [
    "param_test2= {'max_depth':[i for i in range(20,40,2)], 'min_samples_split':[i for i in range(2,72,15)]}\n",
    "gsearch2= GridSearchCV(estimator = RandomForestRegressor(n_estimators= 60),\n",
    "#                                  min_samples_leaf=20,max_depth=8,max_features='sqrt' ,random_state=10),\n",
    "                       param_grid =param_test2, scoring='neg_mean_squared_error',cv=5,n_jobs=12)\n",
    "gsearch2.fit(train_x_18_9,train_y_9)\n",
    "gsearch2.grid_scores_,gsearch2.best_params_, (gsearch2.best_score_*-1)**0.5"
   ]
  },
  {
   "cell_type": "code",
   "execution_count": 15,
   "metadata": {},
   "outputs": [
    {
     "data": {
      "text/plain": [
       "([mean: -45.09276, std: 9.70218, params: {'min_samples_leaf': 2, 'min_samples_split': 2},\n",
       "  mean: -45.02056, std: 9.81790, params: {'min_samples_leaf': 2, 'min_samples_split': 7},\n",
       "  mean: -45.33229, std: 9.80756, params: {'min_samples_leaf': 2, 'min_samples_split': 12},\n",
       "  mean: -45.38893, std: 9.82930, params: {'min_samples_leaf': 2, 'min_samples_split': 17},\n",
       "  mean: -45.59281, std: 9.98997, params: {'min_samples_leaf': 2, 'min_samples_split': 22},\n",
       "  mean: -45.76089, std: 10.27894, params: {'min_samples_leaf': 2, 'min_samples_split': 27},\n",
       "  mean: -45.83291, std: 10.37861, params: {'min_samples_leaf': 2, 'min_samples_split': 32},\n",
       "  mean: -45.53646, std: 10.02583, params: {'min_samples_leaf': 2, 'min_samples_split': 37},\n",
       "  mean: -45.50658, std: 9.95866, params: {'min_samples_leaf': 2, 'min_samples_split': 42},\n",
       "  mean: -45.42628, std: 10.01900, params: {'min_samples_leaf': 2, 'min_samples_split': 47},\n",
       "  mean: -44.57749, std: 9.90823, params: {'min_samples_leaf': 7, 'min_samples_split': 2},\n",
       "  mean: -44.57749, std: 9.90823, params: {'min_samples_leaf': 7, 'min_samples_split': 7},\n",
       "  mean: -44.67842, std: 10.14918, params: {'min_samples_leaf': 7, 'min_samples_split': 12},\n",
       "  mean: -44.60452, std: 10.17562, params: {'min_samples_leaf': 7, 'min_samples_split': 17},\n",
       "  mean: -44.83649, std: 10.40025, params: {'min_samples_leaf': 7, 'min_samples_split': 22},\n",
       "  mean: -44.91170, std: 10.47899, params: {'min_samples_leaf': 7, 'min_samples_split': 27},\n",
       "  mean: -45.05109, std: 10.52738, params: {'min_samples_leaf': 7, 'min_samples_split': 32},\n",
       "  mean: -45.08344, std: 10.40456, params: {'min_samples_leaf': 7, 'min_samples_split': 37},\n",
       "  mean: -45.08505, std: 10.41739, params: {'min_samples_leaf': 7, 'min_samples_split': 42},\n",
       "  mean: -44.88214, std: 10.19026, params: {'min_samples_leaf': 7, 'min_samples_split': 47},\n",
       "  mean: -44.90644, std: 10.33855, params: {'min_samples_leaf': 12, 'min_samples_split': 2},\n",
       "  mean: -44.79395, std: 10.56493, params: {'min_samples_leaf': 12, 'min_samples_split': 7},\n",
       "  mean: -44.80820, std: 10.53145, params: {'min_samples_leaf': 12, 'min_samples_split': 12},\n",
       "  mean: -44.80820, std: 10.53145, params: {'min_samples_leaf': 12, 'min_samples_split': 17},\n",
       "  mean: -44.40465, std: 10.18275, params: {'min_samples_leaf': 12, 'min_samples_split': 22},\n",
       "  mean: -44.43526, std: 10.24040, params: {'min_samples_leaf': 12, 'min_samples_split': 27},\n",
       "  mean: -44.52590, std: 10.24858, params: {'min_samples_leaf': 12, 'min_samples_split': 32},\n",
       "  mean: -45.07313, std: 10.63096, params: {'min_samples_leaf': 12, 'min_samples_split': 37},\n",
       "  mean: -45.03491, std: 10.58618, params: {'min_samples_leaf': 12, 'min_samples_split': 42},\n",
       "  mean: -45.22397, std: 10.42014, params: {'min_samples_leaf': 12, 'min_samples_split': 47},\n",
       "  mean: -45.07618, std: 10.45538, params: {'min_samples_leaf': 17, 'min_samples_split': 2},\n",
       "  mean: -45.55311, std: 10.88955, params: {'min_samples_leaf': 17, 'min_samples_split': 7},\n",
       "  mean: -45.46969, std: 10.83079, params: {'min_samples_leaf': 17, 'min_samples_split': 12},\n",
       "  mean: -45.50303, std: 10.81611, params: {'min_samples_leaf': 17, 'min_samples_split': 17},\n",
       "  mean: -45.08352, std: 10.54224, params: {'min_samples_leaf': 17, 'min_samples_split': 22},\n",
       "  mean: -45.08352, std: 10.54224, params: {'min_samples_leaf': 17, 'min_samples_split': 27},\n",
       "  mean: -44.82160, std: 10.19847, params: {'min_samples_leaf': 17, 'min_samples_split': 32},\n",
       "  mean: -44.75055, std: 10.15982, params: {'min_samples_leaf': 17, 'min_samples_split': 37},\n",
       "  mean: -44.61445, std: 10.34201, params: {'min_samples_leaf': 17, 'min_samples_split': 42},\n",
       "  mean: -45.18873, std: 10.74539, params: {'min_samples_leaf': 17, 'min_samples_split': 47},\n",
       "  mean: -45.26772, std: 10.68895, params: {'min_samples_leaf': 22, 'min_samples_split': 2},\n",
       "  mean: -45.10780, std: 10.43072, params: {'min_samples_leaf': 22, 'min_samples_split': 7},\n",
       "  mean: -45.10780, std: 10.43072, params: {'min_samples_leaf': 22, 'min_samples_split': 12},\n",
       "  mean: -45.13447, std: 10.36106, params: {'min_samples_leaf': 22, 'min_samples_split': 17},\n",
       "  mean: -45.13360, std: 10.36045, params: {'min_samples_leaf': 22, 'min_samples_split': 22},\n",
       "  mean: -45.12696, std: 10.32257, params: {'min_samples_leaf': 22, 'min_samples_split': 27},\n",
       "  mean: -45.29034, std: 10.41959, params: {'min_samples_leaf': 22, 'min_samples_split': 32},\n",
       "  mean: -45.29034, std: 10.41959, params: {'min_samples_leaf': 22, 'min_samples_split': 37},\n",
       "  mean: -45.45825, std: 10.60740, params: {'min_samples_leaf': 22, 'min_samples_split': 42},\n",
       "  mean: -45.49727, std: 10.60477, params: {'min_samples_leaf': 22, 'min_samples_split': 47},\n",
       "  mean: -45.26654, std: 10.37348, params: {'min_samples_leaf': 27, 'min_samples_split': 2},\n",
       "  mean: -45.14852, std: 10.28331, params: {'min_samples_leaf': 27, 'min_samples_split': 7},\n",
       "  mean: -45.26050, std: 10.28321, params: {'min_samples_leaf': 27, 'min_samples_split': 12},\n",
       "  mean: -45.45667, std: 10.35165, params: {'min_samples_leaf': 27, 'min_samples_split': 17},\n",
       "  mean: -45.45667, std: 10.35165, params: {'min_samples_leaf': 27, 'min_samples_split': 22},\n",
       "  mean: -45.18912, std: 10.40282, params: {'min_samples_leaf': 27, 'min_samples_split': 27},\n",
       "  mean: -45.13707, std: 10.36549, params: {'min_samples_leaf': 27, 'min_samples_split': 32},\n",
       "  mean: -45.16232, std: 10.41804, params: {'min_samples_leaf': 27, 'min_samples_split': 37},\n",
       "  mean: -45.35675, std: 10.53215, params: {'min_samples_leaf': 27, 'min_samples_split': 42},\n",
       "  mean: -45.35675, std: 10.53215, params: {'min_samples_leaf': 27, 'min_samples_split': 47}],\n",
       " {'min_samples_leaf': 12, 'min_samples_split': 22},\n",
       " 6.663681623103643)"
      ]
     },
     "execution_count": 15,
     "metadata": {},
     "output_type": "execute_result"
    }
   ],
   "source": [
    "param_test3= {'min_samples_leaf':[i for i in range(2,30,5)], 'min_samples_split':[i for i in range(2,50,5)]}\n",
    "gsearch3= GridSearchCV(estimator = RandomForestRegressor(n_estimators= 60,max_depth=32),\n",
    "#                                  min_samples_leaf=20,max_depth=8,max_features='sqrt' ,random_state=10),\n",
    "                       param_grid =param_test3, scoring='neg_mean_squared_error',cv=5,n_jobs=12)\n",
    "gsearch3.fit(train_x_18_9,train_y_9)\n",
    "gsearch3.grid_scores_,gsearch3.best_params_, (gsearch3.best_score_*-1)**0.5"
   ]
  },
  {
   "cell_type": "code",
   "execution_count": 18,
   "metadata": {},
   "outputs": [
    {
     "data": {
      "text/plain": [
       "([mean: -46.09416, std: 10.07758, params: {'n_estimators': 10},\n",
       "  mean: -45.03027, std: 10.20747, params: {'n_estimators': 20},\n",
       "  mean: -44.77676, std: 10.16715, params: {'n_estimators': 30},\n",
       "  mean: -44.67868, std: 10.26459, params: {'n_estimators': 40},\n",
       "  mean: -44.52704, std: 10.27127, params: {'n_estimators': 50},\n",
       "  mean: -44.91253, std: 10.54580, params: {'n_estimators': 60},\n",
       "  mean: -44.73737, std: 10.26844, params: {'n_estimators': 70},\n",
       "  mean: -44.55666, std: 10.08427, params: {'n_estimators': 80},\n",
       "  mean: -44.68972, std: 10.18069, params: {'n_estimators': 90},\n",
       "  mean: -44.71550, std: 10.21134, params: {'n_estimators': 100},\n",
       "  mean: -44.65201, std: 10.30226, params: {'n_estimators': 110},\n",
       "  mean: -44.59289, std: 10.30685, params: {'n_estimators': 120},\n",
       "  mean: -44.70786, std: 10.34852, params: {'n_estimators': 130},\n",
       "  mean: -44.64227, std: 10.29483, params: {'n_estimators': 140},\n",
       "  mean: -44.70801, std: 10.31477, params: {'n_estimators': 150},\n",
       "  mean: -44.62370, std: 10.22136, params: {'n_estimators': 160},\n",
       "  mean: -44.47734, std: 10.14438, params: {'n_estimators': 170},\n",
       "  mean: -44.52362, std: 10.19951, params: {'n_estimators': 180},\n",
       "  mean: -44.62597, std: 10.33175, params: {'n_estimators': 190}],\n",
       " {'n_estimators': 170},\n",
       " 6.669133744291729)"
      ]
     },
     "execution_count": 18,
     "metadata": {},
     "output_type": "execute_result"
    }
   ],
   "source": [
    "param_test1= {'n_estimators':[i for i in range(10,200,10)]}\n",
    "\n",
    "gsearch1= GridSearchCV(estimator = RandomForestRegressor(max_depth=32,min_samples_leaf=12,min_samples_split=22),\n",
    "#                                  min_samples_leaf=20,max_depth=8,max_features='sqrt' ,random_state=10),\n",
    "                       param_grid =param_test1, scoring='neg_mean_squared_error',cv=5,n_jobs=12)\n",
    "gsearch1.fit(train_x_18_9,train_y_9)\n",
    "gsearch1.grid_scores_,gsearch1.best_params_, (gsearch1.best_score_*-1)**0.5"
   ]
  },
  {
   "cell_type": "code",
   "execution_count": 16,
   "metadata": {},
   "outputs": [
    {
     "data": {
      "text/plain": [
       "RandomForestRegressor(bootstrap=True, criterion='mse', max_depth=32,\n",
       "           max_features='auto', max_leaf_nodes=None,\n",
       "           min_impurity_decrease=0.0, min_impurity_split=None,\n",
       "           min_samples_leaf=12, min_samples_split=22,\n",
       "           min_weight_fraction_leaf=0.0, n_estimators=170, n_jobs=1,\n",
       "           oob_score=False, random_state=10, verbose=0, warm_start=False)"
      ]
     },
     "execution_count": 16,
     "metadata": {},
     "output_type": "execute_result"
    }
   ],
   "source": [
    "forest = RandomForestRegressor(random_state=10,max_depth=32,min_samples_leaf=12,min_samples_split=22,n_estimators=170)\n",
    "forest.fit(train_x_18_9,train_y_9)"
   ]
  },
  {
   "cell_type": "code",
   "execution_count": 17,
   "metadata": {},
   "outputs": [
    {
     "name": "stdout",
     "output_type": "stream",
     "text": [
      "4.82391790408\n"
     ]
    }
   ],
   "source": [
    "pre = forest.predict(train_x_18_9)\n",
    "print(rmse(pre,train_y_9))"
   ]
  },
  {
   "cell_type": "code",
   "execution_count": 20,
   "metadata": {
    "collapsed": true
   },
   "outputs": [],
   "source": [
    "prediction_test = forest.predict(test_x_18_9)\n",
    "\n",
    "output_result('output_rf.csv',prediction_test)"
   ]
  },
  {
   "cell_type": "code",
   "execution_count": 48,
   "metadata": {},
   "outputs": [
    {
     "name": "stdout",
     "output_type": "stream",
     "text": [
      "5.30016467069\n"
     ]
    }
   ],
   "source": [
    "gb = GradientBoostingRegressor(random_state=10)\n",
    "gb.fit(train_x_18_9,train_y_9)\n",
    "pre = gb.predict(train_x_18_9)\n",
    "print(rmse(pre,train_y_9))"
   ]
  },
  {
   "cell_type": "code",
   "execution_count": 49,
   "metadata": {},
   "outputs": [
    {
     "name": "stdout",
     "output_type": "stream",
     "text": [
      "     id      value\n",
      "0  id_0   7.227736\n",
      "1  id_1  17.916588\n",
      "2  id_2  26.600544\n",
      "3  id_3   7.040215\n",
      "4  id_4  26.761588\n"
     ]
    }
   ],
   "source": [
    "prediction_test = gb.predict(test_x_18_9)\n",
    "\n",
    "output_result('output_gb.csv',prediction_test)"
   ]
  },
  {
   "cell_type": "code",
   "execution_count": 44,
   "metadata": {},
   "outputs": [
    {
     "data": {
      "text/plain": [
       "<bound method BaseEstimator.get_params of GradientBoostingRegressor(alpha=0.9, criterion='friedman_mse', init=None,\n",
       "             learning_rate=0.1, loss='ls', max_depth=3, max_features=None,\n",
       "             max_leaf_nodes=None, min_impurity_decrease=0.0,\n",
       "             min_impurity_split=None, min_samples_leaf=1,\n",
       "             min_samples_split=2, min_weight_fraction_leaf=0.0,\n",
       "             n_estimators=100, presort='auto', random_state=10,\n",
       "             subsample=1.0, verbose=0, warm_start=False)>"
      ]
     },
     "execution_count": 44,
     "metadata": {},
     "output_type": "execute_result"
    }
   ],
   "source": [
    "gb.get_params"
   ]
  },
  {
   "cell_type": "code",
   "execution_count": 46,
   "metadata": {},
   "outputs": [
    {
     "data": {
      "text/plain": [
       "([mean: -65.96844, std: 16.52025, params: {'n_estimators': 50},\n",
       "  mean: -65.45826, std: 16.46920, params: {'n_estimators': 60},\n",
       "  mean: -64.96189, std: 16.25923, params: {'n_estimators': 70},\n",
       "  mean: -64.54772, std: 16.15981, params: {'n_estimators': 80},\n",
       "  mean: -64.23294, std: 16.09882, params: {'n_estimators': 90},\n",
       "  mean: -64.17024, std: 16.14635, params: {'n_estimators': 100},\n",
       "  mean: -64.01372, std: 16.15635, params: {'n_estimators': 110},\n",
       "  mean: -63.88243, std: 16.11680, params: {'n_estimators': 120},\n",
       "  mean: -63.81257, std: 16.08031, params: {'n_estimators': 130},\n",
       "  mean: -63.78912, std: 16.10091, params: {'n_estimators': 140},\n",
       "  mean: -63.71603, std: 16.06029, params: {'n_estimators': 150},\n",
       "  mean: -63.68459, std: 16.07278, params: {'n_estimators': 160},\n",
       "  mean: -63.70034, std: 16.08594, params: {'n_estimators': 170},\n",
       "  mean: -63.64051, std: 16.07425, params: {'n_estimators': 180},\n",
       "  mean: -63.62173, std: 16.07138, params: {'n_estimators': 190}],\n",
       " {'n_estimators': 190},\n",
       " 7.976323221264747)"
      ]
     },
     "execution_count": 46,
     "metadata": {},
     "output_type": "execute_result"
    }
   ],
   "source": [
    "param_test1= {'n_estimators':[i for i in range(50,200,10)]}\n",
    "\n",
    "gsearch1= GridSearchCV(estimator = GradientBoostingRegressor(random_state=10,learning_rate=0.1,max_depth=8,max_features='sqrt'),\n",
    "                       param_grid =param_test1, scoring='neg_mean_squared_error',cv=5,n_jobs = 12)\n",
    "gsearch1.fit(train_x_18_9,train_y_9)\n",
    "gsearch1.grid_scores_,gsearch1.best_params_, (gsearch1.best_score_*-1)**0.5"
   ]
  },
  {
   "cell_type": "code",
   "execution_count": null,
   "metadata": {
    "collapsed": true
   },
   "outputs": [],
   "source": []
  }
 ],
 "metadata": {
  "kernelspec": {
   "display_name": "Python 3",
   "language": "python",
   "name": "python3"
  },
  "language_info": {
   "codemirror_mode": {
    "name": "ipython",
    "version": 3
   },
   "file_extension": ".py",
   "mimetype": "text/x-python",
   "name": "python",
   "nbconvert_exporter": "python",
   "pygments_lexer": "ipython3",
   "version": "3.6.3"
  }
 },
 "nbformat": 4,
 "nbformat_minor": 2
}
