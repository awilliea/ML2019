{
 "cells": [
  {
   "cell_type": "code",
   "execution_count": 98,
   "metadata": {
    "collapsed": true
   },
   "outputs": [],
   "source": [
    "import pandas as pd\n",
    "import numpy as np\n",
    "import matplotlib.pyplot as plt\n",
    "\n",
    "def load_train_data(filename):\n",
    "    train = pd.read_csv(filename,encoding='big5')\n",
    "    \n",
    "    ### seperate data \n",
    "    data = [[] for i in range(18)]\n",
    "    for r,d in enumerate(train.iloc[:,3:].values):\n",
    "        data[r%18].append(d)\n",
    "    data = np.array(data).reshape((18,-1))\n",
    "    \n",
    "    return data\n",
    "\n",
    "def load_test_data(filename):\n",
    "    test = pd.read_csv(filename,encoding='big5',header = None)\n",
    "    test_data = [[] for i in range(18)]\n",
    "    for r,d in enumerate(test.iloc[:,2:].values):\n",
    "        test_data[r%18].append(d)\n",
    "    test_data = np.array(test_data).reshape((18,-1))\n",
    "    \n",
    "    return test_data"
   ]
  },
  {
   "cell_type": "code",
   "execution_count": 99,
   "metadata": {},
   "outputs": [
    {
     "name": "stdout",
     "output_type": "stream",
     "text": [
      "(18, 5760)\n",
      "(18, 2160)\n"
     ]
    }
   ],
   "source": [
    "train_data = load_train_data('./data/train.csv')\n",
    "test_data = load_test_data('./data/test.csv')\n",
    "\n",
    "print(train_data.shape)\n",
    "print(test_data.shape)"
   ]
  },
  {
   "cell_type": "code",
   "execution_count": 100,
   "metadata": {
    "collapsed": true
   },
   "outputs": [],
   "source": [
    "def get_train_data(data,hours):\n",
    "    train_x_18 = []\n",
    "    train_x_1 = []\n",
    "    train_y = []\n",
    "\n",
    "    for i in range(0,data.shape[1]-hours):\n",
    "        train_x_18.append(data[:,i:i+hours].reshape((-1)))\n",
    "        train_x_1.append(data[9,i:i+hours].reshape((-1)))\n",
    "        train_y.append(data[9][i+hours])\n",
    "        \n",
    "    train_x_18 = np.array(train_x_18)\n",
    "    train_x_1 = np.array(train_x_1)\n",
    "    train_y = np.array(train_y).astype(np.float64)\n",
    "\n",
    "    # replace NR to 0\n",
    "    train_x_18[train_x_18 == 'NR'] = 0\n",
    "    train_x_18 = train_x_18.astype(np.float64)\n",
    "    train_x_1 = train_x_1.astype(np.float64)\n",
    "    \n",
    "    return train_x_18, train_x_1, train_y\n",
    "\n",
    "def get_test_data(data,hours):\n",
    "    test_x_18 = []\n",
    "    test_x_1 = []\n",
    "    \n",
    "    for i in range(0,data.shape[1],hours):\n",
    "        test_x_18.append(data[:,i:i+hours].reshape(-1))\n",
    "        test_x_1.append(data[9,i:i+hours].reshape(-1))\n",
    "        \n",
    "    test_x_18 = np.array(test_x_18)\n",
    "    test_x_1 = np.array(test_x_1)\n",
    "    \n",
    "    test_x_18[test_x_18 == 'NR'] = 0\n",
    "    test_x_18 = test_x_18.astype(np.float64)\n",
    "    test_x_1 = test_x_1.astype(np.float64)\n",
    "    return test_x_18, test_x_1"
   ]
  },
  {
   "cell_type": "code",
   "execution_count": 101,
   "metadata": {},
   "outputs": [
    {
     "name": "stdout",
     "output_type": "stream",
     "text": [
      "(5751, 162)\n",
      "(5751, 9)\n",
      "(5751,)\n",
      "(5755, 90)\n",
      "(5755, 5)\n",
      "(5755,)\n",
      "(240, 162)\n",
      "(240, 9)\n",
      "(432, 90)\n",
      "(432, 5)\n"
     ]
    }
   ],
   "source": [
    "train_x_18_9, train_x_1_9, train_y_9 = get_train_data(train_data,9)\n",
    "print(train_x_18_9.shape)\n",
    "print(train_x_1_9.shape)\n",
    "print(train_y_9.shape)\n",
    "\n",
    "train_x_18_5, train_x_1_5, train_y_5 = get_train_data(train_data,5)\n",
    "print(train_x_18_5.shape)\n",
    "print(train_x_1_5.shape)\n",
    "print(train_y_5.shape)\n",
    "\n",
    "test_x_18_9, test_x_1_9 = get_test_data(test_data,9)\n",
    "print(test_x_18_9.shape)\n",
    "print(test_x_1_9.shape)\n",
    "\n",
    "test_x_18_5, test_x_1_5 = get_test_data(test_data,5)\n",
    "print(test_x_18_5.shape)\n",
    "print(test_x_1_5.shape)"
   ]
  },
  {
   "cell_type": "code",
   "execution_count": 102,
   "metadata": {
    "collapsed": true
   },
   "outputs": [],
   "source": [
    "def feature_scaling(train_x,test_x):\n",
    "    data = np.vstack([train_x,test_x])\n",
    "    feature_mean = np.mean(data,axis = 0) \n",
    "    feature_var = np.var(data,axis = 0)\n",
    "    data = (data - feature_mean)/feature_var \n",
    "    \n",
    "    return data[:-240,:],data[-240:,:]"
   ]
  },
  {
   "cell_type": "code",
   "execution_count": 8,
   "metadata": {
    "collapsed": true
   },
   "outputs": [],
   "source": [
    "train_x_18_9,test_x_18_9 = feature_scaling(train_x_18_9,test_x_18_9)\n",
    "train_x_18_5,test_x_18_5 = feature_scaling(train_x_18_5,test_x_18_5)\n",
    "train_x_1_5,test_x_1_5 = feature_scaling(train_x_1_5,test_x_1_5)\n",
    "train_x_1_5,test_x_1_5 = feature_scaling(train_x_1_5,test_x_1_5)\n"
   ]
  },
  {
   "cell_type": "code",
   "execution_count": 103,
   "metadata": {
    "collapsed": true
   },
   "outputs": [],
   "source": [
    "# add bias term\n",
    "train_x_18_9 = np.hstack([train_x_18_9,np.ones((train_x_18_9.shape[0],1))])\n",
    "train_x_1_9 = np.hstack([train_x_1_9,np.ones((train_x_1_9.shape[0],1))])\n",
    "test_x_18_9 = np.hstack([test_x_18_9,np.ones((test_x_18_9.shape[0],1))])\n",
    "test_x_1_9 = np.hstack([test_x_1_9,np.ones((test_x_1_9.shape[0],1))])\n",
    "\n",
    "train_x_18_5 = np.hstack([train_x_18_5,np.ones((train_x_18_5.shape[0],1))])\n",
    "train_x_1_5 = np.hstack([train_x_1_5,np.ones((train_x_1_5.shape[0],1))])\n",
    "test_x_18_5 = np.hstack([test_x_18_5,np.ones((test_x_18_5.shape[0],1))])\n",
    "test_x_1_5 = np.hstack([test_x_1_5,np.ones((test_x_1_5.shape[0],1))])"
   ]
  },
  {
   "cell_type": "code",
   "execution_count": 10,
   "metadata": {
    "collapsed": true
   },
   "outputs": [],
   "source": [
    "def output_result(filename,predict_value):\n",
    "    id_ = []\n",
    "    for i in range(predict_value.shape[0]):\n",
    "        temp = 'id_'+str(i)\n",
    "        id_.append(temp)\n",
    "    output = pd.DataFrame(columns=['id','value'])\n",
    "    output['id'] = id_\n",
    "    output['value'] = predict_value\n",
    "    output.to_csv(filename,index = False)\n",
    "    \n",
    "    print(output.head())"
   ]
  },
  {
   "cell_type": "code",
   "execution_count": 11,
   "metadata": {},
   "outputs": [
    {
     "name": "stderr",
     "output_type": "stream",
     "text": [
      "/shared_home/willie/anaconda3/lib/python3.6/site-packages/sklearn/cross_validation.py:41: DeprecationWarning: This module was deprecated in version 0.18 in favor of the model_selection module into which all the refactored classes and functions are moved. Also note that the interface of the new CV iterators are different from that of this module. This module will be removed in 0.20.\n",
      "  \"This module will be removed in 0.20.\", DeprecationWarning)\n",
      "/shared_home/willie/anaconda3/lib/python3.6/site-packages/sklearn/grid_search.py:42: DeprecationWarning: This module was deprecated in version 0.18 in favor of the model_selection module into which all the refactored classes and functions are moved. This module will be removed in 0.20.\n",
      "  DeprecationWarning)\n"
     ]
    }
   ],
   "source": [
    "from sklearn.ensemble import RandomForestRegressor,GradientBoostingRegressor\n",
    "from sklearn import metrics\n",
    "from sklearn.grid_search import GridSearchCV"
   ]
  },
  {
   "cell_type": "code",
   "execution_count": 12,
   "metadata": {
    "collapsed": true
   },
   "outputs": [],
   "source": [
    "from sklearn.linear_model import LinearRegression"
   ]
  },
  {
   "cell_type": "code",
   "execution_count": 13,
   "metadata": {},
   "outputs": [
    {
     "data": {
      "text/plain": [
       "LinearRegression(copy_X=True, fit_intercept=True, n_jobs=1, normalize=True)"
      ]
     },
     "execution_count": 13,
     "metadata": {},
     "output_type": "execute_result"
    }
   ],
   "source": [
    "lm = LinearRegression(normalize=True)\n",
    "lm.fit(train_x_18_9,train_y_9)"
   ]
  },
  {
   "cell_type": "code",
   "execution_count": 14,
   "metadata": {
    "collapsed": true
   },
   "outputs": [],
   "source": [
    "pre = lm.predict(train_x_18_9)"
   ]
  },
  {
   "cell_type": "code",
   "execution_count": 15,
   "metadata": {
    "collapsed": true
   },
   "outputs": [],
   "source": [
    "def rmse(pre,test):\n",
    "    tmp = 0\n",
    "    for i,p in enumerate(pre):\n",
    "        tmp += (p-test[i])**2\n",
    "    return (tmp/pre.shape[0])**0.5"
   ]
  },
  {
   "cell_type": "code",
   "execution_count": 16,
   "metadata": {},
   "outputs": [
    {
     "data": {
      "text/plain": [
       "5.782904184032418"
      ]
     },
     "execution_count": 16,
     "metadata": {},
     "output_type": "execute_result"
    }
   ],
   "source": [
    "rmse(pre,train_y_9)"
   ]
  },
  {
   "cell_type": "code",
   "execution_count": 38,
   "metadata": {},
   "outputs": [
    {
     "name": "stdout",
     "output_type": "stream",
     "text": [
      "     id      value\n",
      "0  id_0   6.779339\n",
      "1  id_1  18.248901\n",
      "2  id_2  23.944874\n",
      "3  id_3   7.731480\n",
      "4  id_4  27.142087\n"
     ]
    }
   ],
   "source": [
    "prediction_test = lm.predict(test_x_18_9)\n",
    "output_result('output_lm.csv',prediction_test)"
   ]
  },
  {
   "cell_type": "code",
   "execution_count": 17,
   "metadata": {},
   "outputs": [
    {
     "data": {
      "text/plain": [
       "RandomForestRegressor(bootstrap=True, criterion='mse', max_depth=None,\n",
       "           max_features='auto', max_leaf_nodes=None,\n",
       "           min_impurity_decrease=0.0, min_impurity_split=None,\n",
       "           min_samples_leaf=1, min_samples_split=2,\n",
       "           min_weight_fraction_leaf=0.0, n_estimators=10, n_jobs=1,\n",
       "           oob_score=False, random_state=10, verbose=0, warm_start=False)"
      ]
     },
     "execution_count": 17,
     "metadata": {},
     "output_type": "execute_result"
    }
   ],
   "source": [
    "forest = RandomForestRegressor(random_state=10)\n",
    "forest.fit(train_x_18_9,train_y_9)"
   ]
  },
  {
   "cell_type": "code",
   "execution_count": 18,
   "metadata": {},
   "outputs": [
    {
     "name": "stdout",
     "output_type": "stream",
     "text": [
      "2.84767886334\n"
     ]
    }
   ],
   "source": [
    "pre = forest.predict(train_x_18_9)\n",
    "print(rmse(pre,train_y_9))"
   ]
  },
  {
   "cell_type": "code",
   "execution_count": 46,
   "metadata": {},
   "outputs": [
    {
     "data": {
      "text/plain": [
       "([mean: -47.84665, std: 8.90858, params: {'n_estimators': 5},\n",
       "  mean: -47.68945, std: 8.89384, params: {'n_estimators': 15},\n",
       "  mean: -47.40528, std: 9.28233, params: {'n_estimators': 25},\n",
       "  mean: -47.72785, std: 9.23768, params: {'n_estimators': 35},\n",
       "  mean: -47.57056, std: 9.59389, params: {'n_estimators': 45},\n",
       "  mean: -47.70442, std: 9.69273, params: {'n_estimators': 55},\n",
       "  mean: -47.68381, std: 9.85721, params: {'n_estimators': 65},\n",
       "  mean: -47.62470, std: 9.65050, params: {'n_estimators': 75},\n",
       "  mean: -47.53019, std: 9.65905, params: {'n_estimators': 85}],\n",
       " {'n_estimators': 25},\n",
       " 6.885149226902899)"
      ]
     },
     "execution_count": 46,
     "metadata": {},
     "output_type": "execute_result"
    }
   ],
   "source": [
    "param_test1= {'n_estimators':[i for i in range(5,95,10)]}\n",
    "\n",
    "gsearch1= GridSearchCV(estimator = RandomForestRegressor(\n",
    "                                 min_samples_leaf=1,max_depth=5 ,random_state=10),\n",
    "                       param_grid =param_test1, scoring='neg_mean_squared_error',cv=5,n_jobs = 12)\n",
    "gsearch1.fit(train_x_18_9,train_y_9)\n",
    "gsearch1.grid_scores_,gsearch1.best_params_, (gsearch1.best_score_*-1)**0.5\n"
   ]
  },
  {
   "cell_type": "code",
   "execution_count": 47,
   "metadata": {},
   "outputs": [
    {
     "name": "stdout",
     "output_type": "stream",
     "text": [
      "6.10640988278\n"
     ]
    }
   ],
   "source": [
    "forest = RandomForestRegressor( min_samples_leaf=1,max_depth=5 ,random_state=10,n_estimators=25)\n",
    "forest.fit(train_x_18_9,train_y_9)\n",
    "pre = forest.predict(train_x_18_9)\n",
    "print(rmse(pre,train_y_9))"
   ]
  },
  {
   "cell_type": "code",
   "execution_count": 48,
   "metadata": {},
   "outputs": [
    {
     "data": {
      "text/plain": [
       "([mean: -50.92352, std: 10.92926, params: {'max_depth': 3, 'min_samples_split': 2},\n",
       "  mean: -50.92352, std: 10.92926, params: {'max_depth': 3, 'min_samples_split': 7},\n",
       "  mean: -50.72098, std: 10.94123, params: {'max_depth': 3, 'min_samples_split': 12},\n",
       "  mean: -50.88207, std: 11.07967, params: {'max_depth': 3, 'min_samples_split': 17},\n",
       "  mean: -50.94356, std: 11.07464, params: {'max_depth': 3, 'min_samples_split': 22},\n",
       "  mean: -50.96903, std: 10.96290, params: {'max_depth': 3, 'min_samples_split': 27},\n",
       "  mean: -47.51064, std: 9.54831, params: {'max_depth': 5, 'min_samples_split': 2},\n",
       "  mean: -47.02096, std: 9.80606, params: {'max_depth': 5, 'min_samples_split': 7},\n",
       "  mean: -47.19664, std: 10.07551, params: {'max_depth': 5, 'min_samples_split': 12},\n",
       "  mean: -47.42307, std: 9.52071, params: {'max_depth': 5, 'min_samples_split': 17},\n",
       "  mean: -48.14559, std: 9.99506, params: {'max_depth': 5, 'min_samples_split': 22},\n",
       "  mean: -48.30933, std: 10.03986, params: {'max_depth': 5, 'min_samples_split': 27},\n",
       "  mean: -47.21220, std: 9.99218, params: {'max_depth': 7, 'min_samples_split': 2},\n",
       "  mean: -46.48619, std: 9.49426, params: {'max_depth': 7, 'min_samples_split': 7},\n",
       "  mean: -46.54621, std: 9.03733, params: {'max_depth': 7, 'min_samples_split': 12},\n",
       "  mean: -46.24689, std: 8.91971, params: {'max_depth': 7, 'min_samples_split': 17},\n",
       "  mean: -46.16681, std: 8.92166, params: {'max_depth': 7, 'min_samples_split': 22},\n",
       "  mean: -46.20837, std: 9.41609, params: {'max_depth': 7, 'min_samples_split': 27},\n",
       "  mean: -46.47059, std: 9.29007, params: {'max_depth': 9, 'min_samples_split': 2},\n",
       "  mean: -46.76832, std: 9.73363, params: {'max_depth': 9, 'min_samples_split': 7},\n",
       "  mean: -46.72036, std: 9.75061, params: {'max_depth': 9, 'min_samples_split': 12},\n",
       "  mean: -47.28700, std: 8.99128, params: {'max_depth': 9, 'min_samples_split': 17},\n",
       "  mean: -47.88432, std: 9.68681, params: {'max_depth': 9, 'min_samples_split': 22},\n",
       "  mean: -46.98118, std: 9.11134, params: {'max_depth': 9, 'min_samples_split': 27},\n",
       "  mean: -46.15804, std: 8.28799, params: {'max_depth': 11, 'min_samples_split': 2},\n",
       "  mean: -46.16990, std: 8.64067, params: {'max_depth': 11, 'min_samples_split': 7},\n",
       "  mean: -46.40260, std: 7.79530, params: {'max_depth': 11, 'min_samples_split': 12},\n",
       "  mean: -46.48187, std: 8.69198, params: {'max_depth': 11, 'min_samples_split': 17},\n",
       "  mean: -46.97006, std: 8.88239, params: {'max_depth': 11, 'min_samples_split': 22},\n",
       "  mean: -46.77474, std: 8.12627, params: {'max_depth': 11, 'min_samples_split': 27},\n",
       "  mean: -47.51600, std: 8.52641, params: {'max_depth': 13, 'min_samples_split': 2},\n",
       "  mean: -46.81607, std: 9.76470, params: {'max_depth': 13, 'min_samples_split': 7},\n",
       "  mean: -45.77674, std: 9.01545, params: {'max_depth': 13, 'min_samples_split': 12},\n",
       "  mean: -46.22580, std: 8.62589, params: {'max_depth': 13, 'min_samples_split': 17},\n",
       "  mean: -46.24329, std: 8.79451, params: {'max_depth': 13, 'min_samples_split': 22},\n",
       "  mean: -45.80457, std: 8.96695, params: {'max_depth': 13, 'min_samples_split': 27}],\n",
       " {'max_depth': 13, 'min_samples_split': 12},\n",
       " 6.765850905362324)"
      ]
     },
     "execution_count": 48,
     "metadata": {},
     "output_type": "execute_result"
    }
   ],
   "source": [
    "param_test2= {'max_depth':[i for i in range(3,15,2)], 'min_samples_split':[i for i in range(2,30,5)]}\n",
    "gsearch2= GridSearchCV(estimator = RandomForestRegressor(n_estimators= 25),\n",
    "#                                  min_samples_leaf=20,max_depth=8,max_features='sqrt' ,random_state=10),\n",
    "                       param_grid =param_test2, scoring='neg_mean_squared_error',cv=5,n_jobs=12)\n",
    "gsearch2.fit(train_x_18_9,train_y_9)\n",
    "gsearch2.grid_scores_,gsearch2.best_params_, (gsearch2.best_score_*-1)**0.5"
   ]
  },
  {
   "cell_type": "markdown",
   "metadata": {},
   "source": [
    "### max_depth 7 or 13 "
   ]
  },
  {
   "cell_type": "code",
   "execution_count": 50,
   "metadata": {},
   "outputs": [
    {
     "name": "stdout",
     "output_type": "stream",
     "text": [
      "4.88669268959\n"
     ]
    }
   ],
   "source": [
    "forest = RandomForestRegressor( min_samples_leaf=12,max_depth=13,random_state=10,n_estimators=25)\n",
    "forest.fit(train_x_18_9,train_y_9)\n",
    "pre = forest.predict(train_x_18_9)\n",
    "print(rmse(pre,train_y_9))"
   ]
  },
  {
   "cell_type": "code",
   "execution_count": 51,
   "metadata": {},
   "outputs": [
    {
     "data": {
      "text/plain": [
       "([mean: -45.92241, std: 9.73920, params: {'min_samples_leaf': 2, 'min_samples_split': 2},\n",
       "  mean: -46.02063, std: 9.78700, params: {'min_samples_leaf': 2, 'min_samples_split': 7},\n",
       "  mean: -45.69934, std: 9.65107, params: {'min_samples_leaf': 2, 'min_samples_split': 12},\n",
       "  mean: -45.66958, std: 9.61196, params: {'min_samples_leaf': 2, 'min_samples_split': 17},\n",
       "  mean: -45.96469, std: 9.72197, params: {'min_samples_leaf': 2, 'min_samples_split': 22},\n",
       "  mean: -46.04234, std: 9.87372, params: {'min_samples_leaf': 2, 'min_samples_split': 27},\n",
       "  mean: -45.93636, std: 9.88345, params: {'min_samples_leaf': 2, 'min_samples_split': 32},\n",
       "  mean: -45.96571, std: 10.04592, params: {'min_samples_leaf': 2, 'min_samples_split': 37},\n",
       "  mean: -45.99743, std: 9.95187, params: {'min_samples_leaf': 2, 'min_samples_split': 42},\n",
       "  mean: -46.14430, std: 10.00619, params: {'min_samples_leaf': 2, 'min_samples_split': 47},\n",
       "  mean: -45.37120, std: 10.24515, params: {'min_samples_leaf': 7, 'min_samples_split': 2},\n",
       "  mean: -45.37120, std: 10.24515, params: {'min_samples_leaf': 7, 'min_samples_split': 7},\n",
       "  mean: -45.37120, std: 10.24515, params: {'min_samples_leaf': 7, 'min_samples_split': 12},\n",
       "  mean: -45.33678, std: 10.28619, params: {'min_samples_leaf': 7, 'min_samples_split': 17},\n",
       "  mean: -45.40521, std: 10.36547, params: {'min_samples_leaf': 7, 'min_samples_split': 22},\n",
       "  mean: -45.45684, std: 10.46802, params: {'min_samples_leaf': 7, 'min_samples_split': 27},\n",
       "  mean: -45.43531, std: 10.47629, params: {'min_samples_leaf': 7, 'min_samples_split': 32},\n",
       "  mean: -45.55410, std: 10.53915, params: {'min_samples_leaf': 7, 'min_samples_split': 37},\n",
       "  mean: -45.40216, std: 10.36116, params: {'min_samples_leaf': 7, 'min_samples_split': 42},\n",
       "  mean: -45.53473, std: 10.44148, params: {'min_samples_leaf': 7, 'min_samples_split': 47},\n",
       "  mean: -45.52384, std: 10.47759, params: {'min_samples_leaf': 12, 'min_samples_split': 2},\n",
       "  mean: -45.52384, std: 10.47759, params: {'min_samples_leaf': 12, 'min_samples_split': 7},\n",
       "  mean: -45.52384, std: 10.47759, params: {'min_samples_leaf': 12, 'min_samples_split': 12},\n",
       "  mean: -45.52384, std: 10.47759, params: {'min_samples_leaf': 12, 'min_samples_split': 17},\n",
       "  mean: -45.52384, std: 10.47759, params: {'min_samples_leaf': 12, 'min_samples_split': 22},\n",
       "  mean: -45.57991, std: 10.57615, params: {'min_samples_leaf': 12, 'min_samples_split': 27},\n",
       "  mean: -45.50969, std: 10.57482, params: {'min_samples_leaf': 12, 'min_samples_split': 32},\n",
       "  mean: -45.57087, std: 10.53915, params: {'min_samples_leaf': 12, 'min_samples_split': 37},\n",
       "  mean: -45.47335, std: 10.44611, params: {'min_samples_leaf': 12, 'min_samples_split': 42},\n",
       "  mean: -45.48576, std: 10.37214, params: {'min_samples_leaf': 12, 'min_samples_split': 47},\n",
       "  mean: -45.19235, std: 10.45163, params: {'min_samples_leaf': 17, 'min_samples_split': 2},\n",
       "  mean: -45.19235, std: 10.45163, params: {'min_samples_leaf': 17, 'min_samples_split': 7},\n",
       "  mean: -45.19235, std: 10.45163, params: {'min_samples_leaf': 17, 'min_samples_split': 12},\n",
       "  mean: -45.19235, std: 10.45163, params: {'min_samples_leaf': 17, 'min_samples_split': 17},\n",
       "  mean: -45.19235, std: 10.45163, params: {'min_samples_leaf': 17, 'min_samples_split': 22},\n",
       "  mean: -45.19235, std: 10.45163, params: {'min_samples_leaf': 17, 'min_samples_split': 27},\n",
       "  mean: -45.19235, std: 10.45163, params: {'min_samples_leaf': 17, 'min_samples_split': 32},\n",
       "  mean: -45.19178, std: 10.46464, params: {'min_samples_leaf': 17, 'min_samples_split': 37},\n",
       "  mean: -45.21184, std: 10.46923, params: {'min_samples_leaf': 17, 'min_samples_split': 42},\n",
       "  mean: -45.26417, std: 10.45586, params: {'min_samples_leaf': 17, 'min_samples_split': 47},\n",
       "  mean: -45.63696, std: 10.69134, params: {'min_samples_leaf': 22, 'min_samples_split': 2},\n",
       "  mean: -45.63696, std: 10.69134, params: {'min_samples_leaf': 22, 'min_samples_split': 7},\n",
       "  mean: -45.63696, std: 10.69134, params: {'min_samples_leaf': 22, 'min_samples_split': 12},\n",
       "  mean: -45.63696, std: 10.69134, params: {'min_samples_leaf': 22, 'min_samples_split': 17},\n",
       "  mean: -45.63696, std: 10.69134, params: {'min_samples_leaf': 22, 'min_samples_split': 22},\n",
       "  mean: -45.63696, std: 10.69134, params: {'min_samples_leaf': 22, 'min_samples_split': 27},\n",
       "  mean: -45.63696, std: 10.69134, params: {'min_samples_leaf': 22, 'min_samples_split': 32},\n",
       "  mean: -45.63696, std: 10.69134, params: {'min_samples_leaf': 22, 'min_samples_split': 37},\n",
       "  mean: -45.63696, std: 10.69134, params: {'min_samples_leaf': 22, 'min_samples_split': 42},\n",
       "  mean: -45.65187, std: 10.67109, params: {'min_samples_leaf': 22, 'min_samples_split': 47},\n",
       "  mean: -45.65506, std: 10.43823, params: {'min_samples_leaf': 27, 'min_samples_split': 2},\n",
       "  mean: -45.65506, std: 10.43823, params: {'min_samples_leaf': 27, 'min_samples_split': 7},\n",
       "  mean: -45.65506, std: 10.43823, params: {'min_samples_leaf': 27, 'min_samples_split': 12},\n",
       "  mean: -45.65506, std: 10.43823, params: {'min_samples_leaf': 27, 'min_samples_split': 17},\n",
       "  mean: -45.65506, std: 10.43823, params: {'min_samples_leaf': 27, 'min_samples_split': 22},\n",
       "  mean: -45.65506, std: 10.43823, params: {'min_samples_leaf': 27, 'min_samples_split': 27},\n",
       "  mean: -45.65506, std: 10.43823, params: {'min_samples_leaf': 27, 'min_samples_split': 32},\n",
       "  mean: -45.65506, std: 10.43823, params: {'min_samples_leaf': 27, 'min_samples_split': 37},\n",
       "  mean: -45.65506, std: 10.43823, params: {'min_samples_leaf': 27, 'min_samples_split': 42},\n",
       "  mean: -45.65506, std: 10.43823, params: {'min_samples_leaf': 27, 'min_samples_split': 47}],\n",
       " {'min_samples_leaf': 17, 'min_samples_split': 37},\n",
       " 6.722482806343407)"
      ]
     },
     "execution_count": 51,
     "metadata": {},
     "output_type": "execute_result"
    }
   ],
   "source": [
    "param_test3= {'min_samples_leaf':[i for i in range(2,30,5)], 'min_samples_split':[i for i in range(2,50,5)]}\n",
    "gsearch3= GridSearchCV(estimator = RandomForestRegressor(n_estimators= 25,max_depth=13,random_state=10),\n",
    "#                                  min_samples_leaf=20,max_depth=8,max_features='sqrt' ,random_state=10),\n",
    "                       param_grid =param_test3, scoring='neg_mean_squared_error',cv=5,n_jobs=12)\n",
    "gsearch3.fit(train_x_18_9,train_y_9)\n",
    "gsearch3.grid_scores_,gsearch3.best_params_, (gsearch3.best_score_*-1)**0.5"
   ]
  },
  {
   "cell_type": "code",
   "execution_count": 52,
   "metadata": {},
   "outputs": [
    {
     "name": "stdout",
     "output_type": "stream",
     "text": [
      "5.31517601458\n"
     ]
    }
   ],
   "source": [
    "forest = RandomForestRegressor( min_samples_leaf=17,min_samples_split=37,max_depth=13,random_state=10,n_estimators=25)\n",
    "forest.fit(train_x_18_9,train_y_9)\n",
    "pre = forest.predict(train_x_18_9)\n",
    "print(rmse(pre,train_y_9))"
   ]
  },
  {
   "cell_type": "code",
   "execution_count": 53,
   "metadata": {},
   "outputs": [
    {
     "data": {
      "text/plain": [
       "([mean: -46.15374, std: 9.76046, params: {'min_samples_leaf': 2, 'min_samples_split': 2},\n",
       "  mean: -46.16870, std: 9.74147, params: {'min_samples_leaf': 2, 'min_samples_split': 7},\n",
       "  mean: -46.11500, std: 9.66898, params: {'min_samples_leaf': 2, 'min_samples_split': 12},\n",
       "  mean: -46.12658, std: 9.74452, params: {'min_samples_leaf': 2, 'min_samples_split': 17},\n",
       "  mean: -46.40084, std: 9.92268, params: {'min_samples_leaf': 2, 'min_samples_split': 22},\n",
       "  mean: -46.56253, std: 10.00374, params: {'min_samples_leaf': 2, 'min_samples_split': 27},\n",
       "  mean: -46.55712, std: 10.03098, params: {'min_samples_leaf': 2, 'min_samples_split': 32},\n",
       "  mean: -46.50077, std: 10.12101, params: {'min_samples_leaf': 2, 'min_samples_split': 37},\n",
       "  mean: -46.49366, std: 10.05149, params: {'min_samples_leaf': 2, 'min_samples_split': 42},\n",
       "  mean: -46.59662, std: 10.16492, params: {'min_samples_leaf': 2, 'min_samples_split': 47},\n",
       "  mean: -45.56950, std: 10.21077, params: {'min_samples_leaf': 7, 'min_samples_split': 2},\n",
       "  mean: -45.56950, std: 10.21077, params: {'min_samples_leaf': 7, 'min_samples_split': 7},\n",
       "  mean: -45.56950, std: 10.21077, params: {'min_samples_leaf': 7, 'min_samples_split': 12},\n",
       "  mean: -45.59848, std: 10.27991, params: {'min_samples_leaf': 7, 'min_samples_split': 17},\n",
       "  mean: -45.69729, std: 10.33049, params: {'min_samples_leaf': 7, 'min_samples_split': 22},\n",
       "  mean: -45.85619, std: 10.41582, params: {'min_samples_leaf': 7, 'min_samples_split': 27},\n",
       "  mean: -45.85348, std: 10.39127, params: {'min_samples_leaf': 7, 'min_samples_split': 32},\n",
       "  mean: -45.98009, std: 10.45806, params: {'min_samples_leaf': 7, 'min_samples_split': 37},\n",
       "  mean: -45.82732, std: 10.30901, params: {'min_samples_leaf': 7, 'min_samples_split': 42},\n",
       "  mean: -45.95359, std: 10.38921, params: {'min_samples_leaf': 7, 'min_samples_split': 47},\n",
       "  mean: -45.91977, std: 10.42108, params: {'min_samples_leaf': 12, 'min_samples_split': 2},\n",
       "  mean: -45.91977, std: 10.42108, params: {'min_samples_leaf': 12, 'min_samples_split': 7},\n",
       "  mean: -45.91977, std: 10.42108, params: {'min_samples_leaf': 12, 'min_samples_split': 12},\n",
       "  mean: -45.91977, std: 10.42108, params: {'min_samples_leaf': 12, 'min_samples_split': 17},\n",
       "  mean: -45.91977, std: 10.42108, params: {'min_samples_leaf': 12, 'min_samples_split': 22},\n",
       "  mean: -45.98617, std: 10.49037, params: {'min_samples_leaf': 12, 'min_samples_split': 27},\n",
       "  mean: -45.94054, std: 10.48994, params: {'min_samples_leaf': 12, 'min_samples_split': 32},\n",
       "  mean: -46.00817, std: 10.48510, params: {'min_samples_leaf': 12, 'min_samples_split': 37},\n",
       "  mean: -45.89784, std: 10.39324, params: {'min_samples_leaf': 12, 'min_samples_split': 42},\n",
       "  mean: -45.88930, std: 10.35246, params: {'min_samples_leaf': 12, 'min_samples_split': 47},\n",
       "  mean: -45.66094, std: 10.50766, params: {'min_samples_leaf': 17, 'min_samples_split': 2},\n",
       "  mean: -45.66094, std: 10.50766, params: {'min_samples_leaf': 17, 'min_samples_split': 7},\n",
       "  mean: -45.66094, std: 10.50766, params: {'min_samples_leaf': 17, 'min_samples_split': 12},\n",
       "  mean: -45.66094, std: 10.50766, params: {'min_samples_leaf': 17, 'min_samples_split': 17},\n",
       "  mean: -45.66094, std: 10.50766, params: {'min_samples_leaf': 17, 'min_samples_split': 22},\n",
       "  mean: -45.66094, std: 10.50766, params: {'min_samples_leaf': 17, 'min_samples_split': 27},\n",
       "  mean: -45.66094, std: 10.50766, params: {'min_samples_leaf': 17, 'min_samples_split': 32},\n",
       "  mean: -45.66540, std: 10.50942, params: {'min_samples_leaf': 17, 'min_samples_split': 37},\n",
       "  mean: -45.71023, std: 10.51290, params: {'min_samples_leaf': 17, 'min_samples_split': 42},\n",
       "  mean: -45.72321, std: 10.49149, params: {'min_samples_leaf': 17, 'min_samples_split': 47},\n",
       "  mean: -45.93893, std: 10.63403, params: {'min_samples_leaf': 22, 'min_samples_split': 2},\n",
       "  mean: -45.93893, std: 10.63403, params: {'min_samples_leaf': 22, 'min_samples_split': 7},\n",
       "  mean: -45.93893, std: 10.63403, params: {'min_samples_leaf': 22, 'min_samples_split': 12},\n",
       "  mean: -45.93893, std: 10.63403, params: {'min_samples_leaf': 22, 'min_samples_split': 17},\n",
       "  mean: -45.93893, std: 10.63403, params: {'min_samples_leaf': 22, 'min_samples_split': 22},\n",
       "  mean: -45.93893, std: 10.63403, params: {'min_samples_leaf': 22, 'min_samples_split': 27},\n",
       "  mean: -45.93893, std: 10.63403, params: {'min_samples_leaf': 22, 'min_samples_split': 32},\n",
       "  mean: -45.93893, std: 10.63403, params: {'min_samples_leaf': 22, 'min_samples_split': 37},\n",
       "  mean: -45.93893, std: 10.63403, params: {'min_samples_leaf': 22, 'min_samples_split': 42},\n",
       "  mean: -45.96729, std: 10.64255, params: {'min_samples_leaf': 22, 'min_samples_split': 47},\n",
       "  mean: -45.92418, std: 10.50385, params: {'min_samples_leaf': 27, 'min_samples_split': 2},\n",
       "  mean: -45.92418, std: 10.50385, params: {'min_samples_leaf': 27, 'min_samples_split': 7},\n",
       "  mean: -45.92418, std: 10.50385, params: {'min_samples_leaf': 27, 'min_samples_split': 12},\n",
       "  mean: -45.92418, std: 10.50385, params: {'min_samples_leaf': 27, 'min_samples_split': 17},\n",
       "  mean: -45.92418, std: 10.50385, params: {'min_samples_leaf': 27, 'min_samples_split': 22},\n",
       "  mean: -45.92418, std: 10.50385, params: {'min_samples_leaf': 27, 'min_samples_split': 27},\n",
       "  mean: -45.92418, std: 10.50385, params: {'min_samples_leaf': 27, 'min_samples_split': 32},\n",
       "  mean: -45.92418, std: 10.50385, params: {'min_samples_leaf': 27, 'min_samples_split': 37},\n",
       "  mean: -45.92418, std: 10.50385, params: {'min_samples_leaf': 27, 'min_samples_split': 42},\n",
       "  mean: -45.92418, std: 10.50385, params: {'min_samples_leaf': 27, 'min_samples_split': 47}],\n",
       " {'min_samples_leaf': 7, 'min_samples_split': 2},\n",
       " 6.75051861667716)"
      ]
     },
     "execution_count": 53,
     "metadata": {},
     "output_type": "execute_result"
    }
   ],
   "source": [
    "param_test3= {'min_samples_leaf':[i for i in range(2,30,5)], 'min_samples_split':[i for i in range(2,50,5)]}\n",
    "gsearch3= GridSearchCV(estimator = RandomForestRegressor(n_estimators= 25,max_depth=7,random_state=10),\n",
    "#                                  min_samples_leaf=20,max_depth=8,max_features='sqrt' ,random_state=10),\n",
    "                       param_grid =param_test3, scoring='neg_mean_squared_error',cv=5,n_jobs=12)\n",
    "gsearch3.fit(train_x_18_9,train_y_9)\n",
    "gsearch3.grid_scores_,gsearch3.best_params_, (gsearch3.best_score_*-1)**0.5"
   ]
  },
  {
   "cell_type": "code",
   "execution_count": 54,
   "metadata": {},
   "outputs": [
    {
     "name": "stdout",
     "output_type": "stream",
     "text": [
      "5.48248774161\n"
     ]
    }
   ],
   "source": [
    "forest = RandomForestRegressor( min_samples_leaf=7,min_samples_split=2,max_depth=7,random_state=10,n_estimators=25)\n",
    "forest.fit(train_x_18_9,train_y_9)\n",
    "pre = forest.predict(train_x_18_9)\n",
    "print(rmse(pre,train_y_9))"
   ]
  },
  {
   "cell_type": "code",
   "execution_count": 60,
   "metadata": {},
   "outputs": [
    {
     "data": {
      "text/plain": [
       "([mean: -45.12181, std: 10.21084, params: {'max_features': 100},\n",
       "  mean: -45.14500, std: 10.52334, params: {'max_features': 105},\n",
       "  mean: -45.09930, std: 10.02480, params: {'max_features': 110},\n",
       "  mean: -45.00691, std: 10.31957, params: {'max_features': 115},\n",
       "  mean: -45.03367, std: 10.10604, params: {'max_features': 120},\n",
       "  mean: -44.78233, std: 10.27031, params: {'max_features': 125},\n",
       "  mean: -44.57418, std: 10.23770, params: {'max_features': 130},\n",
       "  mean: -44.96508, std: 10.20858, params: {'max_features': 135},\n",
       "  mean: -44.84685, std: 10.23778, params: {'max_features': 140},\n",
       "  mean: -45.31280, std: 10.32514, params: {'max_features': 145},\n",
       "  mean: -44.76771, std: 10.32003, params: {'max_features': 150},\n",
       "  mean: -45.16717, std: 10.46535, params: {'max_features': 155},\n",
       "  mean: -45.17728, std: 10.49743, params: {'max_features': 160}],\n",
       " {'max_features': 130},\n",
       " 6.676389870867963)"
      ]
     },
     "execution_count": 60,
     "metadata": {},
     "output_type": "execute_result"
    }
   ],
   "source": [
    "param_test4 = {'max_features':[i for i in range(100,165,5)]}\n",
    "gsearch4 = GridSearchCV(estimator = RandomForestRegressor(n_estimators= 25, max_depth=13, min_samples_split=37,\n",
    "                                  min_samples_leaf=17 ,random_state=10),\n",
    "    param_grid =param_test4, scoring='neg_mean_squared_error',cv=5,n_jobs=12)\n",
    "gsearch4.fit(train_x_18_9,train_y_9)\n",
    "gsearch4.grid_scores_,gsearch4.best_params_, (gsearch4.best_score_*-1)**0.5"
   ]
  },
  {
   "cell_type": "code",
   "execution_count": 68,
   "metadata": {},
   "outputs": [
    {
     "name": "stdout",
     "output_type": "stream",
     "text": [
      "5.32946027076\n"
     ]
    }
   ],
   "source": [
    "forest = RandomForestRegressor( min_samples_leaf=17,min_samples_split=37,max_depth=13,random_state=10,\n",
    "                               max_features=130,n_estimators=25)\n",
    "forest.fit(train_x_18_9,train_y_9)\n",
    "pre = forest.predict(train_x_18_9)\n",
    "print(rmse(pre,train_y_9))"
   ]
  },
  {
   "cell_type": "code",
   "execution_count": 64,
   "metadata": {},
   "outputs": [
    {
     "data": {
      "text/plain": [
       "([mean: -45.05912, std: 9.77442, params: {'max_features': 100},\n",
       "  mean: -45.25076, std: 9.97022, params: {'max_features': 105},\n",
       "  mean: -45.45736, std: 10.11188, params: {'max_features': 110},\n",
       "  mean: -45.35418, std: 10.08760, params: {'max_features': 115},\n",
       "  mean: -45.25662, std: 9.99203, params: {'max_features': 120},\n",
       "  mean: -44.95587, std: 9.94133, params: {'max_features': 125},\n",
       "  mean: -45.12798, std: 10.21202, params: {'max_features': 130},\n",
       "  mean: -44.48262, std: 9.74630, params: {'max_features': 135},\n",
       "  mean: -44.56885, std: 9.86416, params: {'max_features': 140},\n",
       "  mean: -45.70374, std: 10.40121, params: {'max_features': 145},\n",
       "  mean: -45.54342, std: 10.12771, params: {'max_features': 150},\n",
       "  mean: -45.16464, std: 10.09801, params: {'max_features': 155},\n",
       "  mean: -45.62552, std: 10.22684, params: {'max_features': 160}],\n",
       " {'max_features': 135},\n",
       " 6.669529072806274)"
      ]
     },
     "execution_count": 64,
     "metadata": {},
     "output_type": "execute_result"
    }
   ],
   "source": [
    "param_test4 = {'max_features':[i for i in range(100,165,5)]}\n",
    "gsearch4 = GridSearchCV(estimator = RandomForestRegressor(n_estimators= 25, max_depth=7, min_samples_split=2,\n",
    "                                  min_samples_leaf=7 ,random_state=10),\n",
    "    param_grid =param_test4, scoring='neg_mean_squared_error',cv=5,n_jobs=12)\n",
    "gsearch4.fit(train_x_18_9,train_y_9)\n",
    "gsearch4.grid_scores_,gsearch4.best_params_, (gsearch4.best_score_*-1)**0.5"
   ]
  },
  {
   "cell_type": "code",
   "execution_count": 65,
   "metadata": {},
   "outputs": [
    {
     "name": "stdout",
     "output_type": "stream",
     "text": [
      "5.49097145517\n"
     ]
    }
   ],
   "source": [
    "forest = RandomForestRegressor( min_samples_leaf=7,min_samples_split=2,max_depth=7,random_state=10,\n",
    "                               max_features=135,n_estimators=25)\n",
    "forest.fit(train_x_18_9,train_y_9)\n",
    "pre = forest.predict(train_x_18_9)\n",
    "print(rmse(pre,train_y_9))"
   ]
  },
  {
   "cell_type": "code",
   "execution_count": 69,
   "metadata": {},
   "outputs": [
    {
     "name": "stdout",
     "output_type": "stream",
     "text": [
      "     id      value\n",
      "0  id_0   8.026954\n",
      "1  id_1  16.527186\n",
      "2  id_2  26.419140\n",
      "3  id_3   7.292122\n",
      "4  id_4  27.072096\n"
     ]
    }
   ],
   "source": [
    "prediction_test = forest.predict(test_x_18_9)\n",
    "output_result('output_rf2.csv',prediction_test)"
   ]
  },
  {
   "cell_type": "markdown",
   "metadata": {},
   "source": [
    "## GB"
   ]
  },
  {
   "cell_type": "code",
   "execution_count": 70,
   "metadata": {},
   "outputs": [
    {
     "data": {
      "text/plain": [
       "([mean: -80.27983, std: 26.76912, params: {'n_estimators': 10},\n",
       "  mean: -52.91587, std: 14.27279, params: {'n_estimators': 20},\n",
       "  mean: -48.71730, std: 11.62847, params: {'n_estimators': 30},\n",
       "  mean: -47.65739, std: 10.94461, params: {'n_estimators': 40},\n",
       "  mean: -47.31204, std: 10.75784, params: {'n_estimators': 50},\n",
       "  mean: -47.21175, std: 10.68398, params: {'n_estimators': 60},\n",
       "  mean: -47.19690, std: 10.65264, params: {'n_estimators': 70},\n",
       "  mean: -47.17996, std: 10.63890, params: {'n_estimators': 80},\n",
       "  mean: -47.14821, std: 10.63391, params: {'n_estimators': 90},\n",
       "  mean: -47.14401, std: 10.63111, params: {'n_estimators': 100},\n",
       "  mean: -47.13702, std: 10.64897, params: {'n_estimators': 110},\n",
       "  mean: -47.12599, std: 10.61793, params: {'n_estimators': 120},\n",
       "  mean: -47.15594, std: 10.60598, params: {'n_estimators': 130},\n",
       "  mean: -47.14056, std: 10.57585, params: {'n_estimators': 140},\n",
       "  mean: -47.13521, std: 10.58659, params: {'n_estimators': 150},\n",
       "  mean: -47.12788, std: 10.57091, params: {'n_estimators': 160},\n",
       "  mean: -47.11407, std: 10.58446, params: {'n_estimators': 170},\n",
       "  mean: -47.11429, std: 10.58512, params: {'n_estimators': 180},\n",
       "  mean: -47.09672, std: 10.57092, params: {'n_estimators': 190}],\n",
       " {'n_estimators': 190},\n",
       " 6.862705279296357)"
      ]
     },
     "execution_count": 70,
     "metadata": {},
     "output_type": "execute_result"
    }
   ],
   "source": [
    "param_test1= {'n_estimators':[i for i in range(10,200,10)],'learning_rate':[i for i in range()]}\n",
    "\n",
    "gsearch1= GridSearchCV(estimator = GradientBoostingRegressor(random_state=10,learning_rate=0.1,max_depth=8),\n",
    "                       param_grid =param_test1, scoring='neg_mean_squared_error',cv=5,n_jobs = 12)\n",
    "gsearch1.fit(train_x_18_9,train_y_9)\n",
    "gsearch1.grid_scores_,gsearch1.best_params_, (gsearch1.best_score_*-1)**0.5"
   ]
  },
  {
   "cell_type": "code",
   "execution_count": null,
   "metadata": {
    "collapsed": true
   },
   "outputs": [],
   "source": [
    "gb = GradientBoostingRegressor(random_state=10,learning_rate=0.1,max_depth=8)\n",
    "gb.fit(train_x_18_9,train_y_9)\n",
    "pre = gb.predict(train_x_18_9)\n",
    "print(rmse(pre,train_y_9))"
   ]
  },
  {
   "cell_type": "markdown",
   "metadata": {},
   "source": [
    "### SVM "
   ]
  },
  {
   "cell_type": "code",
   "execution_count": null,
   "metadata": {
    "collapsed": true
   },
   "outputs": [],
   "source": []
  },
  {
   "cell_type": "markdown",
   "metadata": {},
   "source": [
    "### Ridge Regression "
   ]
  },
  {
   "cell_type": "code",
   "execution_count": 88,
   "metadata": {
    "collapsed": true
   },
   "outputs": [],
   "source": [
    "from sklearn.linear_model import Ridge"
   ]
  },
  {
   "cell_type": "code",
   "execution_count": 119,
   "metadata": {},
   "outputs": [
    {
     "data": {
      "text/plain": [
       "([mean: -36.90976, std: 7.12411, params: {'alpha': 0.0},\n",
       "  mean: -36.72853, std: 7.10674, params: {'alpha': 0.001},\n",
       "  mean: -36.68149, std: 7.14301, params: {'alpha': 0.002},\n",
       "  mean: -36.67953, std: 7.18891, params: {'alpha': 0.003},\n",
       "  mean: -36.70237, std: 7.23663, params: {'alpha': 0.004},\n",
       "  mean: -36.74170, std: 7.28396, params: {'alpha': 0.005},\n",
       "  mean: -36.79299, std: 7.33019, params: {'alpha': 0.006},\n",
       "  mean: -36.85337, std: 7.37514, params: {'alpha': 0.007},\n",
       "  mean: -36.92084, std: 7.41878, params: {'alpha': 0.008},\n",
       "  mean: -36.99394, std: 7.46120, params: {'alpha': 0.009000000000000001}],\n",
       " {'alpha': 0.003},\n",
       " 6.056362712390842)"
      ]
     },
     "execution_count": 119,
     "metadata": {},
     "output_type": "execute_result"
    }
   ],
   "source": [
    "param_test1 = {'alpha':[i*0.001 for i in range(0,10)]}\n",
    "gsearch1 = GridSearchCV(Ridge(normalize=True),\n",
    "                       param_grid =param_test1, scoring='neg_mean_squared_error',cv=5,n_jobs = 12)\n",
    "gsearch1.fit(train_x_18_9,train_y_9)\n",
    "gsearch1.grid_scores_,gsearch1.best_params_, (gsearch1.best_score_*-1)**0.5"
   ]
  },
  {
   "cell_type": "code",
   "execution_count": 139,
   "metadata": {},
   "outputs": [
    {
     "name": "stdout",
     "output_type": "stream",
     "text": [
      "5.79252460812\n"
     ]
    }
   ],
   "source": [
    "reg = Ridge(alpha=0.003,normalize=True)\n",
    "reg.fit(train_x_18_9,train_y_9)\n",
    "pre = reg.predict(train_x_18_9)\n",
    "print(rmse(pre,train_y_9))"
   ]
  },
  {
   "cell_type": "code",
   "execution_count": 140,
   "metadata": {},
   "outputs": [
    {
     "name": "stdout",
     "output_type": "stream",
     "text": [
      "     id      value\n",
      "0  id_0   6.525927\n",
      "1  id_1  18.040214\n",
      "2  id_2  24.224045\n",
      "3  id_3   7.946928\n",
      "4  id_4  27.281214\n"
     ]
    }
   ],
   "source": [
    "prediction_test = reg.predict(test_x_18_9)\n",
    "output_result('output_ridge.csv',prediction_test)"
   ]
  },
  {
   "cell_type": "code",
   "execution_count": 109,
   "metadata": {
    "collapsed": true
   },
   "outputs": [],
   "source": [
    "from sklearn.linear_model import Lasso"
   ]
  },
  {
   "cell_type": "code",
   "execution_count": 116,
   "metadata": {},
   "outputs": [
    {
     "data": {
      "text/plain": [
       "([mean: -36.31986, std: 7.19528, params: {'alpha': 0.0001},\n",
       "  mean: -36.13836, std: 7.32235, params: {'alpha': 0.0002},\n",
       "  mean: -36.07448, std: 7.40493, params: {'alpha': 0.00030000000000000003},\n",
       "  mean: -36.04563, std: 7.44903, params: {'alpha': 0.0004},\n",
       "  mean: -36.04503, std: 7.48520, params: {'alpha': 0.0005},\n",
       "  mean: -36.06282, std: 7.50578, params: {'alpha': 0.0006000000000000001},\n",
       "  mean: -36.10414, std: 7.52600, params: {'alpha': 0.0007},\n",
       "  mean: -36.15919, std: 7.54923, params: {'alpha': 0.0008},\n",
       "  mean: -36.22604, std: 7.57092, params: {'alpha': 0.0009000000000000001}],\n",
       " {'alpha': 0.0005},\n",
       " 6.003751333192469)"
      ]
     },
     "execution_count": 116,
     "metadata": {},
     "output_type": "execute_result"
    }
   ],
   "source": [
    "param_test1 = {'alpha':[i*0.0001 for i in range(1,10)]}\n",
    "gsearch1 = GridSearchCV(Lasso(normalize=True),\n",
    "                       param_grid =param_test1, scoring='neg_mean_squared_error',cv=5,n_jobs = 12)\n",
    "gsearch1.fit(train_x_18_9,train_y_9)\n",
    "gsearch1.grid_scores_,gsearch1.best_params_, (gsearch1.best_score_*-1)**0.5"
   ]
  },
  {
   "cell_type": "code",
   "execution_count": 141,
   "metadata": {},
   "outputs": [
    {
     "name": "stdout",
     "output_type": "stream",
     "text": [
      "5.86286255484\n"
     ]
    }
   ],
   "source": [
    "reg = Lasso(alpha=0.0005,normalize=True)\n",
    "reg.fit(train_x_18_9,train_y_9)\n",
    "pre = reg.predict(train_x_18_9)\n",
    "print(rmse(pre,train_y_9))"
   ]
  },
  {
   "cell_type": "code",
   "execution_count": 142,
   "metadata": {},
   "outputs": [
    {
     "name": "stdout",
     "output_type": "stream",
     "text": [
      "     id      value\n",
      "0  id_0   5.474261\n",
      "1  id_1  17.033321\n",
      "2  id_2  23.443692\n",
      "3  id_3   7.655769\n",
      "4  id_4  27.706008\n"
     ]
    }
   ],
   "source": [
    "prediction_test = reg.predict(test_x_18_9)\n",
    "output_result('output_lasso.csv',prediction_test)"
   ]
  },
  {
   "cell_type": "code",
   "execution_count": 127,
   "metadata": {
    "collapsed": true
   },
   "outputs": [],
   "source": [
    "from sklearn.linear_model import ElasticNet"
   ]
  },
  {
   "cell_type": "code",
   "execution_count": 132,
   "metadata": {},
   "outputs": [
    {
     "name": "stderr",
     "output_type": "stream",
     "text": [
      "/shared_home/willie/anaconda3/lib/python3.6/site-packages/sklearn/metrics/regression.py:239: RuntimeWarning: overflow encountered in square\n",
      "  output_errors = np.average((y_true - y_pred) ** 2, axis=0,\n",
      "/shared_home/willie/anaconda3/lib/python3.6/site-packages/sklearn/metrics/regression.py:239: RuntimeWarning: overflow encountered in square\n",
      "  output_errors = np.average((y_true - y_pred) ** 2, axis=0,\n",
      "/shared_home/willie/anaconda3/lib/python3.6/site-packages/sklearn/metrics/regression.py:239: RuntimeWarning: overflow encountered in square\n",
      "  output_errors = np.average((y_true - y_pred) ** 2, axis=0,\n",
      "/shared_home/willie/anaconda3/lib/python3.6/site-packages/sklearn/metrics/regression.py:239: RuntimeWarning: overflow encountered in square\n",
      "  output_errors = np.average((y_true - y_pred) ** 2, axis=0,\n",
      "/shared_home/willie/anaconda3/lib/python3.6/site-packages/sklearn/linear_model/coordinate_descent.py:491: ConvergenceWarning: Objective did not converge. You might want to increase the number of iterations. Fitting data with very small alpha may cause precision problems.\n",
      "  ConvergenceWarning)\n",
      "/shared_home/willie/anaconda3/lib/python3.6/site-packages/sklearn/metrics/regression.py:239: RuntimeWarning: overflow encountered in square\n",
      "  output_errors = np.average((y_true - y_pred) ** 2, axis=0,\n",
      "/shared_home/willie/anaconda3/lib/python3.6/site-packages/sklearn/metrics/regression.py:239: RuntimeWarning: overflow encountered in square\n",
      "  output_errors = np.average((y_true - y_pred) ** 2, axis=0,\n",
      "/shared_home/willie/anaconda3/lib/python3.6/site-packages/sklearn/metrics/regression.py:239: RuntimeWarning: overflow encountered in square\n",
      "  output_errors = np.average((y_true - y_pred) ** 2, axis=0,\n",
      "/shared_home/willie/anaconda3/lib/python3.6/site-packages/sklearn/metrics/regression.py:239: RuntimeWarning: overflow encountered in square\n",
      "  output_errors = np.average((y_true - y_pred) ** 2, axis=0,\n",
      "/shared_home/willie/anaconda3/lib/python3.6/site-packages/sklearn/linear_model/coordinate_descent.py:491: ConvergenceWarning: Objective did not converge. You might want to increase the number of iterations. Fitting data with very small alpha may cause precision problems.\n",
      "  ConvergenceWarning)\n",
      "/shared_home/willie/anaconda3/lib/python3.6/site-packages/sklearn/metrics/regression.py:239: RuntimeWarning: overflow encountered in square\n",
      "  output_errors = np.average((y_true - y_pred) ** 2, axis=0,\n",
      "/shared_home/willie/anaconda3/lib/python3.6/site-packages/sklearn/linear_model/coordinate_descent.py:491: ConvergenceWarning: Objective did not converge. You might want to increase the number of iterations. Fitting data with very small alpha may cause precision problems.\n",
      "  ConvergenceWarning)\n",
      "/shared_home/willie/anaconda3/lib/python3.6/site-packages/sklearn/linear_model/coordinate_descent.py:491: ConvergenceWarning: Objective did not converge. You might want to increase the number of iterations. Fitting data with very small alpha may cause precision problems.\n",
      "  ConvergenceWarning)\n",
      "/shared_home/willie/anaconda3/lib/python3.6/site-packages/sklearn/metrics/regression.py:239: RuntimeWarning: overflow encountered in square\n",
      "  output_errors = np.average((y_true - y_pred) ** 2, axis=0,\n",
      "/shared_home/willie/anaconda3/lib/python3.6/site-packages/sklearn/linear_model/coordinate_descent.py:491: ConvergenceWarning: Objective did not converge. You might want to increase the number of iterations. Fitting data with very small alpha may cause precision problems.\n",
      "  ConvergenceWarning)\n",
      "/shared_home/willie/anaconda3/lib/python3.6/site-packages/sklearn/linear_model/coordinate_descent.py:491: ConvergenceWarning: Objective did not converge. You might want to increase the number of iterations. Fitting data with very small alpha may cause precision problems.\n",
      "  ConvergenceWarning)\n",
      "/shared_home/willie/anaconda3/lib/python3.6/site-packages/sklearn/linear_model/coordinate_descent.py:491: ConvergenceWarning: Objective did not converge. You might want to increase the number of iterations. Fitting data with very small alpha may cause precision problems.\n",
      "  ConvergenceWarning)\n",
      "/shared_home/willie/anaconda3/lib/python3.6/site-packages/sklearn/linear_model/coordinate_descent.py:491: ConvergenceWarning: Objective did not converge. You might want to increase the number of iterations. Fitting data with very small alpha may cause precision problems.\n",
      "  ConvergenceWarning)\n",
      "/shared_home/willie/anaconda3/lib/python3.6/site-packages/sklearn/metrics/regression.py:239: RuntimeWarning: overflow encountered in square\n",
      "  output_errors = np.average((y_true - y_pred) ** 2, axis=0,\n",
      "/shared_home/willie/anaconda3/lib/python3.6/site-packages/sklearn/metrics/regression.py:239: RuntimeWarning: overflow encountered in square\n",
      "  output_errors = np.average((y_true - y_pred) ** 2, axis=0,\n",
      "/shared_home/willie/anaconda3/lib/python3.6/site-packages/sklearn/linear_model/coordinate_descent.py:491: ConvergenceWarning: Objective did not converge. You might want to increase the number of iterations. Fitting data with very small alpha may cause precision problems.\n",
      "  ConvergenceWarning)\n",
      "/shared_home/willie/anaconda3/lib/python3.6/site-packages/sklearn/metrics/regression.py:239: RuntimeWarning: overflow encountered in square\n",
      "  output_errors = np.average((y_true - y_pred) ** 2, axis=0,\n",
      "/shared_home/willie/anaconda3/lib/python3.6/site-packages/sklearn/metrics/regression.py:239: RuntimeWarning: overflow encountered in square\n",
      "  output_errors = np.average((y_true - y_pred) ** 2, axis=0,\n",
      "/shared_home/willie/anaconda3/lib/python3.6/site-packages/sklearn/metrics/regression.py:239: RuntimeWarning: overflow encountered in square\n",
      "  output_errors = np.average((y_true - y_pred) ** 2, axis=0,\n",
      "/shared_home/willie/anaconda3/lib/python3.6/site-packages/sklearn/linear_model/coordinate_descent.py:491: ConvergenceWarning: Objective did not converge. You might want to increase the number of iterations. Fitting data with very small alpha may cause precision problems.\n",
      "  ConvergenceWarning)\n",
      "/shared_home/willie/anaconda3/lib/python3.6/site-packages/sklearn/linear_model/coordinate_descent.py:491: ConvergenceWarning: Objective did not converge. You might want to increase the number of iterations. Fitting data with very small alpha may cause precision problems.\n",
      "  ConvergenceWarning)\n",
      "/shared_home/willie/anaconda3/lib/python3.6/site-packages/sklearn/linear_model/coordinate_descent.py:491: ConvergenceWarning: Objective did not converge. You might want to increase the number of iterations. Fitting data with very small alpha may cause precision problems.\n",
      "  ConvergenceWarning)\n",
      "/shared_home/willie/anaconda3/lib/python3.6/site-packages/sklearn/linear_model/coordinate_descent.py:491: ConvergenceWarning: Objective did not converge. You might want to increase the number of iterations. Fitting data with very small alpha may cause precision problems.\n",
      "  ConvergenceWarning)\n",
      "/shared_home/willie/anaconda3/lib/python3.6/site-packages/sklearn/linear_model/coordinate_descent.py:491: ConvergenceWarning: Objective did not converge. You might want to increase the number of iterations. Fitting data with very small alpha may cause precision problems.\n",
      "  ConvergenceWarning)\n",
      "/shared_home/willie/anaconda3/lib/python3.6/site-packages/sklearn/linear_model/coordinate_descent.py:491: ConvergenceWarning: Objective did not converge. You might want to increase the number of iterations. Fitting data with very small alpha may cause precision problems.\n",
      "  ConvergenceWarning)\n",
      "/shared_home/willie/anaconda3/lib/python3.6/site-packages/sklearn/linear_model/coordinate_descent.py:491: ConvergenceWarning: Objective did not converge. You might want to increase the number of iterations. Fitting data with very small alpha may cause precision problems.\n",
      "  ConvergenceWarning)\n",
      "/shared_home/willie/anaconda3/lib/python3.6/site-packages/sklearn/metrics/regression.py:239: RuntimeWarning: overflow encountered in square\n",
      "  output_errors = np.average((y_true - y_pred) ** 2, axis=0,\n",
      "/shared_home/willie/anaconda3/lib/python3.6/site-packages/sklearn/linear_model/coordinate_descent.py:491: ConvergenceWarning: Objective did not converge. You might want to increase the number of iterations. Fitting data with very small alpha may cause precision problems.\n",
      "  ConvergenceWarning)\n"
     ]
    },
    {
     "name": "stderr",
     "output_type": "stream",
     "text": [
      "/shared_home/willie/anaconda3/lib/python3.6/site-packages/sklearn/linear_model/coordinate_descent.py:491: ConvergenceWarning: Objective did not converge. You might want to increase the number of iterations. Fitting data with very small alpha may cause precision problems.\n",
      "  ConvergenceWarning)\n",
      "/shared_home/willie/anaconda3/lib/python3.6/site-packages/sklearn/metrics/regression.py:239: RuntimeWarning: overflow encountered in square\n",
      "  output_errors = np.average((y_true - y_pred) ** 2, axis=0,\n",
      "/shared_home/willie/anaconda3/lib/python3.6/site-packages/sklearn/linear_model/coordinate_descent.py:491: ConvergenceWarning: Objective did not converge. You might want to increase the number of iterations. Fitting data with very small alpha may cause precision problems.\n",
      "  ConvergenceWarning)\n",
      "/shared_home/willie/anaconda3/lib/python3.6/site-packages/sklearn/metrics/regression.py:239: RuntimeWarning: overflow encountered in square\n",
      "  output_errors = np.average((y_true - y_pred) ** 2, axis=0,\n",
      "/shared_home/willie/anaconda3/lib/python3.6/site-packages/sklearn/linear_model/coordinate_descent.py:491: ConvergenceWarning: Objective did not converge. You might want to increase the number of iterations. Fitting data with very small alpha may cause precision problems.\n",
      "  ConvergenceWarning)\n",
      "/shared_home/willie/anaconda3/lib/python3.6/site-packages/numpy/core/_methods.py:112: RuntimeWarning: invalid value encountered in subtract\n",
      "  x = asanyarray(arr - arrmean)\n",
      "/shared_home/willie/anaconda3/lib/python3.6/site-packages/numpy/core/_methods.py:116: RuntimeWarning: overflow encountered in multiply\n",
      "  x = um.multiply(x, x, out=x)\n"
     ]
    },
    {
     "data": {
      "text/plain": [
       "([mean: -36.31986, std: 7.19528, params: {'alpha': 0.0001, 'l1_ratio': 1},\n",
       "  mean: -285.46046, std: 108.79919, params: {'alpha': 0.0001, 'l1_ratio': 2},\n",
       "  mean: -285.46046, std: 108.79919, params: {'alpha': 0.0001, 'l1_ratio': 3},\n",
       "  mean: -285.46046, std: 108.79919, params: {'alpha': 0.0001, 'l1_ratio': 4},\n",
       "  mean: -285.46046, std: 108.79919, params: {'alpha': 0.0001, 'l1_ratio': 5},\n",
       "  mean: -285.46046, std: 108.79919, params: {'alpha': 0.0001, 'l1_ratio': 6},\n",
       "  mean: -285.46046, std: 108.79919, params: {'alpha': 0.0001, 'l1_ratio': 7},\n",
       "  mean: -285.46046, std: 108.79919, params: {'alpha': 0.0001, 'l1_ratio': 8},\n",
       "  mean: -285.46046, std: 108.79919, params: {'alpha': 0.0001, 'l1_ratio': 9},\n",
       "  mean: -36.13836, std: 7.32235, params: {'alpha': 0.0002, 'l1_ratio': 1},\n",
       "  mean: -285.46046, std: 108.79919, params: {'alpha': 0.0002, 'l1_ratio': 2},\n",
       "  mean: -285.46046, std: 108.79919, params: {'alpha': 0.0002, 'l1_ratio': 3},\n",
       "  mean: -285.46046, std: 108.79919, params: {'alpha': 0.0002, 'l1_ratio': 4},\n",
       "  mean: -285.46046, std: 108.79919, params: {'alpha': 0.0002, 'l1_ratio': 5},\n",
       "  mean: -285.46046, std: 108.79919, params: {'alpha': 0.0002, 'l1_ratio': 6},\n",
       "  mean: -285.46046, std: 108.79919, params: {'alpha': 0.0002, 'l1_ratio': 7},\n",
       "  mean: -285.46046, std: 108.79919, params: {'alpha': 0.0002, 'l1_ratio': 8},\n",
       "  mean: -285.46046, std: 108.79919, params: {'alpha': 0.0002, 'l1_ratio': 9},\n",
       "  mean: -36.07448, std: 7.40493, params: {'alpha': 0.00030000000000000003, 'l1_ratio': 1},\n",
       "  mean: -285.46046, std: 108.79919, params: {'alpha': 0.00030000000000000003, 'l1_ratio': 2},\n",
       "  mean: -285.46046, std: 108.79919, params: {'alpha': 0.00030000000000000003, 'l1_ratio': 3},\n",
       "  mean: -285.46046, std: 108.79919, params: {'alpha': 0.00030000000000000003, 'l1_ratio': 4},\n",
       "  mean: -285.46046, std: 108.79919, params: {'alpha': 0.00030000000000000003, 'l1_ratio': 5},\n",
       "  mean: -285.46046, std: 108.79919, params: {'alpha': 0.00030000000000000003, 'l1_ratio': 6},\n",
       "  mean: -285.46046, std: 108.79919, params: {'alpha': 0.00030000000000000003, 'l1_ratio': 7},\n",
       "  mean: -285.46046, std: 108.79919, params: {'alpha': 0.00030000000000000003, 'l1_ratio': 8},\n",
       "  mean: -285.46046, std: 108.79919, params: {'alpha': 0.00030000000000000003, 'l1_ratio': 9},\n",
       "  mean: -36.04563, std: 7.44903, params: {'alpha': 0.0004, 'l1_ratio': 1},\n",
       "  mean: -285.46046, std: 108.79919, params: {'alpha': 0.0004, 'l1_ratio': 2},\n",
       "  mean: -285.46046, std: 108.79919, params: {'alpha': 0.0004, 'l1_ratio': 3},\n",
       "  mean: -285.46046, std: 108.79919, params: {'alpha': 0.0004, 'l1_ratio': 4},\n",
       "  mean: -285.46046, std: 108.79919, params: {'alpha': 0.0004, 'l1_ratio': 5},\n",
       "  mean: -285.46046, std: 108.79919, params: {'alpha': 0.0004, 'l1_ratio': 6},\n",
       "  mean: -285.46046, std: 108.79919, params: {'alpha': 0.0004, 'l1_ratio': 7},\n",
       "  mean: -285.46046, std: 108.79919, params: {'alpha': 0.0004, 'l1_ratio': 8},\n",
       "  mean: -285.46046, std: 108.79919, params: {'alpha': 0.0004, 'l1_ratio': 9},\n",
       "  mean: -36.04503, std: 7.48520, params: {'alpha': 0.0005, 'l1_ratio': 1},\n",
       "  mean: -285.46046, std: 108.79919, params: {'alpha': 0.0005, 'l1_ratio': 2},\n",
       "  mean: -285.46046, std: 108.79919, params: {'alpha': 0.0005, 'l1_ratio': 3},\n",
       "  mean: -285.46046, std: 108.79919, params: {'alpha': 0.0005, 'l1_ratio': 4},\n",
       "  mean: -285.46046, std: 108.79919, params: {'alpha': 0.0005, 'l1_ratio': 5},\n",
       "  mean: -285.46046, std: 108.79919, params: {'alpha': 0.0005, 'l1_ratio': 6},\n",
       "  mean: -285.46046, std: 108.79919, params: {'alpha': 0.0005, 'l1_ratio': 7},\n",
       "  mean: -285.46046, std: 108.79919, params: {'alpha': 0.0005, 'l1_ratio': 8},\n",
       "  mean: -285.46046, std: 108.79919, params: {'alpha': 0.0005, 'l1_ratio': 9},\n",
       "  mean: -36.06282, std: 7.50578, params: {'alpha': 0.0006000000000000001, 'l1_ratio': 1},\n",
       "  mean: -285.46046, std: 108.79919, params: {'alpha': 0.0006000000000000001, 'l1_ratio': 2},\n",
       "  mean: -285.46046, std: 108.79919, params: {'alpha': 0.0006000000000000001, 'l1_ratio': 3},\n",
       "  mean: -285.46046, std: 108.79919, params: {'alpha': 0.0006000000000000001, 'l1_ratio': 4},\n",
       "  mean: -285.46046, std: 108.79919, params: {'alpha': 0.0006000000000000001, 'l1_ratio': 5},\n",
       "  mean: -285.46046, std: 108.79919, params: {'alpha': 0.0006000000000000001, 'l1_ratio': 6},\n",
       "  mean: -285.46046, std: 108.79919, params: {'alpha': 0.0006000000000000001, 'l1_ratio': 7},\n",
       "  mean: -285.46046, std: 108.79919, params: {'alpha': 0.0006000000000000001, 'l1_ratio': 8},\n",
       "  mean: -inf, std: nan, params: {'alpha': 0.0006000000000000001, 'l1_ratio': 9},\n",
       "  mean: -36.10414, std: 7.52600, params: {'alpha': 0.0007, 'l1_ratio': 1},\n",
       "  mean: -285.46046, std: 108.79919, params: {'alpha': 0.0007, 'l1_ratio': 2},\n",
       "  mean: -285.46046, std: 108.79919, params: {'alpha': 0.0007, 'l1_ratio': 3},\n",
       "  mean: -285.46046, std: 108.79919, params: {'alpha': 0.0007, 'l1_ratio': 4},\n",
       "  mean: -285.46046, std: 108.79919, params: {'alpha': 0.0007, 'l1_ratio': 5},\n",
       "  mean: -285.46046, std: 108.79919, params: {'alpha': 0.0007, 'l1_ratio': 6},\n",
       "  mean: -285.46046, std: 108.79919, params: {'alpha': 0.0007, 'l1_ratio': 7},\n",
       "  mean: -inf, std: nan, params: {'alpha': 0.0007, 'l1_ratio': 8},\n",
       "  mean: -inf, std: nan, params: {'alpha': 0.0007, 'l1_ratio': 9},\n",
       "  mean: -36.15919, std: 7.54923, params: {'alpha': 0.0008, 'l1_ratio': 1},\n",
       "  mean: -285.46046, std: 108.79919, params: {'alpha': 0.0008, 'l1_ratio': 2},\n",
       "  mean: -285.46046, std: 108.79919, params: {'alpha': 0.0008, 'l1_ratio': 3},\n",
       "  mean: -285.46046, std: 108.79919, params: {'alpha': 0.0008, 'l1_ratio': 4},\n",
       "  mean: -285.46046, std: 108.79919, params: {'alpha': 0.0008, 'l1_ratio': 5},\n",
       "  mean: -285.46046, std: 108.79919, params: {'alpha': 0.0008, 'l1_ratio': 6},\n",
       "  mean: -inf, std: nan, params: {'alpha': 0.0008, 'l1_ratio': 7},\n",
       "  mean: -inf, std: nan, params: {'alpha': 0.0008, 'l1_ratio': 8},\n",
       "  mean: -342697608903958374731396751482675079214561241483109147943475526055620560914641913913528443118697862014737620798344265408930891027987215714079809089686448975331630383078834176.00000, std: inf, params: {'alpha': 0.0008, 'l1_ratio': 9},\n",
       "  mean: -36.22604, std: 7.57092, params: {'alpha': 0.0009000000000000001, 'l1_ratio': 1},\n",
       "  mean: -285.46046, std: 108.79919, params: {'alpha': 0.0009000000000000001, 'l1_ratio': 2},\n",
       "  mean: -285.46046, std: 108.79919, params: {'alpha': 0.0009000000000000001, 'l1_ratio': 3},\n",
       "  mean: -285.46046, std: 108.79919, params: {'alpha': 0.0009000000000000001, 'l1_ratio': 4},\n",
       "  mean: -285.46046, std: 108.79919, params: {'alpha': 0.0009000000000000001, 'l1_ratio': 5},\n",
       "  mean: -inf, std: nan, params: {'alpha': 0.0009000000000000001, 'l1_ratio': 6},\n",
       "  mean: -inf, std: nan, params: {'alpha': 0.0009000000000000001, 'l1_ratio': 7},\n",
       "  mean: -62728148974382687144122239551257578559635398197570463782800048931661712751025649950808702721160254550758430861598953613606507695774388289970554102456058129168337790618068383949666943418346740951803756544.00000, std: inf, params: {'alpha': 0.0009000000000000001, 'l1_ratio': 8},\n",
       "  mean: -41736.29441, std: 47568.98367, params: {'alpha': 0.0009000000000000001, 'l1_ratio': 9}],\n",
       " {'alpha': 0.0005, 'l1_ratio': 1},\n",
       " 6.003751333192469)"
      ]
     },
     "execution_count": 132,
     "metadata": {},
     "output_type": "execute_result"
    }
   ],
   "source": [
    "param_test1 = {'alpha':[i*0.0001 for i in range(1,10)],'l1_ratio':[i*1 for i in range(1,11)]}\n",
    "gsearch1 = GridSearchCV(ElasticNet(normalize=True),\n",
    "                       param_grid =param_test1, scoring='neg_mean_squared_error',cv=5,n_jobs = 12)\n",
    "gsearch1.fit(train_x_18_9,train_y_9)\n",
    "gsearch1.grid_scores_,gsearch1.best_params_, (gsearch1.best_score_*-1)**0.5"
   ]
  },
  {
   "cell_type": "code",
   "execution_count": 138,
   "metadata": {},
   "outputs": [
    {
     "name": "stdout",
     "output_type": "stream",
     "text": [
      "5.80009429072\n"
     ]
    }
   ],
   "source": [
    "reg = ElasticNet(alpha=0.0001,normalize=True,l1_ratio=1)\n",
    "reg.fit(train_x_18_9,train_y_9)\n",
    "pre = reg.predict(train_x_18_9)\n",
    "print(rmse(pre,train_y_9))"
   ]
  },
  {
   "cell_type": "markdown",
   "metadata": {},
   "source": [
    "### Ensemble "
   ]
  },
  {
   "cell_type": "code",
   "execution_count": 147,
   "metadata": {},
   "outputs": [
    {
     "data": {
      "text/plain": [
       "array([  6.45500382,  17.939696  ,  26.16243957,   6.1942527 ,\n",
       "        30.1004397 ,  23.02586452,  20.25524191,  30.05403294,\n",
       "        18.64986586,  57.74892573,  15.11371474,  12.21760941,\n",
       "        62.67996632,  54.39493004,  21.54043519,  10.85444931,\n",
       "        29.97178383,  68.73217796,   2.97972645,  16.38039933,\n",
       "        41.72701159,  70.39108837,   7.44973933,  18.63205105,\n",
       "        11.72646882,  40.59049011,  14.0570743 ,  74.50990996,\n",
       "         8.35492392,  54.84152344,  20.16361982,   8.46354122,\n",
       "         3.25934984,  24.40089502,  30.31242859,  35.54946919,\n",
       "        41.46722565,  30.77460695,  39.9585534 ,  38.23694064,\n",
       "         5.94815679,  35.17776561,  36.07603897,  51.89802524,\n",
       "        12.20135606,  38.6528465 ,  23.32705666,  10.72956173,\n",
       "        24.86095805,  29.18972569,  22.84362136,   5.1779283 ,\n",
       "        27.97027513,  54.70790139,  15.52377158,  32.42579378,\n",
       "        30.14396469,  22.64025341,  63.82664829,  20.6688347 ,\n",
       "        18.72368319,  40.97507875,  16.20849832,  54.07084351,\n",
       "        15.9261233 ,  17.45069409,  11.87437036,   3.06496549,\n",
       "        47.12976587,  31.95371929,  21.06908483,  35.91527495,\n",
       "        62.25373794,   5.10069702,  15.70375587,   6.8063779 ,\n",
       "        40.23021222,  15.91823183,  27.16282357,  20.55135782,\n",
       "        21.17968939,  33.83279683,  21.54853855,  84.75013694,\n",
       "        35.38682084,  31.49559047,  24.15775168,  30.81918721,\n",
       "        22.32629937,  21.36853949,  29.01864096,  38.2371182 ,\n",
       "         4.8890769 ,  37.16624154,  51.70089924,  14.71154171,\n",
       "        33.23046572,  12.29083944,  30.52791693,   4.2350111 ,\n",
       "        17.74779339,  24.55197481,  14.60218597,  15.55293352,\n",
       "        20.17545794,  40.71108966,  27.75668003,   9.66363861,\n",
       "        14.85903069,  74.11279838,  47.49140027,  12.20012911,\n",
       "        30.44169629,  13.64057576,  16.91533898,  23.89699963,\n",
       "        24.49792847,   6.42834708,  17.31218881,  18.70251148,\n",
       "        71.81217006,  21.77611641,  35.27503724,  25.021404  ,\n",
       "        10.07710001,  45.57047319,  12.0055287 ,  17.96230368,\n",
       "        29.19192069,  58.79058909,  22.40740955,  23.23691688,\n",
       "        57.38451429,  16.21901734,  14.08873198,   5.89277126,\n",
       "        12.12927402,  55.458437  ,  13.86664107,   9.25976018,\n",
       "        27.90350522,  24.3087319 ,  47.70359268,  34.92706935,\n",
       "        16.7379186 ,  31.14918789,  10.20753357,  54.48849676,\n",
       "        21.8997959 ,  42.41889202,  11.25815026,   6.41671471,\n",
       "        24.8483103 ,  10.04089051,  18.56485476,  39.49174897,\n",
       "         7.06690067,  35.70376789,   9.73894472,  17.09198242,\n",
       "        38.33740154,  17.03217572,  12.56565847,   6.91562265,\n",
       "        53.68833708,  27.04092102,   4.32627717,  14.09734824,\n",
       "        59.82049009,  13.11084748,  61.52333986,  34.30008184,\n",
       "        23.82756494,  19.09707784,  57.89582421,  18.52447703,\n",
       "        22.65934528,  34.87228241,   9.61306895,  32.8648115 ,\n",
       "        16.85895322,  12.03530953,  56.95797515,  49.62032262,\n",
       "        18.71450506,  35.66778524,  25.21677108,  68.79502638,\n",
       "        10.10492845,  59.09506078,  38.03283282,  18.59449854,\n",
       "        31.64154361,   3.30473745,  25.28260282,   2.06898345,\n",
       "        36.52325703,  12.05748959,  21.64152206,  68.81038026,\n",
       "        28.0960691 ,  20.66611859,  65.23622357,  11.2188638 ,\n",
       "         9.88502414,  10.91086758,   8.27889756,   3.74461709,\n",
       "        87.92471696,  15.56974342,  15.5216551 ,  19.82971246,\n",
       "        38.10693732,  34.67783979,  21.55145681,  36.18052037,\n",
       "        76.93390034,   2.94357488,  14.90031819,  30.18980063,\n",
       "        19.1192123 ,  12.00147625,  87.94917839,  12.49708024,\n",
       "        15.54586094,  53.50674754,  14.20715649,  18.19340716,\n",
       "         9.17895625,   7.58084863,  40.81228727,  12.79887884,\n",
       "        54.96198902,  40.65638809,  20.07902377,  46.90858513,\n",
       "        66.91135276,  36.40388203,   5.67833955,  15.679069  ])"
      ]
     },
     "execution_count": 147,
     "metadata": {},
     "output_type": "execute_result"
    }
   ],
   "source": [
    "rf_pre = pd.read_csv('output_rf1.csv')['value'].values\n"
   ]
  },
  {
   "cell_type": "code",
   "execution_count": null,
   "metadata": {
    "collapsed": true
   },
   "outputs": [],
   "source": []
  }
 ],
 "metadata": {
  "kernelspec": {
   "display_name": "Python 3",
   "language": "python",
   "name": "python3"
  },
  "language_info": {
   "codemirror_mode": {
    "name": "ipython",
    "version": 3
   },
   "file_extension": ".py",
   "mimetype": "text/x-python",
   "name": "python",
   "nbconvert_exporter": "python",
   "pygments_lexer": "ipython3",
   "version": "3.6.3"
  }
 },
 "nbformat": 4,
 "nbformat_minor": 2
}
