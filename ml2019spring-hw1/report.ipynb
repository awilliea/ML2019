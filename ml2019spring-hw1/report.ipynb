{
 "cells": [
  {
   "cell_type": "code",
   "execution_count": 1,
   "metadata": {
    "collapsed": true
   },
   "outputs": [],
   "source": [
    "import pandas as pd\n",
    "import numpy as np\n",
    "import matplotlib.pyplot as plt\n",
    "\n",
    "def load_train_data(filename):\n",
    "    train = pd.read_csv(filename,encoding='big5')\n",
    "    \n",
    "    ### seperate data \n",
    "    data = [[] for i in range(18)]\n",
    "    for r,d in enumerate(train.iloc[:,3:].values):\n",
    "        data[r%18].append(d)\n",
    "    data = np.array(data).reshape((18,-1))\n",
    "    \n",
    "    return data\n",
    "\n",
    "def load_test_data(filename):\n",
    "    test = pd.read_csv(filename,encoding='big5',header = None)\n",
    "    test_data = [[] for i in range(18)]\n",
    "    for r,d in enumerate(test.iloc[:,2:].values):\n",
    "        test_data[r%18].append(d)\n",
    "    test_data = np.array(test_data).reshape((18,-1))\n",
    "    \n",
    "    return test_data"
   ]
  },
  {
   "cell_type": "code",
   "execution_count": 2,
   "metadata": {},
   "outputs": [
    {
     "name": "stdout",
     "output_type": "stream",
     "text": [
      "(18, 5760)\n",
      "(18, 2160)\n"
     ]
    }
   ],
   "source": [
    "train_data = load_train_data('./data/train.csv')\n",
    "test_data = load_test_data('./data/test.csv')\n",
    "\n",
    "print(train_data.shape)\n",
    "print(test_data.shape)"
   ]
  },
  {
   "cell_type": "code",
   "execution_count": 39,
   "metadata": {
    "collapsed": true
   },
   "outputs": [],
   "source": [
    "def get_train_data(data,hours):\n",
    "    train_x_18 = []\n",
    "    train_x_1 = []\n",
    "    train_y = []\n",
    "\n",
    "    for i in range(0,data.shape[1]-hours):\n",
    "        train_x_18.append(data[:,i:i+hours].reshape((-1)))\n",
    "        train_x_1.append(data[9,i:i+hours].reshape((-1)))\n",
    "        train_y.append(data[9][i+hours])\n",
    "        \n",
    "    train_x_18 = np.array(train_x_18)\n",
    "    train_x_1 = np.array(train_x_1)\n",
    "    train_y = np.array(train_y).astype(np.float64)\n",
    "\n",
    "    # replace NR to 0\n",
    "    train_x_18[train_x_18 == 'NR'] = 0\n",
    "    train_x_18 = train_x_18.astype(np.float64)\n",
    "    train_x_1 = train_x_1.astype(np.float64)\n",
    "    \n",
    "    return train_x_18, train_x_1, train_y\n",
    "\n",
    "def get_test_data(data,hours):\n",
    "    test_x_18 = []\n",
    "    test_x_1 = []\n",
    "    \n",
    "    for i in range(0,data.shape[1],hours):\n",
    "        test_x_18.append(data[:,i:i+hours].reshape(-1))\n",
    "        test_x_1.append(data[9,i:i+hours].reshape(-1))\n",
    "        \n",
    "    test_x_18 = np.array(test_x_18)\n",
    "    test_x_1 = np.array(test_x_1)\n",
    "    \n",
    "    test_x_18[test_x_18 == 'NR'] = 0\n",
    "    test_x_18 = test_x_18.astype(np.float64)\n",
    "    test_x_1 = test_x_1.astype(np.float64)\n",
    "    return test_x_18, test_x_1\n",
    "\n",
    "def get_test_data_s(data,hours):\n",
    "    test_x_18 = []\n",
    "    test_x_1 = []\n",
    "    \n",
    "    for i in range(0,data.shape[1],9):\n",
    "        test_x_18.append(data[:,i+hours-1:i+9].reshape(-1))\n",
    "        test_x_1.append(data[9,i+hours-1:i+9].reshape(-1))\n",
    "        \n",
    "    test_x_18 = np.array(test_x_18)\n",
    "    test_x_1 = np.array(test_x_1)\n",
    "    \n",
    "    test_x_18[test_x_18 == 'NR'] = 0\n",
    "    test_x_18 = test_x_18.astype(np.float64)\n",
    "    test_x_1 = test_x_1.astype(np.float64)\n",
    "    return test_x_18, test_x_1"
   ]
  },
  {
   "cell_type": "code",
   "execution_count": 40,
   "metadata": {},
   "outputs": [
    {
     "name": "stdout",
     "output_type": "stream",
     "text": [
      "(5751, 162)\n",
      "(5751, 9)\n",
      "(5751,)\n",
      "(5755, 90)\n",
      "(5755, 5)\n",
      "(5755,)\n",
      "(240, 162)\n",
      "(240, 9)\n",
      "(240, 90)\n",
      "(240, 5)\n"
     ]
    }
   ],
   "source": [
    "train_x_18_9, train_x_1_9, train_y_9 = get_train_data(train_data,9)\n",
    "print(train_x_18_9.shape)\n",
    "print(train_x_1_9.shape)\n",
    "print(train_y_9.shape)\n",
    "\n",
    "train_x_18_5, train_x_1_5, train_y_5 = get_train_data(train_data,5)\n",
    "print(train_x_18_5.shape)\n",
    "print(train_x_1_5.shape)\n",
    "print(train_y_5.shape)\n",
    "\n",
    "test_x_18_9, test_x_1_9 = get_test_data(test_data,9)\n",
    "print(test_x_18_9.shape)\n",
    "print(test_x_1_9.shape)\n",
    "\n",
    "test_x_18_5, test_x_1_5 = get_test_data_s(test_data,5)\n",
    "print(test_x_18_5.shape)\n",
    "print(test_x_1_5.shape)"
   ]
  },
  {
   "cell_type": "code",
   "execution_count": 41,
   "metadata": {
    "collapsed": true
   },
   "outputs": [],
   "source": [
    "# add bias term\n",
    "train_x_18_9 = np.hstack([train_x_18_9,np.ones((train_x_18_9.shape[0],1))])\n",
    "train_x_1_9 = np.hstack([train_x_1_9,np.ones((train_x_1_9.shape[0],1))])\n",
    "test_x_18_9 = np.hstack([test_x_18_9,np.ones((test_x_18_9.shape[0],1))])\n",
    "test_x_1_9 = np.hstack([test_x_1_9,np.ones((test_x_1_9.shape[0],1))])\n",
    "\n",
    "train_x_18_5 = np.hstack([train_x_18_5,np.ones((train_x_18_5.shape[0],1))])\n",
    "train_x_1_5 = np.hstack([train_x_1_5,np.ones((train_x_1_5.shape[0],1))])\n",
    "test_x_18_5 = np.hstack([test_x_18_5,np.ones((test_x_18_5.shape[0],1))])\n",
    "test_x_1_5 = np.hstack([test_x_1_5,np.ones((test_x_1_5.shape[0],1))])"
   ]
  },
  {
   "cell_type": "code",
   "execution_count": 42,
   "metadata": {
    "collapsed": true
   },
   "outputs": [],
   "source": [
    "def Adagrad(train_x,train_y,lr,iterations,lamda = 0):\n",
    "    w = np.zeros((train_x.shape[1]))\n",
    "    cost = []\n",
    "    prev_gra = 0\n",
    "\n",
    "    for i in range(iterations):\n",
    "        pre = train_x.dot(w)\n",
    "        loss = pre - train_y\n",
    "        gradient = 2*np.dot(train_x.T,loss)/train_x.shape[0] + lamda*w\n",
    "        prev_gra += gradient**2\n",
    "        ada = np.sqrt(prev_gra)\n",
    "        w -= lr*gradient/ada\n",
    "        cost.append((np.sum(loss**2)/train_x.shape[0]))\n",
    "    return w,cost"
   ]
  },
  {
   "cell_type": "code",
   "execution_count": 43,
   "metadata": {
    "collapsed": true
   },
   "outputs": [],
   "source": [
    "def output_result(filename,predict_value):\n",
    "    id_ = []\n",
    "    for i in range(predict_value.shape[0]):\n",
    "        temp = 'id_'+str(i)\n",
    "        id_.append(temp)\n",
    "    output = pd.DataFrame(columns=['id','value'])\n",
    "    output['id'] = id_\n",
    "    output['value'] = predict_value\n",
    "    output.to_csv(filename,index = False)\n",
    "    \n",
    "    print(output.head())"
   ]
  },
  {
   "cell_type": "code",
   "execution_count": 44,
   "metadata": {},
   "outputs": [
    {
     "name": "stdout",
     "output_type": "stream",
     "text": [
      "735.81424848\n",
      "39.7102721142\n",
      "39.5815709614\n",
      "39.5815709614\n",
      "39.5815709614\n"
     ]
    }
   ],
   "source": [
    "# 1 feature 5 hour\n",
    "opt_cost = 100\n",
    "opt_w = np.ones((train_x_1_5.shape[1]))\n",
    "for i in [0,0.02,0.1,1,5]:\n",
    "    w,cost = Adagrad(train_x_1_5,train_y_5,i,20000)\n",
    "    if(cost[-1] < opt_cost):\n",
    "        opt_cost = cost[-1]\n",
    "        opt_w = w\n",
    "    print(cost[-1])"
   ]
  },
  {
   "cell_type": "code",
   "execution_count": 45,
   "metadata": {},
   "outputs": [
    {
     "name": "stdout",
     "output_type": "stream",
     "text": [
      "     id      value\n",
      "0  id_0   3.823649\n",
      "1  id_1  15.379179\n",
      "2  id_2  24.413549\n",
      "3  id_3   6.280863\n",
      "4  id_4  26.673194\n"
     ]
    }
   ],
   "source": [
    "pre = np.dot(test_x_1_5,opt_w)\n",
    "output_result('output_rp1_5.csv',pre)"
   ]
  },
  {
   "cell_type": "code",
   "execution_count": 46,
   "metadata": {},
   "outputs": [
    {
     "name": "stdout",
     "output_type": "stream",
     "text": [
      "35.3330471747\n",
      "35.1130789792\n",
      "35.1115177128\n"
     ]
    }
   ],
   "source": [
    "# 18 feature 5 hour\n",
    "opt_cost = 100\n",
    "opt_w = np.ones((train_x_18_5.shape[1]))\n",
    "for i in [0.01,0.02,0.03]:\n",
    "    w,cost = Adagrad(train_x_18_5,train_y_5,i,20000)\n",
    "    if(cost[-1] < opt_cost):\n",
    "        opt_cost = cost[-1]\n",
    "        opt_w = w\n",
    "    print(cost[-1])"
   ]
  },
  {
   "cell_type": "code",
   "execution_count": 47,
   "metadata": {},
   "outputs": [
    {
     "name": "stdout",
     "output_type": "stream",
     "text": [
      "     id      value\n",
      "0  id_0   4.029894\n",
      "1  id_1  16.141520\n",
      "2  id_2  23.398910\n",
      "3  id_3   6.590351\n",
      "4  id_4  26.251778\n"
     ]
    }
   ],
   "source": [
    "pre = np.dot(test_x_18_5,opt_w)\n",
    "output_result('output_rp18_5.csv',pre)"
   ]
  },
  {
   "cell_type": "code",
   "execution_count": 55,
   "metadata": {},
   "outputs": [
    {
     "data": {
      "text/plain": [
       "<matplotlib.figure.Figure at 0x7fe9ab449128>"
      ]
     },
     "metadata": {},
     "output_type": "display_data"
    },
    {
     "data": {
      "image/png": "[encoded data removed]",
      "text/plain": [
       "<matplotlib.figure.Figure at 0x7fe9b3744cf8>"
      ]
     },
     "metadata": {},
     "output_type": "display_data"
    }
   ],
   "source": [
    "# 1 feature 9 hour\n",
    "opt_cost = 100\n",
    "opt_w = np.ones((train_x_1_9.shape[1]))\n",
    "plt.figure(figsize=(12,8))\n",
    "plt.title('Regularization graph for 1 feature')\n",
    "plt.xlabel('Iterations')\n",
    "plt.ylabel('RMSE')\n",
    "for i in [0.1,0.01,0.001,0.0001]:\n",
    "    w,cost = Adagrad(train_x_1_9,train_y_9,i,20000)\n",
    "#     if(cost[-1] < opt_cost):\n",
    "#         opt_cost = cost[-1]\n",
    "#         opt_w = w\n",
    "#     print(cost[-1])\n",
    "    x = [i for i in range(20000)]\n",
    "    y = np.array(cost)**0.5\n",
    "    plt.plot(x,y,label=f'lamda is {i}')\n",
    "plt.legend(loc = 'upper right')\n",
    "plt.show()\n",
    "plt.savefig('regularization_1.png')"
   ]
  },
  {
   "cell_type": "code",
   "execution_count": 21,
   "metadata": {},
   "outputs": [
    {
     "name": "stdout",
     "output_type": "stream",
     "text": [
      "     id      value\n",
      "0  id_0   5.367199\n",
      "1  id_1  16.506260\n",
      "2  id_2  23.681022\n",
      "3  id_3   6.576869\n",
      "4  id_4  27.221750\n"
     ]
    }
   ],
   "source": [
    "pre = np.dot(test_x_1_9,opt_w)\n",
    "output_result('output_rp1.csv',pre)"
   ]
  },
  {
   "cell_type": "code",
   "execution_count": 56,
   "metadata": {},
   "outputs": [
    {
     "data": {
      "text/plain": [
       "<matplotlib.figure.Figure at 0x7fe9ab1de080>"
      ]
     },
     "metadata": {},
     "output_type": "display_data"
    },
    {
     "data": {
      "image/png": "[encoded data removed]",
      "text/plain": [
       "<matplotlib.figure.Figure at 0x7fe9b35bd0f0>"
      ]
     },
     "metadata": {},
     "output_type": "display_data"
    }
   ],
   "source": [
    "# 1 feature 9 hour\n",
    "opt_cost = 100\n",
    "opt_w = np.ones((train_x_18_9.shape[1]))\n",
    "plt.figure(figsize=(12,8))\n",
    "plt.title('Regularization graph for 18 feature')\n",
    "plt.xlabel('Iterations')\n",
    "plt.ylabel('RMSE')\n",
    "for i in [0.1,0.01,0.001,0.0001]:\n",
    "    w,cost = Adagrad(train_x_18_9,train_y_9,i,20000)\n",
    "#     if(cost[-1] < opt_cost):\n",
    "#         opt_cost = cost[-1]\n",
    "#         opt_w = w\n",
    "#     print(cost[-1])\n",
    "    x = [i for i in range(20000)]\n",
    "    y = np.array(cost)**0.5\n",
    "    plt.plot(x,y,label=f'lamda is {i}')\n",
    "plt.legend(loc = 'upper right')\n",
    "plt.show()\n",
    "plt.savefig('regularization_18.png')"
   ]
  },
  {
   "cell_type": "code",
   "execution_count": 13,
   "metadata": {},
   "outputs": [
    {
     "name": "stdout",
     "output_type": "stream",
     "text": [
      "     id      value\n",
      "0  id_0   5.246913\n",
      "1  id_1  17.055572\n",
      "2  id_2  24.077396\n",
      "3  id_3   7.815355\n",
      "4  id_4  26.901141\n"
     ]
    }
   ],
   "source": [
    "pre = np.dot(test_x_18_9,opt_w)\n",
    "output_result('output_rp18.csv',pre)"
   ]
  },
  {
   "cell_type": "code",
   "execution_count": 8,
   "metadata": {
    "collapsed": true
   },
   "outputs": [],
   "source": [
    "def rmse(pre,test):\n",
    "    tmp = 0\n",
    "    for i,p in enumerate(pre):\n",
    "        tmp += (p-test[i])**2\n",
    "    return (tmp/pre.shape[0])**0.5"
   ]
  },
  {
   "cell_type": "code",
   "execution_count": null,
   "metadata": {
    "collapsed": true
   },
   "outputs": [],
   "source": []
  }
 ],
 "metadata": {
  "kernelspec": {
   "display_name": "Python 3",
   "language": "python",
   "name": "python3"
  },
  "language_info": {
   "codemirror_mode": {
    "name": "ipython",
    "version": 3
   },
   "file_extension": ".py",
   "mimetype": "text/x-python",
   "name": "python",
   "nbconvert_exporter": "python",
   "pygments_lexer": "ipython3",
   "version": "3.6.3"
  }
 },
 "nbformat": 4,
 "nbformat_minor": 2
}
